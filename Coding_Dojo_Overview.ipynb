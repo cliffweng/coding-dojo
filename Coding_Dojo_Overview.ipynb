{
 "cells": [
  {
   "cell_type": "markdown",
   "metadata": {},
   "source": [
    "## Coding Dojo\n",
    "by [Cliff Weng](https://github.com/cliffweng). This course is on [github](https://cliffweng.github.io/coding-dojo/)\n",
    "\n",
    "### Chapter 1. Language Basics\n",
    "- [Lesson 1. Hello World](python/1_HelloWorld.ipynb)\n",
    "- [Lesson 2. Variables](python/2_Variables.ipynb)\n",
    "- [Lesson 3. Data Types](python/3_DataTypes.ipynb)\n",
    "- [Lesson 4. Control and Loops](python/4_ControlLoop.ipynb)\n",
    "\n",
    "### Chapter 2. Advanced Concepts\n",
    "- [Lesson 5. String, List & Array](python/5_StringListArray.ipynb)\n",
    "- [Lesson 6. Data Structures](python/6_DataStructures1.ipynb) and [part II](python/6A_DataStructures2.ipynb)\n",
    "- [Lesson 7. Functions](python/7_Functions.ipynb)\n",
    "- [Lesson 8. Classes](python/8_Classes.ipynb)\n",
    "- [Lesson 9. Files](python/9_Files.ipynb)"
   ]
  },
  {
   "cell_type": "markdown",
   "metadata": {},
   "source": [
    "### Chapter 3. Big Data\n",
    "- [Lesson 1. Numpy](bigdata/1_Numpy.ipynb) - [part II](bigdata/1A_Numpy.ipynb)\n",
    "- [Lesson 2. Pandas Basic](bigdata/2_Pandas.ipynb) - [part II](bigdata/2A_Pandas.ipynb)\n",
    "- [Lesson 3. Pandas Advanced](bigdata/3_Pandas_Adv.ipynb) - [part II](bigdata/3A_Pandas_Adv.ipynb)\n",
    "- [Lesson 4. Matplotlib](bigdata/4_Matplotlib.ipynb) - [Pandas Visualization](bigdata/4A_Pandas_Visualization.ipynb)\n",
    "- [Lesson 5. Seaborn](bigdata/5_Seaborn.ipynb)\n",
    "- [Lesson 6. Data Cleaning](bigdata/6_Data_Cleaning.ipynb)\n",
    "\n",
    "After completing these, please continue learning on [Kaggle](https://www.kaggle.com/learn/overview)\n",
    "\n",
    "### Chapter 4. Statistics\n",
    "- [Lesson 1. Probability Distributions](math/1_Probability_Distributions.ipynb) Common statistical distributions [link](https://www.datacamp.com/community/tutorials/probability-distributions-python)\n",
    "- [Lesson 2. Descriptive Statistics](math/2_Descriptive_Statistics.ipynb) central tendency and dispersion [link](https://data-flair.training/blogs/python-descriptive-statistics/)\n",
    "- [Lesson 3. Correlation](math/3_Correlation.ipynb) correlation and covariance [link](https://machinelearningmastery.com/how-to-use-correlation-to-understand-the-relationship-between-variables/) p-Value, T-test, KS Test [link](https://data-flair.training/blogs/python-statistics/)\n",
    "- [Lesson 4. Joint/Marginal/Conditional Distributions](math/4_Joint_Distributions.ipynb) joint distributions [link](https://pythonhosted.org/prob140/joint_tutorial.html) marginal/conditional distributions [link](https://hadrienj.github.io/posts/Marginal-and-Conditional-Probability/)\n",
    "- [Lesson 5. Central Limit Theorem](math/5_Central_Limit_Theorem.ipynb) central limit theorem [link](https://machinelearningmastery.com/a-gentle-introduction-to-the-central-limit-theorem-for-machine-learning/) [link II](https://towardsdatascience.com/central-limit-theorem-explained-with-python-code-230884d40ce0)\n",
    "- [Lesson 6. Confidence Intervals](math/6_Confidence_Intervals.ipynb) confidence intervals [link](https://towardsdatascience.com/a-complete-guide-to-confidence-interval-and-examples-in-python-ff417c5cb593) and zscore [link](https://medium.com/analytics-vidhya/z-scores-and-standard-deviation-in-python-ae71803b332b)\n",
    "\n",
    "### Chapter 5. Machine Learning\n",
    "- [Lesson 1. Introduction](ml/1_Introduction.ipynb)\n",
    "- [Lesson 2. Classification](ml/2_Classification.ipynb)\n",
    "- [Lesson 3. CLustering](ml/3_Clustering.ipynb)\n",
    "- [Lesson 3. Regression Analysis](ml/4_Regression.ipynb)\n"
   ]
  },
  {
   "cell_type": "markdown",
   "metadata": {},
   "source": [
    "### Chapter 6. USACO\n",
    "\n",
    "Register on the following sites:\n",
    "- http://www.usaco.org/ Official USACO site\n",
    "- https://usaco.guide/ Semi-official site maintained by former \n",
    "- https://train.usaco.org/ Online training\n",
    "\n",
    "[Bronze](https://usaco.guide/bronze/) level\n",
    "- [Lesson 0. Getting Started](usaco/0_Geting_Started.ipynb)\n",
    "- [Lesson 1. Simulation](usaco/1_Simulation.ipynb)\n",
    "- [Lesson 2. Complete Search](usaco/2_Complete_Search.ipynb)\n",
    "- [Lesson 3. Intro to Graphs](usaco/3_Intro_Graphs.ipynb)\n",
    "- [Lesson 4. Greedy Algorithm](usaco/4_Greedy_Algorithm.ipynb)\n",
    "- [Lesson 5. Other Bronze Problems](usaco/5_Other_Bronze.ipynb)\n",
    "    - [Time Complexity](usaco/5A_Time_Complexity.ipynb)\n",
    "    - [Sets & Maps](usaco/5A_Sets_Maps.ipynb)\n",
    "    - [Intro Sorting](usaco/5A_Intro_Sorting.ipynb)\n",
    "    - [Rectangle Geometry](usaco/5A_Rectangle_Geometry.ipynb)\n",
    "\n",
    "\n",
    "[Siver](https://usaco.guide/silver/) level\n",
    "\n",
    "- [Lesson 6. Sorting 1](usaco/6_Sorting.ipynb) [part II](usaco/6A_Sorting.ipynb)\n",
    "- [Lesson 7. Graphs](usaco/7_Graphs.ipynb)\n",
    "- [Lesson 8. Misc](usaco/8_Misc.ipynb)\n",
    "\n",
    "\n",
    "### Chapter 7. Special Topics\n",
    "Good for hackthon but not for USACO nor SODA\n",
    "- [Lesson 1. Packaging](python/A1_Packaging.ipynb)\n",
    "- [Lesson 2. Web Server](python/A2_WebServer.ipynb)\n",
    "- [Lesson 3. Web Scraping](python/A3_WebScraping.ipynb)\n",
    "\n",
    "### Chapter 8. Research Topics\n",
    "Research Topics\n",
    "- [Lesson 1. Stock](research/1_Stocks.ipynb)\n",
    "- [Lesson 2. Market Data](research/2_MarketData.ipynb)\n",
    "- [Lesson 3. Explore Vast Public Datasets](research/3_PublicDatasets.ipynb)\n"
   ]
  }
 ],
 "metadata": {
  "kernelspec": {
   "display_name": "Python 3",
   "language": "python",
   "name": "python3"
  },
  "language_info": {
   "codemirror_mode": {
    "name": "ipython",
    "version": 3
   },
   "file_extension": ".py",
   "mimetype": "text/x-python",
   "name": "python",
   "nbconvert_exporter": "python",
   "pygments_lexer": "ipython3",
   "version": "3.9.1"
  }
 },
 "nbformat": 4,
 "nbformat_minor": 4
}
