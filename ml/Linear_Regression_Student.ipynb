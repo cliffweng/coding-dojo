{
 "cells": [
  {
   "cell_type": "markdown",
   "metadata": {
    "id": "UZnEnGz8aNi6"
   },
   "source": [
    "![](https://stimg.cardekho.com/pwa/img/CarDekho-Logo.svg)"
   ]
  },
  {
   "cell_type": "markdown",
   "metadata": {
    "id": "zUo9E0C_hdMI"
   },
   "source": [
    "# Introduction to Linear Regression: Buying the Right Car 🚗\n"
   ]
  },
  {
   "cell_type": "markdown",
   "metadata": {
    "id": "h0qdbJsIZzTC"
   },
   "source": [
    "## Intro\n"
   ]
  },
  {
   "cell_type": "markdown",
   "metadata": {
    "id": "INvuUkKxZ2H1"
   },
   "source": [
    "Imagine this...\n",
    "\n",
    "You've been working for a year as a data expert and finally save enough money to buy a car. Being a thrifty data expert, you want to get the best bang for your buck. \n",
    "\n",
    "Imagine that you also have data from the car website [CarDekho](https://www.cardekho.com/), which has information on a wide variety of cars, including their price. You realize that you can use that data to make sure you get a good deal on a new car. In particular, you can figure out exactly how much you should pay for a specific type of car. This can be especially helpful if you run into a tricky car salesperson! \n",
    "\n",
    "But the question is how can you use the data to figure out how much you should pay? \n",
    "\n",
    "You can use Linear Regression! \n",
    "\n",
    "Linear Regression is a method for discovering the relationship between two variables in the dataset, such as price of the car and the year it was made. Data Scientists rely on this method for solving a wide range of problems, especially when it comes to prediction. \n",
    "\n",
    "Let's get started! \n",
    "\n",
    "**In this notebook, we'll:**\n",
    "- Fetch and explore a dataset of cars\n",
    "- Visualize our dataset with graphs\n",
    "- Use linear regression to make predictions\n",
    "- Optional: Use multiple linear regression to make better predictions\n",
    "- Challenge: Discover the best-value cars!\n"
   ]
  },
  {
   "cell_type": "markdown",
   "metadata": {
    "id": "d-zYd2aI8Lt4"
   },
   "source": [
    "## Fetching the Data \n",
    "\n",
    "\n"
   ]
  },
  {
   "cell_type": "markdown",
   "metadata": {
    "id": "jaxKGdjzGj9e"
   },
   "source": [
    "We will use a very common data science library called `Pandas` to load the dataset into this notebook. Using `pandas` we can read our datafile (`car_dekho.csv`) with the line below. Our data will then be assigned and stored under the variable `car_data`.  \n"
   ]
  },
  {
   "cell_type": "code",
   "execution_count": 3,
   "metadata": {},
   "outputs": [],
   "source": [
    "#@title Run this to import libraries and your data! { display-mode: \"form\" }\n",
    "import pandas as pd   # Great for tables (google spreadsheets, microsoft excel, csv). \n",
    "import os # Good for navigating your computer's files\n",
    "# Quiet deprecation warnings\n",
    "import warnings\n",
    "warnings.filterwarnings(\"ignore\") "
   ]
  },
  {
   "cell_type": "code",
   "execution_count": 1,
   "metadata": {
    "id": "rPGdfBzdvxwD"
   },
   "outputs": [
    {
     "name": "stdout",
     "output_type": "stream",
     "text": [
      "car_dekho.csv.1     100%[===================>]  13.91K  --.-KB/s    in 0.008s  \n"
     ]
    }
   ],
   "source": [
    "# Our dataset is hosted on Google Cloud. Here's how we can grab it:\n",
    "!wget -q --show-progress \"https://storage.googleapis.com/inspirit-ai-data-bucket-1/Data/AI%20Scholars/Sessions%201%20-%205/Session%202a%20-%20Linear%20Regression/car_dekho.csv\""
   ]
  },
  {
   "cell_type": "code",
   "execution_count": 4,
   "metadata": {
    "id": "mbwTcjiE4FGx"
   },
   "outputs": [],
   "source": [
    "# read our data in using 'pd.read_csv('file')'\n",
    "data_path  = 'car_dekho.csv'\n",
    "car_data = pd.read_csv(data_path)"
   ]
  },
  {
   "cell_type": "markdown",
   "metadata": {
    "id": "v5GSzhiPxP61"
   },
   "source": [
    "##Exploring the Data  \n",
    "\n",
    "\n"
   ]
  },
  {
   "cell_type": "markdown",
   "metadata": {
    "id": "MyhuZhuhGquy"
   },
   "source": [
    "Great! Now that we have the data from CarDekho we can start exploring it. Running the cell below will output the first five rows in the data. Each row corresponds to a specific car on sale and each column details information about that car. See if you can already spot any pieces of information that might help you find your perfect car. \n"
   ]
  },
  {
   "cell_type": "code",
   "execution_count": 5,
   "metadata": {
    "id": "l6Cu2xokskC9"
   },
   "outputs": [
    {
     "data": {
      "text/html": [
       "<div>\n",
       "<style scoped>\n",
       "    .dataframe tbody tr th:only-of-type {\n",
       "        vertical-align: middle;\n",
       "    }\n",
       "\n",
       "    .dataframe tbody tr th {\n",
       "        vertical-align: top;\n",
       "    }\n",
       "\n",
       "    .dataframe thead th {\n",
       "        text-align: right;\n",
       "    }\n",
       "</style>\n",
       "<table border=\"1\" class=\"dataframe\">\n",
       "  <thead>\n",
       "    <tr style=\"text-align: right;\">\n",
       "      <th></th>\n",
       "      <th>Car_Name</th>\n",
       "      <th>Age</th>\n",
       "      <th>Selling_Price</th>\n",
       "      <th>Kms_Driven</th>\n",
       "      <th>Fuel_Type</th>\n",
       "      <th>Seller_Type</th>\n",
       "      <th>Transmission</th>\n",
       "    </tr>\n",
       "  </thead>\n",
       "  <tbody>\n",
       "    <tr>\n",
       "      <th>0</th>\n",
       "      <td>ritz</td>\n",
       "      <td>5</td>\n",
       "      <td>3.35</td>\n",
       "      <td>27000</td>\n",
       "      <td>Petrol</td>\n",
       "      <td>Dealer</td>\n",
       "      <td>Manual</td>\n",
       "    </tr>\n",
       "    <tr>\n",
       "      <th>1</th>\n",
       "      <td>sx4</td>\n",
       "      <td>6</td>\n",
       "      <td>4.75</td>\n",
       "      <td>43000</td>\n",
       "      <td>Diesel</td>\n",
       "      <td>Dealer</td>\n",
       "      <td>Manual</td>\n",
       "    </tr>\n",
       "    <tr>\n",
       "      <th>2</th>\n",
       "      <td>ciaz</td>\n",
       "      <td>2</td>\n",
       "      <td>7.25</td>\n",
       "      <td>6900</td>\n",
       "      <td>Petrol</td>\n",
       "      <td>Dealer</td>\n",
       "      <td>Manual</td>\n",
       "    </tr>\n",
       "    <tr>\n",
       "      <th>3</th>\n",
       "      <td>wagon r</td>\n",
       "      <td>8</td>\n",
       "      <td>2.85</td>\n",
       "      <td>5200</td>\n",
       "      <td>Petrol</td>\n",
       "      <td>Dealer</td>\n",
       "      <td>Manual</td>\n",
       "    </tr>\n",
       "    <tr>\n",
       "      <th>4</th>\n",
       "      <td>swift</td>\n",
       "      <td>5</td>\n",
       "      <td>4.60</td>\n",
       "      <td>42450</td>\n",
       "      <td>Diesel</td>\n",
       "      <td>Dealer</td>\n",
       "      <td>Manual</td>\n",
       "    </tr>\n",
       "  </tbody>\n",
       "</table>\n",
       "</div>"
      ],
      "text/plain": [
       "  Car_Name  Age  Selling_Price  Kms_Driven Fuel_Type Seller_Type Transmission\n",
       "0     ritz    5           3.35       27000    Petrol      Dealer       Manual\n",
       "1      sx4    6           4.75       43000    Diesel      Dealer       Manual\n",
       "2     ciaz    2           7.25        6900    Petrol      Dealer       Manual\n",
       "3  wagon r    8           2.85        5200    Petrol      Dealer       Manual\n",
       "4    swift    5           4.60       42450    Diesel      Dealer       Manual"
      ]
     },
     "execution_count": 5,
     "metadata": {},
     "output_type": "execute_result"
    }
   ],
   "source": [
    "# let's look at our 'dataframe'. Dataframes are just like google or excel spreadsheets. \n",
    "# use the 'head' method to show the first five rows of the table as well as their names. \n",
    "car_data.head() "
   ]
  },
  {
   "cell_type": "markdown",
   "metadata": {
    "id": "epUu2iXvoGSh"
   },
   "source": [
    "**You'll probably wonder: what are the units of selling price? What does 3.35 mean?! Selling price is actually in lakhs.**"
   ]
  },
  {
   "cell_type": "markdown",
   "metadata": {
    "id": "VFDloI47yp4Q"
   },
   "source": [
    "Here is a visual representation of the dataset above. ![carcharts.png](https://i.postimg.cc/bNyjtBFT/Screen-Shot-2019-06-06-at-8-04-46-PM.png)\n"
   ]
  },
  {
   "cell_type": "markdown",
   "metadata": {
    "id": "xffj1ubcOrjW"
   },
   "source": [
    "### What do the columns in the data table represent?"
   ]
  },
  {
   "cell_type": "markdown",
   "metadata": {
    "id": "lxit_o6Lz2C_"
   },
   "source": [
    "Before diving deeper into the data we need to know what kind of information we have on each car. This is exactly what the columns in the data table are telling us. \n",
    "\n",
    "You can think about these columns as being the raw ingredients of any future model we build. A good cook knows about every ingredient they are using. Likewise, we need to know about each variable (column) in our dataset. Below are explanations of each one. \n",
    "\n",
    "* `Car_Name`: This column should be filled with the name of the car.\n",
    "\n",
    "* `Age`: The number of years since the car was made. \n",
    "\n",
    "* `Selling_Price`: The price the owner wants to sell the car at.\n",
    "\n",
    "* `Kms_Driven`: This is the distance completed by the car in km.\n",
    "\n",
    "* `Fuel_Type`: Fuel type of the car.\n",
    "\n",
    "* `Seller_Type`: Defines whether the seller is a dealer or an individual.\n",
    "\n",
    "* `Transmission`: Defines whether the car is manual or automatic.\n",
    "\n"
   ]
  },
  {
   "cell_type": "markdown",
   "metadata": {
    "id": "zm2lRfNQQLrc"
   },
   "source": [
    "Using code we can select columns in our data table to inspect them more closely. In the cell below we select the `Fuel_Type` column from our `car_data` variable (which is a dataframe) and then we output the first five rows using `.head()`"
   ]
  },
  {
   "cell_type": "code",
   "execution_count": 6,
   "metadata": {
    "id": "EHTwpnHHQnxE"
   },
   "outputs": [
    {
     "data": {
      "text/html": [
       "<div>\n",
       "<style scoped>\n",
       "    .dataframe tbody tr th:only-of-type {\n",
       "        vertical-align: middle;\n",
       "    }\n",
       "\n",
       "    .dataframe tbody tr th {\n",
       "        vertical-align: top;\n",
       "    }\n",
       "\n",
       "    .dataframe thead th {\n",
       "        text-align: right;\n",
       "    }\n",
       "</style>\n",
       "<table border=\"1\" class=\"dataframe\">\n",
       "  <thead>\n",
       "    <tr style=\"text-align: right;\">\n",
       "      <th></th>\n",
       "      <th>Fuel_Type</th>\n",
       "    </tr>\n",
       "  </thead>\n",
       "  <tbody>\n",
       "    <tr>\n",
       "      <th>0</th>\n",
       "      <td>Petrol</td>\n",
       "    </tr>\n",
       "    <tr>\n",
       "      <th>1</th>\n",
       "      <td>Diesel</td>\n",
       "    </tr>\n",
       "    <tr>\n",
       "      <th>2</th>\n",
       "      <td>Petrol</td>\n",
       "    </tr>\n",
       "    <tr>\n",
       "      <th>3</th>\n",
       "      <td>Petrol</td>\n",
       "    </tr>\n",
       "    <tr>\n",
       "      <th>4</th>\n",
       "      <td>Diesel</td>\n",
       "    </tr>\n",
       "  </tbody>\n",
       "</table>\n",
       "</div>"
      ],
      "text/plain": [
       "  Fuel_Type\n",
       "0    Petrol\n",
       "1    Diesel\n",
       "2    Petrol\n",
       "3    Petrol\n",
       "4    Diesel"
      ]
     },
     "execution_count": 6,
     "metadata": {},
     "output_type": "execute_result"
    }
   ],
   "source": [
    "car_data[['Fuel_Type']].head()"
   ]
  },
  {
   "cell_type": "markdown",
   "metadata": {
    "id": "NIjV-9YaRXMw"
   },
   "source": [
    "###Exercise ✍️\n",
    "\n",
    "In the cell below, select the `Car_Name` column from our `car_data` dataframe and then output the first five rows. \n"
   ]
  },
  {
   "cell_type": "code",
   "execution_count": 7,
   "metadata": {
    "id": "YBMt7iBLRymj"
   },
   "outputs": [
    {
     "data": {
      "text/html": [
       "<div>\n",
       "<style scoped>\n",
       "    .dataframe tbody tr th:only-of-type {\n",
       "        vertical-align: middle;\n",
       "    }\n",
       "\n",
       "    .dataframe tbody tr th {\n",
       "        vertical-align: top;\n",
       "    }\n",
       "\n",
       "    .dataframe thead th {\n",
       "        text-align: right;\n",
       "    }\n",
       "</style>\n",
       "<table border=\"1\" class=\"dataframe\">\n",
       "  <thead>\n",
       "    <tr style=\"text-align: right;\">\n",
       "      <th></th>\n",
       "      <th>Car_Name</th>\n",
       "    </tr>\n",
       "  </thead>\n",
       "  <tbody>\n",
       "    <tr>\n",
       "      <th>0</th>\n",
       "      <td>ritz</td>\n",
       "    </tr>\n",
       "    <tr>\n",
       "      <th>1</th>\n",
       "      <td>sx4</td>\n",
       "    </tr>\n",
       "    <tr>\n",
       "      <th>2</th>\n",
       "      <td>ciaz</td>\n",
       "    </tr>\n",
       "    <tr>\n",
       "      <th>3</th>\n",
       "      <td>wagon r</td>\n",
       "    </tr>\n",
       "    <tr>\n",
       "      <th>4</th>\n",
       "      <td>swift</td>\n",
       "    </tr>\n",
       "  </tbody>\n",
       "</table>\n",
       "</div>"
      ],
      "text/plain": [
       "  Car_Name\n",
       "0     ritz\n",
       "1      sx4\n",
       "2     ciaz\n",
       "3  wagon r\n",
       "4    swift"
      ]
     },
     "execution_count": 7,
     "metadata": {},
     "output_type": "execute_result"
    }
   ],
   "source": [
    "### YOUR CODE HERE\n",
    "car_data[['Car_Name']].head()\n",
    "### END CODE"
   ]
  },
  {
   "cell_type": "markdown",
   "metadata": {
    "id": "o0baPZC2yH4U"
   },
   "source": [
    "###  How big is our data set? \n"
   ]
  },
  {
   "cell_type": "markdown",
   "metadata": {
    "id": "sevCjN4NQOU1"
   },
   "source": [
    "Each row in the datatable represents a unique car. Using the information in the columns of the datatable you can select the car that best suits your taste.  \n",
    "\n",
    "If we only had a few cars to choose from this would be an easy task. But let's see how many rows we have in our datatable. Run the cell below to get the count of rows. \n"
   ]
  },
  {
   "cell_type": "code",
   "execution_count": 8,
   "metadata": {
    "id": "I6ZmiHEQ08Pw"
   },
   "outputs": [
    {
     "name": "stdout",
     "output_type": "stream",
     "text": [
      "301\n"
     ]
    }
   ],
   "source": [
    "# use the 'len' method to see how many rows are in our dataframe\n",
    "print(len(car_data))"
   ]
  },
  {
   "cell_type": "markdown",
   "metadata": {
    "id": "soQJOp5w1iVL"
   },
   "source": [
    "That's a lot of cars to look at one by one!\n",
    "\n",
    "Imagine that you are staring at a garage full of cars not knowing which one to choose. That is exactly where we are right now. \n",
    "\n",
    "[![ryan-searle-377260-unsplash.jpg](https://i.postimg.cc/15xbXsCp/ryan-searle-377260-unsplash.jpg)](https://postimg.cc/kDcTh3d4)\n",
    "\n",
    "\n",
    "\n",
    "How can you make your task easier? Luckily as a data expert you can use visualization to organize the cars by the most important variables. \n",
    "\n"
   ]
  },
  {
   "cell_type": "markdown",
   "metadata": {
    "id": "2Fe2IlJU9P78"
   },
   "source": [
    "##  Visualizing the Data\n"
   ]
  },
  {
   "cell_type": "markdown",
   "metadata": {
    "id": "hMhUPl1RGwMr"
   },
   "source": [
    "One way to look at the data is to use a scatter plot. A scatter plot is a two-dimensional data visualization that uses dots to represent the values obtained for two different variables - one plotted along the x-axis and the other plotted along the y-axis.  \n",
    "\n",
    "A scatter plot is used to understand the relationship between **two continuous variables.** \n",
    "\n",
    "Below, we'll use the `scatterplot` function from the `seaborn` library:  \n",
    "\n",
    ">`sns.scatterplot(x = 'feature_column', y = 'target_column', data = source_data_frame)`\n",
    "\n",
    "Run the cell below to plot `selling price` vs. `age`!"
   ]
  },
  {
   "cell_type": "code",
   "execution_count": 10,
   "metadata": {
    "id": "fgIcWjsA71bH"
   },
   "outputs": [
    {
     "data": {
      "text/plain": [
       "<AxesSubplot:xlabel='Age', ylabel='Selling_Price'>"
      ]
     },
     "execution_count": 10,
     "metadata": {},
     "output_type": "execute_result"
    },
    {
     "data": {
      "image/png": "[encoded data removed]",
      "text/plain": [
       "<Figure size 864x360 with 1 Axes>"
      ]
     },
     "metadata": {
      "needs_background": "light"
     },
     "output_type": "display_data"
    }
   ],
   "source": [
    "# first we'll grab our handy visualization tools\n",
    "import seaborn as sns\n",
    "import matplotlib.pyplot as plt\n",
    "plt.rcParams['figure.figsize'] = [12, 5] # set default size for the whole book\n",
    "\n",
    "# Each dot is a single example (row) from the dataframe, with its \n",
    "# x-value as `Age` and its y-value as `Selling_Price`\n",
    "sns.scatterplot(x = 'Age', y = 'Selling_Price', data = car_data)"
   ]
  },
  {
   "cell_type": "markdown",
   "metadata": {
    "id": "w5u2JrP_KXtm"
   },
   "source": [
    "### Question 💡\n"
   ]
  },
  {
   "cell_type": "markdown",
   "metadata": {
    "id": "IWp9KxMqKaTT"
   },
   "source": [
    "Data science is about understanding stories by looking at data visualizations. What do you hypothesize is going on in the scatter plot above? \n"
   ]
  },
  {
   "cell_type": "markdown",
   "metadata": {
    "id": "dHgYmiyE69aG"
   },
   "source": [
    "### Visualizing Categorical Data"
   ]
  },
  {
   "cell_type": "markdown",
   "metadata": {
    "id": "ynzdYvdJ6p3e"
   },
   "source": [
    "`Transmission` is another one of our variables. It can either be `Manual`or `Automatic`.  This is different than what we saw with `Selling_Price` in that `Transmission` is NOT a number. \n",
    "\n",
    "We call variables like `Transmission` categorical variables. \n",
    "\n"
   ]
  },
  {
   "cell_type": "markdown",
   "metadata": {
    "id": "OVPH1dlIcy4Q"
   },
   "source": [
    "### Question 💡\n",
    "Which of the other variables from our data table are categorical? "
   ]
  },
  {
   "cell_type": "markdown",
   "metadata": {
    "id": "v-Hais-UeP4W"
   },
   "source": [
    "There's a specific type of plot for visualizing categorical variables. This is `catplot`. Let's try it out!"
   ]
  },
  {
   "cell_type": "code",
   "execution_count": 11,
   "metadata": {
    "id": "rsl6jADc7FrR"
   },
   "outputs": [
    {
     "data": {
      "text/plain": [
       "<seaborn.axisgrid.FacetGrid at 0x7fa6f6174130>"
      ]
     },
     "execution_count": 11,
     "metadata": {},
     "output_type": "execute_result"
    },
    {
     "data": {
      "image/png": "[encoded data removed]",
      "text/plain": [
       "<Figure size 360x360 with 1 Axes>"
      ]
     },
     "metadata": {
      "needs_background": "light"
     },
     "output_type": "display_data"
    }
   ],
   "source": [
    "# you can do the same thing with categorical variables!! but you will use catplot instead\n",
    "sns.catplot(x = 'Fuel_Type', y = 'Selling_Price', data = car_data, kind = 'swarm', s = 2)"
   ]
  },
  {
   "cell_type": "markdown",
   "metadata": {
    "id": "rK32UcSrelwg"
   },
   "source": [
    "### Question 💡\n",
    "What do you take away from the plot above? "
   ]
  },
  {
   "cell_type": "markdown",
   "metadata": {
    "id": "LwSjJSDTdR6w"
   },
   "source": [
    "###Optional Exercise: Groupby ✍️\n",
    "\n",
    "Using the `groupby` function in `pandas`, count the number of `Petrol` vs. `Diesel` vs. `CNG` cars in your dataset. (Hint: the `.count()` function will come in handy!)"
   ]
  },
  {
   "cell_type": "code",
   "execution_count": 14,
   "metadata": {
    "id": "-Tm5tR_idbB5"
   },
   "outputs": [
    {
     "data": {
      "text/plain": [
       "Fuel_Type\n",
       "CNG         2\n",
       "Diesel     60\n",
       "Petrol    239\n",
       "Name: Fuel_Type, dtype: int64"
      ]
     },
     "execution_count": 14,
     "metadata": {},
     "output_type": "execute_result"
    }
   ],
   "source": [
    "### YOUR CODE HERE ###\n",
    "# https://sparkbyexamples.com/pandas/pandas-groupby-count-examples/\n",
    "car_data.groupby('Fuel_Type')['Fuel_Type'].count()"
   ]
  },
  {
   "cell_type": "markdown",
   "metadata": {
    "id": "4TNDDSFwMtFb"
   },
   "source": [
    "###  Exercise ✍️\n",
    "\n",
    "\n"
   ]
  },
  {
   "cell_type": "markdown",
   "metadata": {
    "id": "OLBkz9DEe0Ru"
   },
   "source": [
    "How do you think price will vary with `Kms_Driven`?\n",
    "\n",
    "Check your hypothesis against a plot!\n"
   ]
  },
  {
   "cell_type": "code",
   "execution_count": 22,
   "metadata": {
    "id": "ziyiqsFze7L-"
   },
   "outputs": [
    {
     "data": {
      "text/plain": [
       "<AxesSubplot:xlabel='Selling_Price', ylabel='Kms_Driven'>"
      ]
     },
     "execution_count": 22,
     "metadata": {},
     "output_type": "execute_result"
    },
    {
     "data": {
      "image/png": "[encoded data removed]",
      "text/plain": [
       "<Figure size 864x360 with 1 Axes>"
      ]
     },
     "metadata": {
      "needs_background": "light"
     },
     "output_type": "display_data"
    }
   ],
   "source": [
    "### YOUR CODE HERE\n",
    "sns.regplot(x=\"Selling_Price\", y=\"Kms_Driven\", data=car_data)\n",
    "\n",
    "### END CODE"
   ]
  },
  {
   "cell_type": "markdown",
   "metadata": {
    "id": "JjWE3B5LfZkY"
   },
   "source": [
    "### Question 💡\n",
    "Now that we've looked at our data for a few variables, let's take a step back, and ask:\n",
    "\n",
    "For each variable, do we expect a car to be more or less expensive? "
   ]
  },
  {
   "cell_type": "markdown",
   "metadata": {
    "id": "SSYYamfgfW1g"
   },
   "source": [
    "Try a couple:\n",
    "\n",
    "* `Seller_Type`\n",
    "* `Transmission`\n",
    "\n",
    "Investigate these with seaborn!\n",
    "\n",
    "Can you figure out what plotting function we should use here? Think about what type of data we are plotting. \n"
   ]
  },
  {
   "cell_type": "code",
   "execution_count": 27,
   "metadata": {
    "id": "2mFufuJ8fr6j"
   },
   "outputs": [
    {
     "data": {
      "text/plain": [
       "<AxesSubplot:xlabel='Selling_Price', ylabel='Kms_Driven'>"
      ]
     },
     "execution_count": 27,
     "metadata": {},
     "output_type": "execute_result"
    },
    {
     "data": {
      "image/png": "[encoded data removed]",
      "text/plain": [
       "<Figure size 864x360 with 1 Axes>"
      ]
     },
     "metadata": {
      "needs_background": "light"
     },
     "output_type": "display_data"
    }
   ],
   "source": [
    "### YOUR CODE HERE\n",
    "sns.regplot(x=\"Selling_Price\", y=\"Kms_Driven\", data=car_data[car_data['Transmission']=='Manual'])\n",
    "sns.regplot(x=\"Selling_Price\", y=\"Kms_Driven\", data=car_data[car_data['Transmission']=='Automatic'])\n",
    "### END CODE"
   ]
  },
  {
   "cell_type": "markdown",
   "metadata": {
    "id": "GY_5ltQS4s3C"
   },
   "source": [
    "## Linear Regression\n"
   ]
  },
  {
   "cell_type": "markdown",
   "metadata": {
    "id": "yILvpzZOgHVW"
   },
   "source": [
    "### Question 💡\n",
    "\n",
    "How would you *quantify* the relationship between age and selling price?"
   ]
  },
  {
   "cell_type": "markdown",
   "metadata": {
    "id": "l0CXOWJs7L29"
   },
   "source": [
    "### Linear Regression"
   ]
  },
  {
   "cell_type": "markdown",
   "metadata": {
    "id": "fABVpt6Y0qqY"
   },
   "source": [
    "Linear regression is a statistical approach to find and determine a relationship among an independent variable `x` and a dependent variable `y`. For us, our `x` is `Age` while our `y` is `Selling_Price`. In the below equation, linear regression helps us find the `m` and `b` that best relates our variables. In other words, we are trying to find a \"line of best fit\" for our variables `x` and `y`.\n",
    "\n",
    "$y= mx + b$\n",
    "\n",
    "[![Line of Best Fit](https://upload.wikimedia.org/wikipedia/commons/thumb/3/3a/Linear_regression.svg/400px-Linear_regression.svg.png)](https://upload.wikimedia.org/wikipedia/commons/thumb/3/3a/Linear_regression.svg/400px-Linear_regression.svg.png)\n",
    "\n",
    "Another way to say this is: we create a line that 'summarizes' the story that the data tells us. "
   ]
  },
  {
   "cell_type": "markdown",
   "metadata": {
    "id": "X9UiW3wdiuuA"
   },
   "source": [
    "**Let's explore linear regression through a demo!**\n",
    "\n",
    "[Playground!](http://setosa.io/ev/ordinary-least-squares-regression/)\n",
    "\n",
    "You might have spent some time on this site during lecture, but we ***highly recommmend*** you take some time to play around with this on your own. "
   ]
  },
  {
   "cell_type": "markdown",
   "metadata": {
    "id": "Ee5Y4woxjNvi"
   },
   "source": [
    "### Linear Regression in Python"
   ]
  },
  {
   "cell_type": "markdown",
   "metadata": {
    "id": "7-zKe6JKjhEz"
   },
   "source": [
    "We'll use `sklearn` to run our linear regression below"
   ]
  },
  {
   "cell_type": "code",
   "execution_count": 28,
   "metadata": {
    "id": "AyUa0zil_Asb"
   },
   "outputs": [],
   "source": [
    "import sklearn\n",
    "# let's pull our handy linear fitter from our 'prediction' toolbox: sklearn!\n",
    "from sklearn.linear_model import LinearRegression\n",
    "import numpy as np    # Great for lists (arrays) of numbers\n",
    "\n",
    "# Initializing our X and y variables.\n",
    "X = car_data[['Age']]\n",
    "y = car_data[['Selling_Price']]"
   ]
  },
  {
   "cell_type": "markdown",
   "metadata": {
    "id": "87t6fsAi56mZ"
   },
   "source": [
    "Let's take a look and see what `X` and `y` look like!"
   ]
  },
  {
   "cell_type": "code",
   "execution_count": 29,
   "metadata": {
    "id": "JZX_6FZx6Ayu"
   },
   "outputs": [
    {
     "name": "stdout",
     "output_type": "stream",
     "text": [
      "     Age\n",
      "0      5\n",
      "1      6\n",
      "2      2\n",
      "3      8\n",
      "4      5\n",
      "..   ...\n",
      "296    3\n",
      "297    4\n",
      "298   10\n",
      "299    2\n",
      "300    3\n",
      "\n",
      "[301 rows x 1 columns]\n"
     ]
    }
   ],
   "source": [
    "print(X)"
   ]
  },
  {
   "cell_type": "code",
   "execution_count": 30,
   "metadata": {
    "id": "jL5y_eUE6CSM"
   },
   "outputs": [
    {
     "name": "stdout",
     "output_type": "stream",
     "text": [
      "     Selling_Price\n",
      "0             3.35\n",
      "1             4.75\n",
      "2             7.25\n",
      "3             2.85\n",
      "4             4.60\n",
      "..             ...\n",
      "296           9.50\n",
      "297           4.00\n",
      "298           3.35\n",
      "299          11.50\n",
      "300           5.30\n",
      "\n",
      "[301 rows x 1 columns]\n"
     ]
    }
   ],
   "source": [
    "print(y)"
   ]
  },
  {
   "cell_type": "markdown",
   "metadata": {
    "id": "Q4-ie82v-PPE"
   },
   "source": [
    "Next, let's set up our model variable and train the model."
   ]
  },
  {
   "cell_type": "code",
   "execution_count": 31,
   "metadata": {
    "id": "fAfxYqFB3LlE"
   },
   "outputs": [
    {
     "data": {
      "text/plain": [
       "LinearRegression()"
      ]
     },
     "execution_count": 31,
     "metadata": {},
     "output_type": "execute_result"
    }
   ],
   "source": [
    "# set up our model\n",
    "linear = LinearRegression()\n",
    "\n",
    "# train the model \n",
    "linear.fit(X, y)"
   ]
  },
  {
   "cell_type": "code",
   "execution_count": 32,
   "metadata": {
    "cellView": "form",
    "id": "RReOkaEFpvjl"
   },
   "outputs": [
    {
     "data": {
      "image/png": "[encoded data removed]",
      "text/plain": [
       "<Figure size 864x360 with 1 Axes>"
      ]
     },
     "metadata": {
      "needs_background": "light"
     },
     "output_type": "display_data"
    }
   ],
   "source": [
    "#@title Visualize the fit with this cell!\n",
    "import matplotlib.pyplot as plt\n",
    "\n",
    "y_pred = linear.predict(X)\n",
    "plt.plot(X, y_pred, color='red')\n",
    "\n",
    "plt.scatter(X, y)\n",
    "plt.xlabel('Age') # set the labels of the x and y axes\n",
    "plt.ylabel('Selling_Price (lakhs)')\n",
    "plt.show()"
   ]
  },
  {
   "cell_type": "markdown",
   "metadata": {
    "id": "ouYw5bRKm0I2"
   },
   "source": [
    "## Optional: Interpreting our Model\n",
    "Remember! We were trying to find the best `b` and `m` to capture our data's story. We can grab this from the trained model. "
   ]
  },
  {
   "cell_type": "code",
   "execution_count": 33,
   "metadata": {
    "id": "eb33Iylem6cv"
   },
   "outputs": [
    {
     "name": "stdout",
     "output_type": "stream",
     "text": [
      "Our m in lakhs/year:  [[-0.41509169]]\n"
     ]
    }
   ],
   "source": [
    "print('Our m in lakhs/year: ', linear.coef_)"
   ]
  },
  {
   "cell_type": "markdown",
   "metadata": {
    "id": "hoVTkaNMuxM4"
   },
   "source": [
    "`m` says: The more recent a car is by one year, the selling price is `m` lakhs higher. "
   ]
  },
  {
   "cell_type": "markdown",
   "metadata": {
    "id": "eBBAeXP0pJ0h"
   },
   "source": [
    "### Question 💡\n",
    "\n",
    "Let's say you were deciding between a brand new car (2022) and the same model that was 3 years older (2019). How much cheaper should the older car be according to our model?"
   ]
  },
  {
   "cell_type": "markdown",
   "metadata": {
    "id": "oufwn6jRzicM"
   },
   "source": [
    "To complete the equation, we still need our intercept `b`"
   ]
  },
  {
   "cell_type": "code",
   "execution_count": 34,
   "metadata": {
    "id": "VSZ7OYSeyQKB"
   },
   "outputs": [
    {
     "name": "stdout",
     "output_type": "stream",
     "text": [
      "Our intercept b:  [6.89120688]\n"
     ]
    }
   ],
   "source": [
    "print('Our intercept b: ', linear.intercept_)"
   ]
  },
  {
   "cell_type": "markdown",
   "metadata": {
    "id": "mm7aNp8cbqHF"
   },
   "source": [
    "How should we interpret it? Using our `m` and `b` values, how do we find the price of the cars?"
   ]
  },
  {
   "cell_type": "markdown",
   "metadata": {
    "id": "AhWhJAsaug89"
   },
   "source": [
    "### Exercise ✍️"
   ]
  },
  {
   "cell_type": "markdown",
   "metadata": {
    "id": "uh0q6cXnwBqg"
   },
   "source": [
    "You go to a car salesperson to buy a nice used car. The car you want is a 2016 model and he offers to sell it for 7 lakh. Would you take it? If not, how much would you take it for? "
   ]
  },
  {
   "cell_type": "markdown",
   "metadata": {
    "id": "THk4wpo_3gT1"
   },
   "source": [
    "## (Optional) Single Linear Regression: Trying Different Inputs\n",
    "\n",
    "\n",
    "\n",
    "\n"
   ]
  },
  {
   "cell_type": "markdown",
   "metadata": {
    "id": "NWtHXBE74fIV"
   },
   "source": [
    "In order to try different inputs in linear regression, we will first need to learn how to convert categorical data into numerical data. Let's first learn how to do that with the `Transmission` variable. We can easily transform `Transmission` to a numeric variable by replacing `Manual` with `1` and `Automatic` with `0`."
   ]
  },
  {
   "cell_type": "code",
   "execution_count": 35,
   "metadata": {
    "id": "vukhDq7PsV8X"
   },
   "outputs": [],
   "source": [
    "car_data['TransmissionNumber'] = car_data['Transmission'].replace({'Manual':1, 'Automatic':0})"
   ]
  },
  {
   "cell_type": "markdown",
   "metadata": {
    "id": "FCiz4-xV5GOR"
   },
   "source": [
    "Now that we have `Transmission` converted, we can now check what our dataset looks like!"
   ]
  },
  {
   "cell_type": "code",
   "execution_count": 36,
   "metadata": {
    "id": "yS0heQCjrDdJ"
   },
   "outputs": [
    {
     "data": {
      "text/html": [
       "<div>\n",
       "<style scoped>\n",
       "    .dataframe tbody tr th:only-of-type {\n",
       "        vertical-align: middle;\n",
       "    }\n",
       "\n",
       "    .dataframe tbody tr th {\n",
       "        vertical-align: top;\n",
       "    }\n",
       "\n",
       "    .dataframe thead th {\n",
       "        text-align: right;\n",
       "    }\n",
       "</style>\n",
       "<table border=\"1\" class=\"dataframe\">\n",
       "  <thead>\n",
       "    <tr style=\"text-align: right;\">\n",
       "      <th></th>\n",
       "      <th>Car_Name</th>\n",
       "      <th>Age</th>\n",
       "      <th>Selling_Price</th>\n",
       "      <th>Kms_Driven</th>\n",
       "      <th>Fuel_Type</th>\n",
       "      <th>Seller_Type</th>\n",
       "      <th>Transmission</th>\n",
       "      <th>TransmissionNumber</th>\n",
       "    </tr>\n",
       "  </thead>\n",
       "  <tbody>\n",
       "    <tr>\n",
       "      <th>0</th>\n",
       "      <td>ritz</td>\n",
       "      <td>5</td>\n",
       "      <td>3.35</td>\n",
       "      <td>27000</td>\n",
       "      <td>Petrol</td>\n",
       "      <td>Dealer</td>\n",
       "      <td>Manual</td>\n",
       "      <td>1</td>\n",
       "    </tr>\n",
       "    <tr>\n",
       "      <th>1</th>\n",
       "      <td>sx4</td>\n",
       "      <td>6</td>\n",
       "      <td>4.75</td>\n",
       "      <td>43000</td>\n",
       "      <td>Diesel</td>\n",
       "      <td>Dealer</td>\n",
       "      <td>Manual</td>\n",
       "      <td>1</td>\n",
       "    </tr>\n",
       "    <tr>\n",
       "      <th>2</th>\n",
       "      <td>ciaz</td>\n",
       "      <td>2</td>\n",
       "      <td>7.25</td>\n",
       "      <td>6900</td>\n",
       "      <td>Petrol</td>\n",
       "      <td>Dealer</td>\n",
       "      <td>Manual</td>\n",
       "      <td>1</td>\n",
       "    </tr>\n",
       "    <tr>\n",
       "      <th>3</th>\n",
       "      <td>wagon r</td>\n",
       "      <td>8</td>\n",
       "      <td>2.85</td>\n",
       "      <td>5200</td>\n",
       "      <td>Petrol</td>\n",
       "      <td>Dealer</td>\n",
       "      <td>Manual</td>\n",
       "      <td>1</td>\n",
       "    </tr>\n",
       "    <tr>\n",
       "      <th>4</th>\n",
       "      <td>swift</td>\n",
       "      <td>5</td>\n",
       "      <td>4.60</td>\n",
       "      <td>42450</td>\n",
       "      <td>Diesel</td>\n",
       "      <td>Dealer</td>\n",
       "      <td>Manual</td>\n",
       "      <td>1</td>\n",
       "    </tr>\n",
       "  </tbody>\n",
       "</table>\n",
       "</div>"
      ],
      "text/plain": [
       "  Car_Name  Age  Selling_Price  Kms_Driven Fuel_Type Seller_Type Transmission  \\\n",
       "0     ritz    5           3.35       27000    Petrol      Dealer       Manual   \n",
       "1      sx4    6           4.75       43000    Diesel      Dealer       Manual   \n",
       "2     ciaz    2           7.25        6900    Petrol      Dealer       Manual   \n",
       "3  wagon r    8           2.85        5200    Petrol      Dealer       Manual   \n",
       "4    swift    5           4.60       42450    Diesel      Dealer       Manual   \n",
       "\n",
       "   TransmissionNumber  \n",
       "0                   1  \n",
       "1                   1  \n",
       "2                   1  \n",
       "3                   1  \n",
       "4                   1  "
      ]
     },
     "execution_count": 36,
     "metadata": {},
     "output_type": "execute_result"
    }
   ],
   "source": [
    "car_data.head()"
   ]
  },
  {
   "cell_type": "markdown",
   "metadata": {
    "id": "WAycD-GN4YxX"
   },
   "source": [
    "Now we're ready to try different values for `X` instead of just the `'Age'` column! If we want to try a categorical variable like `Transmission`, remember to convert it to numerical!"
   ]
  },
  {
   "cell_type": "code",
   "execution_count": 37,
   "metadata": {
    "id": "mvg2nPoU4Zak"
   },
   "outputs": [
    {
     "data": {
      "text/plain": [
       "LinearRegression()"
      ]
     },
     "execution_count": 37,
     "metadata": {},
     "output_type": "execute_result"
    }
   ],
   "source": [
    "#Initializing our X, y variables\n",
    "\n",
    "X_column = 'Age' # Feel free to try different inputs!\n",
    "X = car_data[[X_column]] \n",
    "y = car_data[['Selling_Price']]\n",
    "\n",
    "#Setting up model\n",
    "linear = LinearRegression()\n",
    "\n",
    "#Training\n",
    "linear.fit(X,y)"
   ]
  },
  {
   "cell_type": "code",
   "execution_count": 38,
   "metadata": {
    "cellView": "form",
    "id": "3SzJ11LM5WlX"
   },
   "outputs": [
    {
     "data": {
      "image/png": "[encoded data removed]",
      "text/plain": [
       "<Figure size 864x360 with 1 Axes>"
      ]
     },
     "metadata": {
      "needs_background": "light"
     },
     "output_type": "display_data"
    }
   ],
   "source": [
    "#@title Visualize the fit with this cell!\n",
    "import matplotlib.pyplot as plt\n",
    "\n",
    "y_pred = linear.predict(X)\n",
    "plt.plot(X, y_pred, color='red')\n",
    "\n",
    "plt.scatter(X, y)\n",
    "plt.xlabel(X_column) # Automated setup of axis labels\n",
    "plt.ylabel('Selling_Price (lakhs)')\n",
    "plt.show()"
   ]
  },
  {
   "cell_type": "markdown",
   "metadata": {
    "id": "24QbsTU_sTF3"
   },
   "source": [
    "## (Optional) Multiple Linear Regression: Using multiple inputs "
   ]
  },
  {
   "cell_type": "markdown",
   "metadata": {
    "id": "vYt0sZGgs6WP"
   },
   "source": [
    "Now that we've tried single linear regression with different inputs, we'll now try to make our model better by using multiple input variables, like `Kms_Driven` and `Transmission`. \n"
   ]
  },
  {
   "cell_type": "code",
   "execution_count": 39,
   "metadata": {
    "id": "Vv1sW8Cc1Ykc"
   },
   "outputs": [
    {
     "data": {
      "text/plain": [
       "LinearRegression(normalize=True)"
      ]
     },
     "execution_count": 39,
     "metadata": {},
     "output_type": "execute_result"
    }
   ],
   "source": [
    "X = car_data[['Age', 'TransmissionNumber', 'Kms_Driven']]\n",
    "\n",
    "# set up our model\n",
    "multiple = LinearRegression(fit_intercept = True, normalize = True)\n",
    "\n",
    "# train the model \n",
    "multiple.fit(X, y)"
   ]
  },
  {
   "cell_type": "markdown",
   "metadata": {
    "id": "Wc7akf7Y18Tb"
   },
   "source": [
    "How well did it do compared to our simple linear regression from before? We can actually compare the two with their 'scores'! The score is known as r-squared ($R^2$)."
   ]
  },
  {
   "cell_type": "code",
   "execution_count": 40,
   "metadata": {
    "id": "VeC3cB2V2C-1"
   },
   "outputs": [
    {
     "name": "stdout",
     "output_type": "stream",
     "text": [
      "Our single linear model had an R^2 of: 0.056\n"
     ]
    }
   ],
   "source": [
    "print('Our single linear model had an R^2 of: %0.3f'%linear.score(car_data[[X_column]], y)) "
   ]
  },
  {
   "cell_type": "code",
   "execution_count": 41,
   "metadata": {
    "id": "aWo3ld7S1m7i"
   },
   "outputs": [
    {
     "name": "stdout",
     "output_type": "stream",
     "text": [
      "Our multiple linear model had an R^2 of: 0.203\n"
     ]
    }
   ],
   "source": [
    "print('Our multiple linear model had an R^2 of: %0.3f'%multiple.score(X, y))"
   ]
  },
  {
   "cell_type": "markdown",
   "metadata": {
    "id": "JyWIZkKy2wgh"
   },
   "source": [
    "In real life, you wouldn't buy a car based on a single variable like `Age`. You would take into account a lot of different variables like our multiple linear model did!"
   ]
  },
  {
   "cell_type": "markdown",
   "metadata": {
    "id": "ATTq0EpXCrCH"
   },
   "source": [
    "### Exercise ✍️"
   ]
  },
  {
   "cell_type": "markdown",
   "metadata": {
    "id": "spVtP6qzCtao"
   },
   "source": [
    "You noticed that we did not include `Seller_Type` as one of the variables in our multiple linear regression. Figure out what steps you need to take to build a model with `Seller_Type` included. Check the $R^2$ to see if you do any better."
   ]
  },
  {
   "cell_type": "code",
   "execution_count": 43,
   "metadata": {
    "id": "TWIayxXADB_9"
   },
   "outputs": [
    {
     "name": "stdout",
     "output_type": "stream",
     "text": [
      "Our multiple linear model had an R^2 of: 0.462\n"
     ]
    }
   ],
   "source": [
    "### YOUR CODE HERE\n",
    "## car_data.groupby('Seller_Type')['Seller_Type'].count()\n",
    "\n",
    "car_data['Seller_Type_Number'] = car_data['Seller_Type'].replace({'Dealer':1, 'Individual':0})\n",
    "X = car_data[['Age', 'TransmissionNumber', 'Kms_Driven', 'Seller_Type_Number']]\n",
    "\n",
    "# set up our model\n",
    "multiple = LinearRegression(fit_intercept = True, normalize = True)\n",
    "\n",
    "# train the model \n",
    "multiple.fit(X, y)\n",
    "print('Our multiple linear model had an R^2 of: %0.3f'%multiple.score(X, y))\n",
    "### END CODE"
   ]
  },
  {
   "cell_type": "markdown",
   "metadata": {
    "id": "IMkNnu3jCsnB"
   },
   "source": [
    "## Challenge Section: Finding The Best Deal ✍️"
   ]
  },
  {
   "cell_type": "markdown",
   "metadata": {
    "id": "ldMwbTPVCyG7"
   },
   "source": [
    "Now that we've made a fit of each car's price using all the variables, we can now get make predictions to compare each car's predicted price to its actual one. We can see which cars are a good deal, and which are overpriced.\n",
    "\n",
    "First, let's start by making predictions with the fit we just created earlier. Feel free to look up sklearn or sci-kit learn's documentation [here](https://scikit-learn.org/stable/modules/generated/sklearn.linear_model.LinearRegression.html)! \\\\\n",
    "(**Hint:** Try to find a method that lets you make predictions with your model.)\n",
    "\n",
    "Then, let's make a scatterplot of predicted vs. real prices, using pyplot methods."
   ]
  },
  {
   "cell_type": "code",
   "execution_count": 52,
   "metadata": {
    "id": "qlaK1l05Dlp7"
   },
   "outputs": [
    {
     "data": {
      "image/png": "[encoded data removed]",
      "text/plain": [
       "<Figure size 864x360 with 1 Axes>"
      ]
     },
     "metadata": {
      "needs_background": "light"
     },
     "output_type": "display_data"
    }
   ],
   "source": [
    "plt.plot([-5,15],[-5,15]) #Drawing in the line of equality so we can compare\n",
    "plt.title(\"Predicted vs. Real Prices\")\n",
    "plt.xlabel(\"Real price\")\n",
    "plt.ylabel(\"Predicted price\")\n",
    "#TODO: Make our predictions using the model we just created. \n",
    "prediction = multiple.predict(X)\n",
    "#TODO: Fill in code here to add a scatterplot of predicted vs. real prices\n",
    "plt.scatter(y, prediction)\n",
    "plt.show()"
   ]
  },
  {
   "cell_type": "markdown",
   "metadata": {
    "id": "LOjEJfBbWler"
   },
   "source": [
    "There are a few weird things about this graph. Discuss:\n",
    "*   Which data points seem unusual? Which cars seem most overpriced, and which seem like the best deal?\n",
    "*   Do the data \"look linear\" overall? Are predicted prices equally likely to lie above or below the true price, no matter where we are in the graph?\n",
    "*   Some predicted prices seem impossible - which ones?\n",
    "\n",
    "These issues suggest that, no matter what our R^2 says, linear regression might not be the best model for this situation. A more complex model could make more accurate predictions.\n",
    "\n",
    "For now, let's stick with our linear regression. Let's add our predicted prices on to our data frame:\n",
    "\n"
   ]
  },
  {
   "cell_type": "code",
   "execution_count": 53,
   "metadata": {
    "id": "A4TzF-AdYCAs"
   },
   "outputs": [
    {
     "name": "stdout",
     "output_type": "stream",
     "text": [
      "    Car_Name  Age  Selling_Price  Kms_Driven Fuel_Type Seller_Type Transmission  TransmissionNumber  Seller_Type_Number  Prediction\n",
      "0       ritz    5           3.35       27000    Petrol      Dealer       Manual                   1                   1    6.032870\n",
      "1        sx4    6           4.75       43000    Diesel      Dealer       Manual                   1                   1    5.713381\n",
      "2       ciaz    2           7.25        6900    Petrol      Dealer       Manual                   1                   1    7.177459\n",
      "3    wagon r    8           2.85        5200    Petrol      Dealer       Manual                   1                   1    4.608766\n",
      "4      swift    5           4.60       42450    Diesel      Dealer       Manual                   1                   1    6.135938\n",
      "..       ...  ...            ...         ...       ...         ...          ...                 ...                 ...         ...\n",
      "296     city    3           9.50       33988    Diesel      Dealer       Manual                   1                   1    6.931938\n",
      "297     brio    4           4.00       60000    Petrol      Dealer       Manual                   1                   1    6.679239\n",
      "298     city   10           3.35       87934    Petrol      Dealer       Manual                   1                   1    4.308235\n",
      "299     city    2          11.50        9000    Diesel      Dealer       Manual                   1                   1    7.191468\n",
      "300     brio    3           5.30        5464    Petrol      Dealer       Manual                   1                   1    6.741654\n",
      "\n",
      "[301 rows x 10 columns]\n"
     ]
    }
   ],
   "source": [
    "pd.set_option('display.max_columns', 500)\n",
    "pd.set_option('display.width', 1000)\n",
    "\n",
    "car_data['Prediction'] = prediction\n",
    "print (car_data)"
   ]
  },
  {
   "cell_type": "markdown",
   "metadata": {
    "id": "l4aF4OJkYLSK"
   },
   "source": [
    "Now - assuming for now that the predicted scores are good ones - let's figure out the cars that are especially good or bad deals by comparing the real price to the predicted price.\n",
    "\n",
    "Come up with a way to calculate the \"Deal Score\", and add a new column to the data frame. A car with a high Deal Score has a low true cost compared to its predicted value, while a car with a low Deal Score is overpriced. "
   ]
  },
  {
   "cell_type": "code",
   "execution_count": 54,
   "metadata": {
    "id": "pwDx-C6xYdM8"
   },
   "outputs": [
    {
     "name": "stdout",
     "output_type": "stream",
     "text": [
      "    Car_Name  Age  Selling_Price  Kms_Driven Fuel_Type Seller_Type Transmission  TransmissionNumber  Seller_Type_Number  Prediction deal_score\n",
      "0       ritz    5           3.35       27000    Petrol      Dealer       Manual                   1                   1    6.032870       None\n",
      "1        sx4    6           4.75       43000    Diesel      Dealer       Manual                   1                   1    5.713381       None\n",
      "2       ciaz    2           7.25        6900    Petrol      Dealer       Manual                   1                   1    7.177459       None\n",
      "3    wagon r    8           2.85        5200    Petrol      Dealer       Manual                   1                   1    4.608766       None\n",
      "4      swift    5           4.60       42450    Diesel      Dealer       Manual                   1                   1    6.135938       None\n",
      "..       ...  ...            ...         ...       ...         ...          ...                 ...                 ...         ...        ...\n",
      "296     city    3           9.50       33988    Diesel      Dealer       Manual                   1                   1    6.931938       None\n",
      "297     brio    4           4.00       60000    Petrol      Dealer       Manual                   1                   1    6.679239       None\n",
      "298     city   10           3.35       87934    Petrol      Dealer       Manual                   1                   1    4.308235       None\n",
      "299     city    2          11.50        9000    Diesel      Dealer       Manual                   1                   1    7.191468       None\n",
      "300     brio    3           5.30        5464    Petrol      Dealer       Manual                   1                   1    6.741654       None\n",
      "\n",
      "[301 rows x 11 columns]\n"
     ]
    }
   ],
   "source": [
    "car_data['deal_score'] = None #FILL IN HERE\n",
    "print (car_data)\n",
    "#You can experiment with different ways of defining it."
   ]
  },
  {
   "cell_type": "markdown",
   "metadata": {
    "id": "H-C3-WbDYnTz"
   },
   "source": [
    "Using the pandas sort_values function, identify the 10 most overpriced cars and the 10 cars that are the best deal."
   ]
  },
  {
   "cell_type": "code",
   "execution_count": 58,
   "metadata": {
    "id": "nEPJ-OyNYIum"
   },
   "outputs": [
    {
     "name": "stdout",
     "output_type": "stream",
     "text": [
      "             Car_Name  Age  Selling_Price  Kms_Driven Fuel_Type Seller_Type Transmission  TransmissionNumber  Seller_Type_Number  Prediction deal_score    spread\n",
      "207         grand i10    4           5.15       34797    Petrol      Dealer    Automatic                   0                   1   11.389483       None -6.239483\n",
      "173         Activa 4g    2           0.40        1300    Petrol  Individual    Automatic                   0                   0    6.544745       None -6.144745\n",
      "159   Honda Activa 4G    2           0.45        4000    Petrol  Individual    Automatic                   0                   0    6.562757       None -6.112757\n",
      "155   Honda Activa 4G    2           0.48        4300    Petrol  Individual    Automatic                   0                   0    6.564758       None -6.084758\n",
      "221               i20    6           4.50       32000    Petrol      Dealer    Automatic                   0                   1   10.518373       None -6.018373\n",
      "252              brio    4           5.40       31427    Petrol      Dealer    Automatic                   0                   1   11.367002       None -5.967002\n",
      "177  Honda Activa 125    3           0.35       24000    Petrol  Individual    Automatic                   0                   0    6.269951       None -5.919951\n",
      "40             baleno    3           5.85       24524    Petrol      Dealer    Automatic                   0                   1   11.747177       None -5.897177\n",
      "77            corolla   15           1.50      135154    Petrol      Dealer    Automatic                   0                   1    7.370486       None -5.870486\n",
      "196         Activa 3g   11           0.17      500000    Petrol  Individual    Automatic                   0                   0    6.035551       None -5.865551\n",
      "         Car_Name  Age  Selling_Price  Kms_Driven Fuel_Type Seller_Type Transmission  TransmissionNumber  Seller_Type_Number  Prediction deal_score     spread\n",
      "86   land cruiser    9          35.00       78000    Diesel      Dealer       Manual                   1                   1    4.668190       None  30.331810\n",
      "64       fortuner    2          33.00        6000    Diesel      Dealer    Automatic                   0                   1   12.049829       None  20.950171\n",
      "63       fortuner    4          23.50       47000    Diesel      Dealer    Automatic                   0                   1   11.470890       None  12.029110\n",
      "51       fortuner    4          23.00       40000    Diesel      Dealer    Automatic                   0                   1   11.424193       None  11.575807\n",
      "93       fortuner    4          23.00       40000    Diesel      Dealer    Automatic                   0                   1   11.424193       None  11.575807\n",
      "82         innova    2          23.00       15000    Diesel      Dealer    Automatic                   0                   1   12.109868       None  10.890132\n",
      "53       fortuner    6          16.00      135000    Diesel  Individual    Automatic                   0                   0    5.731758       None  10.268242\n",
      "97  corolla altis    2          17.00        8700    Petrol      Dealer       Manual                   1                   1    7.189467       None   9.810533\n",
      "59       fortuner    5          19.99       41000    Diesel      Dealer    Automatic                   0                   1   11.004638       None   8.985362\n",
      "96         innova    3          20.75       29000    Diesel      Dealer    Automatic                   0                   1   11.777037       None   8.972963\n"
     ]
    }
   ],
   "source": [
    "### YOUR CODE HERE\n",
    "car_data['spread'] = car_data['Selling_Price'] - car_data['Prediction']\n",
    "\n",
    "best_deals = car_data.sort_values(by='spread', ascending=True).head(10)\n",
    "most_overpriced = car_data.sort_values(by='spread', ascending=False).head(10)\n",
    "### END CODE\n",
    "print (best_deals)\n",
    "print (most_overpriced)"
   ]
  },
  {
   "cell_type": "markdown",
   "metadata": {
    "id": "IQjcGZJiY9Fd"
   },
   "source": [
    "Here's the graphing code again from earlier. This time, plot the best deals in one color, the most overpriced cars in another color, and the other cars in a third color. Do your calculations align with your guesses from looking at the graph? What happens if you change your method of calculating the Deal Score?"
   ]
  },
  {
   "cell_type": "code",
   "execution_count": 61,
   "metadata": {
    "id": "YiOKJzvnBbBp"
   },
   "outputs": [
    {
     "data": {
      "image/png": "[encoded data removed]",
      "text/plain": [
       "<Figure size 864x360 with 1 Axes>"
      ]
     },
     "metadata": {
      "needs_background": "light"
     },
     "output_type": "display_data"
    }
   ],
   "source": [
    "plt.plot([-5,15],[-5,15]) #Drawing in the line of equality so we can compare\n",
    "plt.title(\"Predicted vs. Real Prices\")\n",
    "plt.xlabel(\"Real price\")\n",
    "plt.ylabel(\"Predicted price\")\n",
    "\n",
    "#Make a scatterplot with several colors:\n",
    "plt.scatter(y, prediction, c='b')\n",
    "plt.scatter(best_deals['Selling_Price'], best_deals['Prediction'], c='g')\n",
    "plt.scatter(most_overpriced['Selling_Price'], most_overpriced['Prediction'], c='r')\n",
    "#Show 10 best deals in one color\n",
    "#Show 10 most overpriced in another color\n",
    "#Show the other cars in a third color\n",
    "plt.show()"
   ]
  },
  {
   "cell_type": "markdown",
   "metadata": {
    "id": "NQS_uAelaJYX"
   },
   "source": [
    "Congratulations! You've now identified the cars that are the best buy.\n",
    "\n",
    "... Or have you? Why might a car have a lower-than-predicted price, besides a seller making a mistake?\n",
    "\n",
    "What other data would you need to be really confident in your decision?"
   ]
  }
 ],
 "metadata": {
  "colab": {
   "collapsed_sections": [
    "yILvpzZOgHVW"
   ],
   "name": "Linear_Regression_Student.ipynb",
   "provenance": []
  },
  "kernelspec": {
   "display_name": "Python 3",
   "language": "python",
   "name": "python3"
  },
  "language_info": {
   "codemirror_mode": {
    "name": "ipython",
    "version": 3
   },
   "file_extension": ".py",
   "mimetype": "text/x-python",
   "name": "python",
   "nbconvert_exporter": "python",
   "pygments_lexer": "ipython3",
   "version": "3.8.8"
  }
 },
 "nbformat": 4,
 "nbformat_minor": 4
}
