{
 "cells": [
  {
   "cell_type": "markdown",
   "metadata": {
    "id": "TiM6gYg0nhkY"
   },
   "source": [
    "<font color=\"#de3023\"><h1><b>MAKE A COPY OF THIS NOTEBOOK SO YOUR EDITS ARE SAVED</b></h1></font>"
   ]
  },
  {
   "cell_type": "markdown",
   "metadata": {
    "id": "eN6PSgaoEPr9"
   },
   "source": [
    "## Instructor Led Discussion"
   ]
  },
  {
   "cell_type": "markdown",
   "metadata": {
    "id": "HP9U_AO8stAq"
   },
   "source": [
    "### Introduction to Breast Cancer Biopsy Classification\n",
    "\n",
    "In this project, imagine that your colleague, an oncologist (cancer doctor), is working in a major hospital that specializes in treating breast cancers. Breast cancer tumors are very complicated at the cellular level, and this makes determining whether a patient's tumor is malignant (dangerous) or benign (not dangerous) a challenge. Your task will be to build a classifier that can determine whether a sample is malignant or benign to help your colleague!\n",
    "\n",
    "Every patient that arrives at the hospital undergoes a biopsy of their tumor. This means that a small sample of the tumor is taken from the patient and various metrics are recorded about it, including: radius, texture, perimeter, area, smoothness, compactness, concavity, concave points, symmetry, and fractal dimension. \n",
    "\n",
    "Using a large dataset of labeled biopsy samples from breast cancer tumors, you will build your binary classification model to determine whether a tumor is malignant or benign based on these features. Then, this model can help you to better determine diagnoses for new patients who arrive at the hospital.\n"
   ]
  },
  {
   "cell_type": "markdown",
   "metadata": {
    "id": "CwIq3r8RENiw"
   },
   "source": [
    "## Today...\n",
    "We will explore together the steps that you could take to help your friend solve this problem!\n",
    "\n",
    "#### Background and data exploration\n",
    "\n",
    "- Exploring the data\n",
    "- Visualizing the data\n",
    "\n",
    "#### Predicting Diagnosis: Working up to Logistic Regression\n",
    "\n",
    "- Approach 1: Linear Regression classifier\n",
    "\n",
    "- Approach 2: Simple boundary classifier\n",
    "\n",
    "- Approach 3: Modifying with logistic regression\n",
    "\n",
    "- Approach 4: Multiple feature logistic regression\n",
    "\n",
    "#### Bonus Discussion: What makes a separation good?\n",
    "#### Optional: Decision trees walkthrough\n",
    "#### Advanced (Optional): Choosing a Classifier\n",
    "\n"
   ]
  },
  {
   "cell_type": "markdown",
   "metadata": {
    "id": "t5WlU9mlAtTt"
   },
   "source": [
    "# Background and data exploration"
   ]
  },
  {
   "cell_type": "markdown",
   "metadata": {
    "id": "gOTZCNwKs8Bc"
   },
   "source": [
    "## Diagnosing cancer with biopsies\n"
   ]
  },
  {
   "cell_type": "markdown",
   "metadata": {
    "id": "ei8za5s3tVw8"
   },
   "source": [
    "**Before** we dive into building a classifier for breast cancer tumors, we will first discuss how the data are generated and what the various features mean.\n",
    "\n",
    "![alt text](https://www.rxdatascience.com/hubfs/Raj%20Files/es1.jpg)\n",
    "\n",
    "The above image is an example of cancerous (malignant) breast cells next to benign cells. These cells are part of a tumor biopsy where the extracted tissue is sampled with a special needle. The cells are subsequently stained with different dyes to help visualize their shapes, quantity of DNA, etc. These properties provide clues and insight into the rate of cell division (Rapid cell division = Cancerous). \n",
    " ### Optional: Data Feature Descriptions\n",
    "\n",
    "Our dataset reports 10 different features of the biopsies. Here's what a few of them mean:\n",
    "\n",
    "1. $Perimeter$: Total distance between points defining the cell's nuclear perimeter.\n",
    "2. $Radius$: Average distance from the center of the cell's nucleus to its perimeter.\n",
    "3. $Texture$: The texture of the cell nucleus is measured by finding the variance of the gray scale intensities in the component pixels.\n",
    "4. $Area$: Nuclear area is measured by counting the number of pixels on the interior of the nucleus and adding one-half of the pixels in the perimeter.\n",
    "\n",
    "The following image should give a visual to what these cell nucleus features look like: \n",
    "\n",
    "![perimeter](https://drive.google.com/uc?export=view&id=1-U43OAojYbMY9gIlpvLHPNr3V2saqqHJ)\n",
    "\n",
    "5. $Smoothness$: Measures the smoothness of a nuclear contour by measuring the difference between the length of a radial line and the mean length of the lines surrounding it. The image below demonstrates this:\n",
    "\n",
    "![smoothness](https://drive.google.com/uc?export=view&id=10GokzG7KDKxClJwHPIuIcr3ivvWGRetY)\n",
    "\n",
    "6. $Concavity$: Measures the severity of concavities or indentations in a cell nucleus. Chords are drawn between non-adjacent snake points and measure the extent to which the actual boundary lies inside each chord. The line in bold in the image below is an example of a chord.\n",
    "\n",
    "![concavity](https://drive.google.com/uc?export=view&id=1EGdQLX0WAJkM8E598vnKvnMLY2ZVT6Le)\n",
    "\n",
    "7. $Symmetry$: The major axis (longest chord) through the center is found. Then, the difference between the distance on both sides of the lines that are perpendicular to the major axis is calculated. The image below shows an example of this:\n",
    "\n",
    "![symmetry](https://drive.google.com/uc?export=view&id=1EMzdkY5TVfA79xInjjeI6b_dYMpCmSSe)\n",
    "\n",
    "\n",
    "The paper that first detailed these measurements for this dataset can be found here for more information: https://pdfs.semanticscholar.org/1c4a/4db612212a9d3806a848854d20da9ddd0504.pdf \n"
   ]
  },
  {
   "cell_type": "markdown",
   "metadata": {
    "id": "dYeVd9eptE31"
   },
   "source": [
    "## Breast cancer diagnostic dataset\n",
    "\n",
    "The dataset we will use to train our model is called the Breast Cancer Wisconsin (Diagnostic) Data Set. It consists of 569 biopsy samples, just like the ones described above, from breast cancer tumors. \n",
    "\n",
    "Each biopsy sample in the dataset is labeled with an ID number and whether or not the tumor it came from is malignant (1) or benign (0). Each sample also has 10 different features associated with it, some of which are described above. Remember that each feature value for a given biopsy sample is a real-valued number.\n",
    "\n",
    "Think: what sorts of features would you expect to be different between a rapidly growing, malignant cancer cell and a healthy one? Why?"
   ]
  },
  {
   "cell_type": "code",
   "execution_count": 1,
   "metadata": {},
   "outputs": [],
   "source": [
    "#@title Run this to download your data! { display-mode: \"form\" }\n",
    "# Load the data!\n",
    "import pandas as pd\n",
    "from sklearn import metrics"
   ]
  },
  {
   "cell_type": "code",
   "execution_count": null,
   "metadata": {
    "id": "zTLBQUJZJpEU"
   },
   "outputs": [],
   "source": [
    "!wget -q --show-progress \"https://storage.googleapis.com/inspirit-ai-data-bucket-1/Data/AI%20Scholars/Sessions%201%20-%205/Session%202b%20-%20Logistic%20Regression/cancer.csv\"\n",
    "\n",
    "data = pd.read_csv('cancer.csv')\n",
    "data['diagnosis'].replace({'M':1, 'B':0}, inplace = True)\n",
    "data.to_csv('cancer.csv')\n",
    "del data"
   ]
  },
  {
   "cell_type": "markdown",
   "metadata": {
    "id": "LSpUGH4NvaUk"
   },
   "source": [
    "## Loading our annotated dataset\n",
    "\n",
    "The first step in building our breast cancer tumor classification model is to load in the dataset we'll use to \"teach\" (or \"train\") our model."
   ]
  },
  {
   "cell_type": "code",
   "execution_count": 2,
   "metadata": {
    "id": "LmyUG5GrvdPf"
   },
   "outputs": [],
   "source": [
    "# First, import helpful Python tools for loading/navigating data\n",
    "import os             # Good for navigating your computer's files \n",
    "import numpy as np    # Great for lists (arrays) of numbers\n",
    "import pandas as pd   # Great for tables (google spreadsheets, microsoft excel, csv)\n",
    "from sklearn.metrics import accuracy_score   # Great for creating quick ML models\n"
   ]
  },
  {
   "cell_type": "code",
   "execution_count": 3,
   "metadata": {
    "id": "5Cu2tGYpv5AZ"
   },
   "outputs": [],
   "source": [
    "data_path  = 'cancer.csv'\n",
    "\n",
    "# Use the 'pd.read_csv('file')' function to read in read our data and store it in a variable called 'dataframe'\n",
    "dataframe = pd.read_csv(data_path)\n",
    "\n",
    "dataframe = dataframe[['diagnosis', 'perimeter_mean', 'radius_mean', 'texture_mean', 'area_mean', 'smoothness_mean', 'concavity_mean', 'symmetry_mean']]\n",
    "dataframe['diagnosis_cat'] = dataframe['diagnosis'].astype('category').map({1: '1 (malignant)', 0: '0 (benign)'})"
   ]
  },
  {
   "cell_type": "markdown",
   "metadata": {
    "id": "twcYYuhGgLda"
   },
   "source": [
    "# Exploring our data\n"
   ]
  },
  {
   "cell_type": "markdown",
   "metadata": {
    "id": "YKx4euGqwHpS"
   },
   "source": [
    " ## Looking at our dataset\n",
    "  \n",
    " A key step in machine learning (and coding in general!) is to view the structure and dimensions of our new dataframe, which stores all our training data from the tumor biopsies. You can think of dataframes like Google or Microsoft Excel spreadsheets (large tables with row/column headers).\n",
    "\n",
    "We want to confirm that the size of our table is correct, check out the features present, and get a more visual sense of what it looks like overall."
   ]
  },
  {
   "cell_type": "markdown",
   "metadata": {
    "id": "44xNblKYVRHh"
   },
   "source": [
    "**Use the '.head()' method to show the first five rows of the table and their corresponding column headers (our biopsy features!)**"
   ]
  },
  {
   "cell_type": "code",
   "execution_count": 4,
   "metadata": {
    "id": "sKRxaP1qweIz"
   },
   "outputs": [
    {
     "data": {
      "text/html": [
       "<div>\n",
       "<style scoped>\n",
       "    .dataframe tbody tr th:only-of-type {\n",
       "        vertical-align: middle;\n",
       "    }\n",
       "\n",
       "    .dataframe tbody tr th {\n",
       "        vertical-align: top;\n",
       "    }\n",
       "\n",
       "    .dataframe thead th {\n",
       "        text-align: right;\n",
       "    }\n",
       "</style>\n",
       "<table border=\"1\" class=\"dataframe\">\n",
       "  <thead>\n",
       "    <tr style=\"text-align: right;\">\n",
       "      <th></th>\n",
       "      <th>diagnosis</th>\n",
       "      <th>perimeter_mean</th>\n",
       "      <th>radius_mean</th>\n",
       "      <th>texture_mean</th>\n",
       "      <th>area_mean</th>\n",
       "      <th>smoothness_mean</th>\n",
       "      <th>concavity_mean</th>\n",
       "      <th>symmetry_mean</th>\n",
       "      <th>diagnosis_cat</th>\n",
       "    </tr>\n",
       "  </thead>\n",
       "  <tbody>\n",
       "    <tr>\n",
       "      <th>0</th>\n",
       "      <td>1</td>\n",
       "      <td>122.80</td>\n",
       "      <td>17.99</td>\n",
       "      <td>10.38</td>\n",
       "      <td>1001.0</td>\n",
       "      <td>0.11840</td>\n",
       "      <td>0.3001</td>\n",
       "      <td>0.2419</td>\n",
       "      <td>1 (malignant)</td>\n",
       "    </tr>\n",
       "    <tr>\n",
       "      <th>1</th>\n",
       "      <td>1</td>\n",
       "      <td>132.90</td>\n",
       "      <td>20.57</td>\n",
       "      <td>17.77</td>\n",
       "      <td>1326.0</td>\n",
       "      <td>0.08474</td>\n",
       "      <td>0.0869</td>\n",
       "      <td>0.1812</td>\n",
       "      <td>1 (malignant)</td>\n",
       "    </tr>\n",
       "    <tr>\n",
       "      <th>2</th>\n",
       "      <td>1</td>\n",
       "      <td>130.00</td>\n",
       "      <td>19.69</td>\n",
       "      <td>21.25</td>\n",
       "      <td>1203.0</td>\n",
       "      <td>0.10960</td>\n",
       "      <td>0.1974</td>\n",
       "      <td>0.2069</td>\n",
       "      <td>1 (malignant)</td>\n",
       "    </tr>\n",
       "    <tr>\n",
       "      <th>3</th>\n",
       "      <td>1</td>\n",
       "      <td>77.58</td>\n",
       "      <td>11.42</td>\n",
       "      <td>20.38</td>\n",
       "      <td>386.1</td>\n",
       "      <td>0.14250</td>\n",
       "      <td>0.2414</td>\n",
       "      <td>0.2597</td>\n",
       "      <td>1 (malignant)</td>\n",
       "    </tr>\n",
       "    <tr>\n",
       "      <th>4</th>\n",
       "      <td>1</td>\n",
       "      <td>135.10</td>\n",
       "      <td>20.29</td>\n",
       "      <td>14.34</td>\n",
       "      <td>1297.0</td>\n",
       "      <td>0.10030</td>\n",
       "      <td>0.1980</td>\n",
       "      <td>0.1809</td>\n",
       "      <td>1 (malignant)</td>\n",
       "    </tr>\n",
       "  </tbody>\n",
       "</table>\n",
       "</div>"
      ],
      "text/plain": [
       "   diagnosis  perimeter_mean  radius_mean  texture_mean  area_mean  \\\n",
       "0          1          122.80        17.99         10.38     1001.0   \n",
       "1          1          132.90        20.57         17.77     1326.0   \n",
       "2          1          130.00        19.69         21.25     1203.0   \n",
       "3          1           77.58        11.42         20.38      386.1   \n",
       "4          1          135.10        20.29         14.34     1297.0   \n",
       "\n",
       "   smoothness_mean  concavity_mean  symmetry_mean  diagnosis_cat  \n",
       "0          0.11840          0.3001         0.2419  1 (malignant)  \n",
       "1          0.08474          0.0869         0.1812  1 (malignant)  \n",
       "2          0.10960          0.1974         0.2069  1 (malignant)  \n",
       "3          0.14250          0.2414         0.2597  1 (malignant)  \n",
       "4          0.10030          0.1980         0.1809  1 (malignant)  "
      ]
     },
     "execution_count": 4,
     "metadata": {},
     "output_type": "execute_result"
    }
   ],
   "source": [
    "# YOUR CODE HERE: \n",
    "dataframe.head()\n",
    "# END CODE"
   ]
  },
  {
   "cell_type": "markdown",
   "metadata": {
    "id": "tilXEPhVwkjk"
   },
   "source": [
    "Our colleague has given us documentation on what each feature column means. Specifically:\n",
    "\n",
    "* $diagnosis$: Whether the tumor was diagnosed as malignant (1) or benign (0).\n",
    "* $perimeter$_$mean$: The average perimeter of cells in that particular biopsy\n",
    "* $radius$_$mean$: The average radius of cells in that particular biopsy\n",
    "* $texture$_$mean$: The average texture of cells in that particular biopsy\n",
    "* $area$_$mean$: The average area of cells in that particular biopsy\n",
    "* $smoothness$_$mean$: The average smoothness of cells in that particular biopsy\n",
    "* $concavity$_$mean$: The average concavity of cells in that particular biopsy\n",
    "* $symmetry$_$mean$: The average symmetry of cells in that particular biopsy\n",
    "\n",
    "Recall that the term mean refers to taking an average (summing the values for each cell and dividing by the total number of cells observed in that biopsy). "
   ]
  },
  {
   "cell_type": "code",
   "execution_count": 5,
   "metadata": {
    "id": "0-SoD9EQw5Ie"
   },
   "outputs": [
    {
     "name": "stdout",
     "output_type": "stream",
     "text": [
      "<class 'pandas.core.frame.DataFrame'>\n",
      "RangeIndex: 569 entries, 0 to 568\n",
      "Data columns (total 9 columns):\n",
      " #   Column           Non-Null Count  Dtype   \n",
      "---  ------           --------------  -----   \n",
      " 0   diagnosis        569 non-null    int64   \n",
      " 1   perimeter_mean   569 non-null    float64 \n",
      " 2   radius_mean      569 non-null    float64 \n",
      " 3   texture_mean     569 non-null    float64 \n",
      " 4   area_mean        569 non-null    float64 \n",
      " 5   smoothness_mean  569 non-null    float64 \n",
      " 6   concavity_mean   569 non-null    float64 \n",
      " 7   symmetry_mean    569 non-null    float64 \n",
      " 8   diagnosis_cat    569 non-null    category\n",
      "dtypes: category(1), float64(7), int64(1)\n",
      "memory usage: 36.4 KB\n"
     ]
    }
   ],
   "source": [
    "# Next, we'll use the 'info' method to see the data types of each column\n",
    "dataframe.info()"
   ]
  },
  {
   "cell_type": "markdown",
   "metadata": {
    "id": "FM41uioFw_Ow"
   },
   "source": [
    "**Discussion Question:** Which columns are numeric? Why?\n"
   ]
  },
  {
   "cell_type": "markdown",
   "metadata": {
    "id": "LMJy1OXUmqnO"
   },
   "source": [
    " ## Visualizing our dataset\n",
    "\n",
    "How can we determine the relationship between each of the \"features\" of these cells and the diagnosis?\n",
    "\n",
    "The best way is to graph certain features in our data and see how they vary between different diagnoses! We will use some Python libraries like Seaborn and Matplotlib to make this an easier task for us."
   ]
  },
  {
   "cell_type": "code",
   "execution_count": 8,
   "metadata": {
    "id": "3Fg1ZzH8gZyA"
   },
   "outputs": [],
   "source": [
    "# First, we'll import some handy data visualization tools\n",
    "import seaborn as sns\n",
    "import matplotlib.pyplot as plt\n",
    "plt.rcParams['figure.figsize'] = [12, 5] # set default size for the whole book"
   ]
  },
  {
   "cell_type": "markdown",
   "metadata": {
    "id": "jPUsnMfOyr-F"
   },
   "source": [
    "Let's focus on one feature for now: mean radius. How well does it predict diagnosis?"
   ]
  },
  {
   "cell_type": "code",
   "execution_count": 9,
   "metadata": {
    "id": "eXefT2nZgdnE"
   },
   "outputs": [
    {
     "data": {
      "text/html": [
       "<div>\n",
       "<style scoped>\n",
       "    .dataframe tbody tr th:only-of-type {\n",
       "        vertical-align: middle;\n",
       "    }\n",
       "\n",
       "    .dataframe tbody tr th {\n",
       "        vertical-align: top;\n",
       "    }\n",
       "\n",
       "    .dataframe thead th {\n",
       "        text-align: right;\n",
       "    }\n",
       "</style>\n",
       "<table border=\"1\" class=\"dataframe\">\n",
       "  <thead>\n",
       "    <tr style=\"text-align: right;\">\n",
       "      <th></th>\n",
       "      <th>diagnosis</th>\n",
       "      <th>perimeter_mean</th>\n",
       "      <th>radius_mean</th>\n",
       "      <th>texture_mean</th>\n",
       "      <th>area_mean</th>\n",
       "      <th>smoothness_mean</th>\n",
       "      <th>concavity_mean</th>\n",
       "      <th>symmetry_mean</th>\n",
       "      <th>diagnosis_cat</th>\n",
       "    </tr>\n",
       "  </thead>\n",
       "  <tbody>\n",
       "    <tr>\n",
       "      <th>0</th>\n",
       "      <td>1</td>\n",
       "      <td>122.80</td>\n",
       "      <td>17.99</td>\n",
       "      <td>10.38</td>\n",
       "      <td>1001.0</td>\n",
       "      <td>0.11840</td>\n",
       "      <td>0.3001</td>\n",
       "      <td>0.2419</td>\n",
       "      <td>1 (malignant)</td>\n",
       "    </tr>\n",
       "    <tr>\n",
       "      <th>1</th>\n",
       "      <td>1</td>\n",
       "      <td>132.90</td>\n",
       "      <td>20.57</td>\n",
       "      <td>17.77</td>\n",
       "      <td>1326.0</td>\n",
       "      <td>0.08474</td>\n",
       "      <td>0.0869</td>\n",
       "      <td>0.1812</td>\n",
       "      <td>1 (malignant)</td>\n",
       "    </tr>\n",
       "    <tr>\n",
       "      <th>2</th>\n",
       "      <td>1</td>\n",
       "      <td>130.00</td>\n",
       "      <td>19.69</td>\n",
       "      <td>21.25</td>\n",
       "      <td>1203.0</td>\n",
       "      <td>0.10960</td>\n",
       "      <td>0.1974</td>\n",
       "      <td>0.2069</td>\n",
       "      <td>1 (malignant)</td>\n",
       "    </tr>\n",
       "    <tr>\n",
       "      <th>3</th>\n",
       "      <td>1</td>\n",
       "      <td>77.58</td>\n",
       "      <td>11.42</td>\n",
       "      <td>20.38</td>\n",
       "      <td>386.1</td>\n",
       "      <td>0.14250</td>\n",
       "      <td>0.2414</td>\n",
       "      <td>0.2597</td>\n",
       "      <td>1 (malignant)</td>\n",
       "    </tr>\n",
       "    <tr>\n",
       "      <th>4</th>\n",
       "      <td>1</td>\n",
       "      <td>135.10</td>\n",
       "      <td>20.29</td>\n",
       "      <td>14.34</td>\n",
       "      <td>1297.0</td>\n",
       "      <td>0.10030</td>\n",
       "      <td>0.1980</td>\n",
       "      <td>0.1809</td>\n",
       "      <td>1 (malignant)</td>\n",
       "    </tr>\n",
       "  </tbody>\n",
       "</table>\n",
       "</div>"
      ],
      "text/plain": [
       "   diagnosis  perimeter_mean  radius_mean  texture_mean  area_mean  \\\n",
       "0          1          122.80        17.99         10.38     1001.0   \n",
       "1          1          132.90        20.57         17.77     1326.0   \n",
       "2          1          130.00        19.69         21.25     1203.0   \n",
       "3          1           77.58        11.42         20.38      386.1   \n",
       "4          1          135.10        20.29         14.34     1297.0   \n",
       "\n",
       "   smoothness_mean  concavity_mean  symmetry_mean  diagnosis_cat  \n",
       "0          0.11840          0.3001         0.2419  1 (malignant)  \n",
       "1          0.08474          0.0869         0.1812  1 (malignant)  \n",
       "2          0.10960          0.1974         0.2069  1 (malignant)  \n",
       "3          0.14250          0.2414         0.2597  1 (malignant)  \n",
       "4          0.10030          0.1980         0.1809  1 (malignant)  "
      ]
     },
     "execution_count": 9,
     "metadata": {},
     "output_type": "execute_result"
    },
    {
     "data": {
      "image/png": "[encoded data removed]",
      "text/plain": [
       "<Figure size 360x360 with 1 Axes>"
      ]
     },
     "metadata": {
      "needs_background": "light"
     },
     "output_type": "display_data"
    }
   ],
   "source": [
    "sns.catplot(x = 'radius_mean', y = 'diagnosis_cat', data = dataframe, order=['1 (malignant)', '0 (benign)'])\n",
    "dataframe.head()"
   ]
  },
  {
   "cell_type": "markdown",
   "metadata": {
    "id": "q_UCic0jgpWL"
   },
   "source": [
    "**Discussion Question:** How would you interpret what is going on in the chart above?"
   ]
  },
  {
   "cell_type": "markdown",
   "metadata": {
    "id": "8w8-pnAy2rH7"
   },
   "source": [
    "**Exercise**: Try out some other features (e.g. perimeter_mean, texture_mean, smoothness_mean) to see how they relate to the diagnosis. Which single feature seems like the best predictor?"
   ]
  },
  {
   "cell_type": "markdown",
   "metadata": {
    "id": "CG8x9O6Ohkri"
   },
   "source": [
    "# Predicting Diagnosis\n",
    "\n",
    "Let's start by predicting a diagnosis using a single feature: radius mean. \n"
   ]
  },
  {
   "cell_type": "markdown",
   "metadata": {
    "id": "MvPG8OMglv4U"
   },
   "source": [
    "## Approach 1: Can we use linear regression to classify these cells?\n",
    "\n",
    "Let's start by using an algorithm that we've seen before: linear regression!\n",
    "\n",
    "**Discussion Question: How might linear regression be useful to classify examples from this dataset?**\n"
   ]
  },
  {
   "cell_type": "code",
   "execution_count": 10,
   "metadata": {
    "cellView": "form",
    "id": "LD0WAIB4l3p8"
   },
   "outputs": [
    {
     "data": {
      "text/plain": [
       "<matplotlib.legend.Legend at 0x7f8f14433490>"
      ]
     },
     "execution_count": 10,
     "metadata": {},
     "output_type": "execute_result"
    },
    {
     "data": {
      "image/png": "[encoded data removed]",
      "text/plain": [
       "<Figure size 864x360 with 1 Axes>"
      ]
     },
     "metadata": {
      "needs_background": "light"
     },
     "output_type": "display_data"
    }
   ],
   "source": [
    "#@title Run this to fit and visualize a linear regression (double-click to see code!)\n",
    "from sklearn import linear_model\n",
    "\n",
    "X,y = dataframe[['radius_mean']], dataframe[['diagnosis']]\n",
    "\n",
    "model = linear_model.LinearRegression()\n",
    "model.fit(X, y)\n",
    "preds = model.predict(X)\n",
    "\n",
    "sns.scatterplot(x='radius_mean', y='diagnosis', data=dataframe)\n",
    "plt.plot(X, preds, color='r')\n",
    "plt.legend(['Linear Regression Fit', 'Data'])"
   ]
  },
  {
   "cell_type": "code",
   "execution_count": 11,
   "metadata": {
    "cellView": "form",
    "id": "bLtjD5RxPY28"
   },
   "outputs": [
    {
     "name": "stdout",
     "output_type": "stream",
     "text": [
      "One or both of our diagnoses' interpretations is incorrect. Try again!\n"
     ]
    }
   ],
   "source": [
    "#@title Take a look at the linear regression model and answer the following questions:\n",
    "\n",
    "#@markdown What does a diagnosis of 0.0 mean?\n",
    "diagnosis_0 = \"Choose An Answer\" #@param [\"Malignant\", \"Benign\", \"Choose An Answer\"] \n",
    "\n",
    "#@markdown What does a diagnosis of 1.0 mean?\n",
    "diagnosis_1 = \"Choose An Answer\" #@param [\"Malignant\", \"Benign\", \"Choose An Answer\"] \n",
    "\n",
    "if diagnosis_0 == 'Benign' and diagnosis_1 == 'Malignant':\n",
    "  print(\"Correct! 0.0 is a benign prediction and 1.0 is malignant.\")\n",
    "else:\n",
    "  print(\"One or both of our diagnoses' interpretations is incorrect. Try again!\")"
   ]
  },
  {
   "cell_type": "markdown",
   "metadata": {
    "id": "JQK_tn0xpJ7b"
   },
   "source": [
    "**Discuss: Did this linear regression model do well?** \n",
    "\n",
    "Hint: What would our linear regression model predict for a mean radius of 25? How about 30? Is this an appropriate output?"
   ]
  },
  {
   "cell_type": "markdown",
   "metadata": {
    "id": "85g7Jc9jh95i"
   },
   "source": [
    "##Approach 2: Classification -  Simple Boundary Classifier\n",
    "The variable we are trying to predict is categorical, not continuous! So we can't use a linear regression; we have to use a classifier.\n"
   ]
  },
  {
   "cell_type": "markdown",
   "metadata": {
    "id": "sFG1rBi8zq0n"
   },
   "source": [
    "### Classification is just drawing boundaries!\n",
    "\n",
    "The simplest approach to classification is just drawing a boundary. Let's pick a boundary value for the radius mean and see how well it separates the data."
   ]
  },
  {
   "cell_type": "code",
   "execution_count": null,
   "metadata": {
    "id": "1oYBTJsvyaC6"
   },
   "outputs": [],
   "source": [
    "boundary = 15 # change me!\n",
    "\n",
    "sns.catplot(x = 'radius_mean', y = 'diagnosis_cat', data = dataframe, order=['1 (malignant)', '0 (benign)'])\n",
    "plt.plot([boundary, boundary], [-.2, 1.2], 'g', linewidth = 2)"
   ]
  },
  {
   "cell_type": "markdown",
   "metadata": {
    "id": "hXww4S6cNeo7"
   },
   "source": [
    "**Question:** Does this boundary value separate the data well? What do the points in each part of the graph represent?\n"
   ]
  },
  {
   "cell_type": "markdown",
   "metadata": {
    "id": "6ZmcQ_vGWZnR"
   },
   "source": [
    "### Building the boundary classifier\n",
    "\n",
    "Here we build a boundary classifier function that takes in a **target boundary**: a particular value of radius mean. This function will take in a boundary value of our choosing and then classify the data points based on whether or not they are above or below the boundary.\n",
    "\n",
    "**Exercise: Write a function to implement a boundary classifier.** You'll take in a `target_boundary` (a `float` or `int` like 15) and a `radius_mean_series` (a list of values) and return a list of predictions! "
   ]
  },
  {
   "cell_type": "code",
   "execution_count": null,
   "metadata": {
    "id": "-Vc2zc5QTel4"
   },
   "outputs": [],
   "source": [
    "def boundary_classifier(target_boundary, radius_mean_series):\n",
    "  result = [] #fill this in with predictions!\n",
    "  # YOUR CODE HERE\n",
    "\n",
    "  return result"
   ]
  },
  {
   "cell_type": "markdown",
   "metadata": {
    "id": "kBttJRoNYYdJ"
   },
   "source": [
    "The code below chooses a boundary and runs your classifer."
   ]
  },
  {
   "cell_type": "code",
   "execution_count": null,
   "metadata": {
    "id": "0PiRMX-xKjiA"
   },
   "outputs": [],
   "source": [
    "chosen_boundary = 15 #Try changing this!\n",
    "\n",
    "y_pred = boundary_classifier(chosen_boundary, dataframe['radius_mean'])\n",
    "dataframe['predicted'] = y_pred\n",
    "\n",
    "y_true = dataframe['diagnosis']\n",
    "\n",
    "sns.catplot(x = 'radius_mean', y = 'diagnosis_cat', hue = 'predicted', data = dataframe, order=['1 (malignant)', '0 (benign)'])\n",
    "plt.plot([chosen_boundary, chosen_boundary], [-.2, 1.2], 'g', linewidth = 2)"
   ]
  },
  {
   "cell_type": "markdown",
   "metadata": {
    "id": "esZdsGm69ZSV"
   },
   "source": [
    "What do you think of the results based on the graph?\n",
    "\n",
    "We can take a look at `y_true` and `y_pred` - how similar do they look?"
   ]
  },
  {
   "cell_type": "code",
   "execution_count": null,
   "metadata": {
    "id": "2ZNaOVm-9cxb"
   },
   "outputs": [],
   "source": [
    "print (list(y_true))\n",
    "print (y_pred)"
   ]
  },
  {
   "cell_type": "markdown",
   "metadata": {
    "id": "y-038BKC9ntz"
   },
   "source": [
    "Let's calculate our accuracy!"
   ]
  },
  {
   "cell_type": "code",
   "execution_count": null,
   "metadata": {
    "id": "Ro6toAITfrp1"
   },
   "outputs": [],
   "source": [
    "accuracy = accuracy_score(y_true,y_pred)\n",
    "print(accuracy)"
   ]
  },
  {
   "cell_type": "markdown",
   "metadata": {
    "id": "pkVDw3wHZMD_"
   },
   "source": [
    "**Now adjust the chosen boundary above to get the best possible 'separation'.** As you do that, think about what it means for a separation to be 'good' - is it just the highest accuracy? "
   ]
  },
  {
   "cell_type": "markdown",
   "metadata": {
    "id": "sHhZeAbdupMl"
   },
   "source": [
    "##Approach 3: Logistic Regression - using machine learning to determine the optimal boundary\n"
   ]
  },
  {
   "cell_type": "markdown",
   "metadata": {
    "id": "69c2JKp8Mxwi"
   },
   "source": [
    "\n",
    "Now, it's time to move away from our simple guess-and-check model and work towards implementing an approach that can automatically find a better separation. One of the most common methods for this is called 'Logistic Regression'. "
   ]
  },
  {
   "cell_type": "markdown",
   "metadata": {
    "id": "ZJfT1x60fZxd"
   },
   "source": [
    "### Training Data vs Test Data\n",
    "\n",
    "We'll split up our data set into groups called 'train' and 'test'. We teach our 'model' the patterns using the train data, but the whole point of machine learning is that our prediction should work on 'unseen' data or 'test' data. \n",
    "\n",
    "The function below does this for you. \n"
   ]
  },
  {
   "cell_type": "code",
   "execution_count": null,
   "metadata": {
    "id": "krQ6dJo-5yek"
   },
   "outputs": [],
   "source": [
    "from sklearn.model_selection import train_test_split\n",
    "\n",
    "train_df, test_df = train_test_split(dataframe, test_size = 0.2, random_state = 1)"
   ]
  },
  {
   "cell_type": "markdown",
   "metadata": {
    "id": "OOECnkKBf_tD"
   },
   "source": [
    "Let's now take a look at the 'train' and 'test' groups:\n"
   ]
  },
  {
   "cell_type": "code",
   "execution_count": null,
   "metadata": {
    "id": "wDYAAl6xgPYO"
   },
   "outputs": [],
   "source": [
    "print('Number of rows in training dataframe:', train_df.shape[0])\n",
    "train_df.head()"
   ]
  },
  {
   "cell_type": "code",
   "execution_count": null,
   "metadata": {
    "id": "EMornfXPhzli"
   },
   "outputs": [],
   "source": [
    "print('Number of rows in test dataframe:', test_df.shape[0])\n",
    "test_df.head()"
   ]
  },
  {
   "cell_type": "markdown",
   "metadata": {
    "id": "0WuOmB45g1-B"
   },
   "source": [
    "### Single Variable Logistic Regression\n",
    "To start with, let's set our input feature to be radius mean and our output variable to be the diagnosis. \n",
    "\n",
    "We will use this to build a logistic regression model to predict the diagnosis using radius mean."
   ]
  },
  {
   "cell_type": "code",
   "execution_count": null,
   "metadata": {
    "id": "chesGAaKNVON"
   },
   "outputs": [],
   "source": [
    "X = ['radius_mean']\n",
    "y = 'diagnosis'\n",
    "\n",
    "X_train = train_df[X]\n",
    "print('X_train, our input variables:')\n",
    "print(X_train.head())\n",
    "print()\n",
    "\n",
    "y_train = train_df[y]\n",
    "print('y_train, our output variable:')\n",
    "print(y_train.head())"
   ]
  },
  {
   "cell_type": "markdown",
   "metadata": {
    "id": "_ChOPgKIi6pI"
   },
   "source": [
    "**Discuss:** What's the difference between X_train and y_train?\n",
    "\n",
    "Now, let's prepare our model (we haven't trained it yet):"
   ]
  },
  {
   "cell_type": "code",
   "execution_count": null,
   "metadata": {
    "id": "kj1LIpVT6SwY"
   },
   "outputs": [],
   "source": [
    "# Here, we create a 'reg' object that handles the line fitting for us!\n",
    "logreg_model = linear_model.LogisticRegression()"
   ]
  },
  {
   "cell_type": "markdown",
   "metadata": {
    "id": "shsboaDEjSC_"
   },
   "source": [
    "###Making Predictions\n",
    "\n",
    "Next, we want to tell our 'logreg_model' object to take in our inputs (X) and our true labels (y) and fit a line that predicts y from X.\n",
    "\n",
    "**Exercise:** Can you place the arguments `X_train` and `y_train` correctly into this function to do this?\n",
    "\n",
    "`logreg_model.fit(FILL_ME_IN, FILL_ME_IN)`\n"
   ]
  },
  {
   "cell_type": "code",
   "execution_count": null,
   "metadata": {
    "id": "NfV0t3bqjtum"
   },
   "outputs": [],
   "source": [
    "### YOUR CODE HERE\n",
    "\n",
    "### END CODE"
   ]
  },
  {
   "cell_type": "markdown",
   "metadata": {
    "id": "M_keLGwQjzsu"
   },
   "source": [
    "### Testing our model \n",
    "\n",
    "How do we know if our 'model' is actually 'learning' anything? We need to test it on unseen data.\n",
    "\n",
    "Here we will be designating test inputs to check our model. Let's prepare the inputs and outputs from our testing dataset - try printing them out!"
   ]
  },
  {
   "cell_type": "code",
   "execution_count": null,
   "metadata": {
    "id": "WaBE6yg6kF2N"
   },
   "outputs": [],
   "source": [
    "X_test = test_df[X]\n",
    "y_test = test_df[y]"
   ]
  },
  {
   "cell_type": "markdown",
   "metadata": {
    "id": "m7Ii-5ijkX8K"
   },
   "source": [
    "### Making predictions on our test set\n",
    "\n",
    "Next, we need to figure out what our line thinks the diagnosis is based on our data points\n",
    "\n",
    "**Exercise:** Fill in the appropriate input to this function and run the function below.\n",
    "\n",
    "`y_pred = logreg_model.predict(FILL_ME_IN)`"
   ]
  },
  {
   "cell_type": "code",
   "execution_count": null,
   "metadata": {
    "id": "_59Wk6q46XVq"
   },
   "outputs": [],
   "source": [
    "## YOUR CODE HERE\n",
    "\n",
    "## END CODE"
   ]
  },
  {
   "cell_type": "markdown",
   "metadata": {
    "id": "ensyfit5lP1U"
   },
   "source": [
    "Run the code below to visualize the results!"
   ]
  },
  {
   "cell_type": "code",
   "execution_count": null,
   "metadata": {
    "id": "GUSOLlz8lJu-"
   },
   "outputs": [],
   "source": [
    "test_df['predicted'] = y_pred.squeeze()\n",
    "sns.catplot(x = X[0], y = 'diagnosis_cat', hue = 'predicted', data=test_df, order=['1 (malignant)', '0 (benign)'])"
   ]
  },
  {
   "cell_type": "markdown",
   "metadata": {
    "id": "k2fjWtn2aAVp"
   },
   "source": [
    "How does it look compared to the predictions before?"
   ]
  },
  {
   "cell_type": "markdown",
   "metadata": {
    "id": "x_DJgPAHlaVQ"
   },
   "source": [
    "### Finally, let's evaluate the accuracy of our model."
   ]
  },
  {
   "cell_type": "code",
   "execution_count": null,
   "metadata": {
    "id": "BKz5TfiOTHDl"
   },
   "outputs": [],
   "source": [
    "accuracy = accuracy_score(y_test, y_pred)\n",
    "print(accuracy)"
   ]
  },
  {
   "cell_type": "markdown",
   "metadata": {
    "id": "eAi-LWA12aLh"
   },
   "source": [
    "## What is logistic regression doing? It's giving 'soft' predictions!\n"
   ]
  },
  {
   "cell_type": "code",
   "execution_count": null,
   "metadata": {
    "id": "V0tu5u7Y7CVL"
   },
   "outputs": [],
   "source": [
    "#@title Run this to plot logistic regression's soft probabilities { display-mode: \"form\" }\n",
    "\n",
    "# Let's visualize the probabilities for `X_test`\n",
    "y_prob = logreg_model.predict_proba(X_test)\n",
    "X_test_view = X_test[X].values.squeeze()\n",
    "plt.xlabel('radius_mean')\n",
    "plt.ylabel('Predicted Probability')\n",
    "sns.scatterplot(x = X_test_view, y = y_prob[:,1], hue = y_test, palette=['purple','green'])"
   ]
  },
  {
   "cell_type": "markdown",
   "metadata": {
    "id": "W2YecYWaN04j"
   },
   "source": [
    "The Y-axis is the  probability of being 'malignant' and the X-axis is the radius mean. The colors show the **true** diagnosis (this is different than previous graphs!)\n",
    "\n",
    "**Can you interpret or take a guess about what the graph above is saying?**"
   ]
  },
  {
   "cell_type": "markdown",
   "metadata": {
    "id": "PJ9Bn0ol9L-6"
   },
   "source": [
    "# Approach 4: Multiple Feature Logistic Regression \n",
    "\n",
    "Which features best predict the diagnosis?\n",
    "\n",
    "Now that we can use logistic regression to find the optimal classification boundary, let's try out other features to see how well they predict the diagnosis."
   ]
  },
  {
   "cell_type": "markdown",
   "metadata": {
    "id": "rdezGrsP9_YA"
   },
   "source": [
    "First let's print out one row of our table so we can see what other features we have available to us.\n"
   ]
  },
  {
   "cell_type": "code",
   "execution_count": null,
   "metadata": {
    "id": "SB0iDuJ79_JE"
   },
   "outputs": [],
   "source": [
    "dataframe.head(1)"
   ]
  },
  {
   "cell_type": "markdown",
   "metadata": {
    "id": "0pTHDxLrEQZK"
   },
   "source": [
    "### Experimenting with Single-Variable Logistic Regression"
   ]
  },
  {
   "cell_type": "markdown",
   "metadata": {
    "id": "TNdHjSV5-E6J"
   },
   "source": [
    "First, let's practice what we've done already! Fill in the code below to prepare your X and y data, fit the model on the training data, and predict on the test data.\n",
    "\n",
    "**Exercise:** Once you have this code working, try replacing radius_mean with other features to see how well each feature predicts diagnosis!\n"
   ]
  },
  {
   "cell_type": "code",
   "execution_count": null,
   "metadata": {
    "id": "I-ccKkaw-ced"
   },
   "outputs": [],
   "source": [
    "X = ['radius_mean'] #Try changing this later!\n",
    "y = 'diagnosis'\n",
    "\n",
    "# 1. Split data into train and test\n",
    "train_df, test_df = train_test_split(dataframe, test_size = 0.2, random_state = 1)\n",
    "\n",
    "# 2. Prepare your X_train, X_test, y_train, and y_test variables by extracting the appropriate columns:\n",
    "\n",
    "# 3. Initialize the model object\n",
    "\n",
    "# 4. Fit the model to the training data\n",
    "\n",
    "# 5. Use this trained model to predict on the test data\n",
    "\n",
    "# 6. Evaluate the accuracy by comparing to to the test labels and print out accuracy."
   ]
  },
  {
   "cell_type": "markdown",
   "metadata": {
    "id": "RmmlzBQ0_BUU"
   },
   "source": [
    "**Discussion**: Which features best predicted diagnosis? What does this teach us about breast cancer?"
   ]
  },
  {
   "cell_type": "markdown",
   "metadata": {
    "id": "n7_d9NGB-WQm"
   },
   "source": [
    "## Can we use multiple features together to do even better?\n",
    "So far, we've just been using `radius_mean` to make predictions. But there's lots of other potentially important features that we could be using!\n",
    "\n",
    "Let's take a look again:"
   ]
  },
  {
   "cell_type": "code",
   "execution_count": null,
   "metadata": {
    "id": "PbPQuFWE_btz"
   },
   "outputs": [],
   "source": [
    "dataframe.head(1)"
   ]
  },
  {
   "cell_type": "markdown",
   "metadata": {
    "id": "YsqeWkykEK01"
   },
   "source": [
    "### Logistic Regression with Multiple Features"
   ]
  },
  {
   "cell_type": "markdown",
   "metadata": {
    "id": "33PSuuffA-zI"
   },
   "source": [
    "Now, let's try re-fitting the model using **your choice of multiple features.**\n",
    "\n",
    "Just add more features to the list: for example, to use two features you could have\n",
    "\n",
    "`multi_X = ['radius_mean','area_mean']`"
   ]
  },
  {
   "cell_type": "code",
   "execution_count": null,
   "metadata": {
    "id": "gsM-CLG6A2l8"
   },
   "outputs": [],
   "source": [
    "multi_X = ['radius_mean']\n",
    "y = 'diagnosis'\n",
    "\n",
    "# 1. Split data into train and test\n",
    "multi_train_df, multi_test_df = train_test_split(dataframe, test_size = 0.2, random_state = 1)\n",
    "\n",
    "# 2. Prepare your X_train, X_test, y_train, and y_test variables by extracting the appropriate columns:\n",
    "\n",
    "# 3. Initialize the model object\n",
    "\n",
    "# 4. Fit the model to the training data\n",
    "\n",
    "# 5. Use this trained model to predict on the test data\n",
    "\n",
    "# 6. Evaluate the accuracy by comparing to to the test labels and print out accuracy."
   ]
  },
  {
   "cell_type": "markdown",
   "metadata": {
    "id": "TUxvFalP_kcG"
   },
   "source": [
    "Logistic Regression can learn an optimal classification boundary by using multiple features together, which can improve its prediction accuracy even more!"
   ]
  },
  {
   "cell_type": "markdown",
   "metadata": {
    "id": "DJdMjjFHMA22"
   },
   "source": [
    "# Bonus Discussion: What makes a separation good?\n",
    "\n",
    "We know our overall accuracy, so we know how many errors we make overall.\n",
    "\n",
    "But errors come in two kinds:\n",
    "\n",
    "**False positives:** The model predicts that a sample is malignant (positive), but it's actually benign.\n",
    "\n",
    "**False negatives:** The model predicts that a sample is benign (negative), but it's actually malignant.\n",
    "\n",
    "**Discuss:** In medical diagnoses, what are the dangers of each kind of mistake? What kind is worse? Can you think of an application where the opposite is true?\n",
    "\n",
    "A key insight is that there's a trade-off between the two kinds of errors! For example, how could you make a classifier that's guaranteed to have no false negatives? Would that be a good classifier?\n",
    "\n",
    "We have to find an acceptable balance!"
   ]
  },
  {
   "cell_type": "markdown",
   "metadata": {
    "id": "s_cmSK_pbjvP"
   },
   "source": [
    "###Confusion Matrices\n",
    "Next, let's evaluate the performance of our model quantitatively. We can visualize statistics on the number of correct vs. incorrect predictions using a confusion matrix that shows the following: \n",
    "\n",
    "![Confusion Matrix](https://miro.medium.com/max/860/1*7EcPtd8DXu1ObPnZSukIdQ.png)\n",
    "\n",
    "where the terms mean:\n",
    "\n",
    "* **TP (True Positive)** = The model predicted positive (malignant in our case, since malignant has a label of 1) and it’s true.\n",
    "* **TN (True Negative)** = The model predicted negative (benign in our case, since benign has a label of 0) and it’s true. \n",
    "* **FP (False Positive)** = The model predicted positive and it’s false.\n",
    "* **FN (False Negative)** = The model predicted negative and it’s false."
   ]
  },
  {
   "cell_type": "code",
   "execution_count": null,
   "metadata": {
    "id": "EcfsPpup9ljK"
   },
   "outputs": [],
   "source": [
    "#@title Run this code to create a confusion matrix. { display-mode: \"form\" }\n",
    "#@markdown If you are curious how it works you may double-click to inspect the code.\n",
    "\n",
    "# Import the metrics class\n",
    "from sklearn import metrics\n",
    "\n",
    "# Create the Confusion Matrix\n",
    "# y_test = dataframe['diagnosis']\n",
    "cnf_matrix = metrics.confusion_matrix(y_test, y_pred)\n",
    "\n",
    "# Visualizing the Confusion Matrix\n",
    "class_names = [0,1] # Our diagnosis categories\n",
    "\n",
    "fig, ax = plt.subplots()\n",
    "# Setting up and visualizing the plot (do not worry about the code below!)\n",
    "tick_marks = np.arange(len(class_names)) \n",
    "plt.xticks(tick_marks, class_names)\n",
    "plt.yticks(tick_marks, class_names)\n",
    "sns.heatmap(pd.DataFrame(cnf_matrix), annot=True, cmap=\"YlGnBu\" ,fmt='g') # Creating heatmap\n",
    "ax.xaxis.set_label_position(\"top\")\n",
    "plt.tight_layout()\n",
    "plt.title('Confusion matrix', y = 1.1)\n",
    "plt.ylabel('Actual diagnosis')\n",
    "plt.xlabel('Predicted diagnosis')"
   ]
  },
  {
   "cell_type": "code",
   "execution_count": null,
   "metadata": {
    "cellView": "form",
    "id": "CIvF8LQklcGp"
   },
   "outputs": [],
   "source": [
    "#@title Take a look at the confusion matrix and answer the following questions:\n",
    "\n",
    "#@markdown What are the values in the top left (0, 0)?\n",
    "top_left = \"Choose an Answer\" #@param [\"True Positives\", \"True Negatives\", \"False Positives\", \"False Negatives\", \"Choose an Answer\"] \n",
    "\n",
    "#@markdown What are the values in the bottom right (1, 1)?\n",
    "bottom_right = \"Choose an Answer\" #@param [\"True Positives\", \"True Negatives\", \"False Positives\", \"False Negatives\", \"Choose an Answer\"] \n",
    "\n",
    "#@markdown What are the values in the top right (0, 1)?\n",
    "top_right = \"Choose an Answer\" #@param [\"True Positives\", \"True Negatives\", \"False Positives\", \"False Negatives\", \"Choose an Answer\"] \n",
    "\n",
    "#@markdown What are the values in the bottom left (1, 0)?\n",
    "bottom_left = \"Choose an Answer\" #@param [\"True Positives\", \"True Negatives\", \"False Positives\", \"False Negatives\", \"Choose an Answer\"] \n",
    "\n",
    "if top_left == \"True Negatives\" and bottom_right == \"True Positives\":\n",
    "  print(\"Correct! Our results are True if our model is correct!\")\n",
    "else:\n",
    "  print(\"One or both of our (0, 0) and (1, 1) interpretations is incorrect. Try again!\")\n",
    "\n",
    "if top_right == \"False Positives\":\n",
    "  print(\"Correct! A false positive is when our model predicts that a sample is malignant when it's actually benign.\")\n",
    "else:\n",
    "  print(\"That's not quite what (0, 1) values are. Try again!\")\n",
    "\n",
    "if bottom_left == \"False Negatives\":\n",
    "  print(\"Correct! A false negative is when our model predicts that a sample is benign when it's actually malignant.\")\n",
    "else:\n",
    "  print(\"That's not quite what (1, 0) values are. Try again!\")"
   ]
  },
  {
   "cell_type": "markdown",
   "metadata": {
    "id": "wzzrWDT_cxvF"
   },
   "source": [
    "**Discuss:**\n",
    "- How many `True` values did our model predict?\n",
    "- How many `False` values?\n",
    "- Is our model a good classifier? Why or why not?"
   ]
  },
  {
   "cell_type": "markdown",
   "metadata": {
    "id": "fu4_0P0BfjYF"
   },
   "source": [
    "###Optional Challenge Exercise: Choosing a Metric\n",
    "\n",
    "Depending on the situation, we might measure success in different ways. For example, we might use:\n",
    "\n",
    "**Accuracy:** What portion of our predictions are right?\n",
    "\n",
    "**Precision:** What portion of our positive predictions are actually positive?\n",
    "\n",
    "**Recall:** What portion of the actual positives did we identify?\n",
    "\n",
    "**Discuss: Which metric is most important for cancer diagnosis?**\n",
    "\n",
    "To calculate any of these, we can use the numbers from our confusion matrix:"
   ]
  },
  {
   "cell_type": "code",
   "execution_count": null,
   "metadata": {
    "id": "vVejXKvcfitm"
   },
   "outputs": [],
   "source": [
    "print (cnf_matrix)\n",
    "(tn, fp), (fn, tp) = cnf_matrix\n",
    "print (\"TN, FP, FN, TP:\", tn, fp, fn, tp)"
   ]
  },
  {
   "cell_type": "markdown",
   "metadata": {
    "id": "p140EnBtxL1F"
   },
   "source": [
    "Now, calculate your model's performance by your chosen metric! You can use the [table on Wikipedia ](https://en.wikipedia.org/wiki/Confusion_matrix) to choose a metric and find a formula. How does it change your view of your model?\n"
   ]
  },
  {
   "cell_type": "code",
   "execution_count": null,
   "metadata": {
    "id": "LuZPSa-Jxgfs"
   },
   "outputs": [],
   "source": [
    "#YOUR CODE HERE"
   ]
  },
  {
   "cell_type": "markdown",
   "metadata": {
    "id": "M1aukjaVKHxx"
   },
   "source": [
    "**Congratulations!** You've successfully trained and evaluated a logistic regression model for diagnosing cancer."
   ]
  },
  {
   "cell_type": "markdown",
   "metadata": {
    "id": "bCP5dB9dvJ1x"
   },
   "source": [
    "#Optional: Decision Trees Walkthrough\n",
    "\n",
    "Finally, let's try a different classification model: decision trees! Recall that with decision trees, we choose features that create the best splits of our dataset (separates it into classes as best it can at that time)."
   ]
  },
  {
   "cell_type": "code",
   "execution_count": null,
   "metadata": {
    "id": "VbpWRKvyTedY"
   },
   "outputs": [],
   "source": [
    "#@title Create the model { display-mode: \"both\" }\n",
    "from sklearn import tree\n",
    "\n",
    "# We'll first specify what model we want, in this case a decision tree\n",
    "class_dt = tree.DecisionTreeClassifier(max_depth=3)\n",
    "\n",
    "# We use our previous `X_train` and `y_train` sets to build the model\n",
    "class_dt.fit(multi_X_train, y_train)"
   ]
  },
  {
   "cell_type": "code",
   "execution_count": null,
   "metadata": {
    "id": "2PpoiLD77HkK"
   },
   "outputs": [],
   "source": [
    "#@title Visualize and interpret the tree\n",
    "plt.figure(figsize=(13,8))  # set plot size\n",
    "tree.plot_tree(class_dt, fontsize=10) "
   ]
  },
  {
   "cell_type": "code",
   "execution_count": null,
   "metadata": {
    "id": "IKUiw9KdUQBs"
   },
   "outputs": [],
   "source": [
    "#@title Find the predictions based on the model { display-mode: \"both\" }\n",
    "# now let's see how it performed!\n",
    "multi_y_pred = class_dt.predict(multi_X_test)"
   ]
  },
  {
   "cell_type": "code",
   "execution_count": null,
   "metadata": {
    "id": "FcJmeOmFUaHP"
   },
   "outputs": [],
   "source": [
    "#@title Calculate model performance { display-mode: \"both\" }\n",
    "print(\"Accuracy: \", metrics.accuracy_score(y_test, multi_y_pred))\n",
    "print(\"Precision: \", metrics.precision_score(y_test, multi_y_pred))\n",
    "print(\"Recall: \", metrics.recall_score(y_test, multi_y_pred))"
   ]
  },
  {
   "cell_type": "markdown",
   "metadata": {
    "id": "E73C1cXI7e_N"
   },
   "source": [
    "**Question: What features are included in this classifier? How might you interpret this tree? Did this do better than the logistic regression?**"
   ]
  },
  {
   "cell_type": "markdown",
   "metadata": {
    "id": "2_xQGU1B03sz"
   },
   "source": [
    "# Advanced (Optional): Choosing a Classifier\n",
    "We've studied two common classifiers, but many more are available. You can read about some of them [here](https://stackabuse.com/overview-of-classification-methods-in-python-with-scikit-learn/).\n",
    "\n",
    "Let's try to choose the overall best classifier for this dataset. Fill in the code below to:\n",
    "*   Use a for loop to train and evaluate each classifer in the list on our dataset.\n",
    "*   Calculate the precision, recall, and accuracy on the test set for each classifier, and store the results in a data frame so it's easy to analyze.\n",
    "*   Create plots to show the relationships between precision, accuracy, and recall and help you choose the \"best\" classifier.\n",
    "\n",
    "Then experiment with changing the hyperparameters (options) of each classifier - can you get even better results?"
   ]
  },
  {
   "cell_type": "code",
   "execution_count": null,
   "metadata": {
    "cellView": "form",
    "id": "hxYta-NO1-vV"
   },
   "outputs": [],
   "source": [
    "#@title Run this to import classifiers\n",
    "import numpy as np\n",
    "import matplotlib.pyplot as plt\n",
    "from matplotlib.colors import ListedColormap\n",
    "from sklearn.model_selection import train_test_split\n",
    "from sklearn.preprocessing import StandardScaler\n",
    "from sklearn.datasets import make_moons, make_circles, make_classification\n",
    "from sklearn.neural_network import MLPClassifier\n",
    "from sklearn.neighbors import KNeighborsClassifier\n",
    "from sklearn.svm import SVC\n",
    "from sklearn.gaussian_process import GaussianProcessClassifier\n",
    "from sklearn.gaussian_process.kernels import RBF\n",
    "from sklearn.tree import DecisionTreeClassifier\n",
    "from sklearn.ensemble import RandomForestClassifier, AdaBoostClassifier\n",
    "from sklearn.naive_bayes import GaussianNB\n",
    "from sklearn.discriminant_analysis import QuadraticDiscriminantAnalysis\n"
   ]
  },
  {
   "cell_type": "code",
   "execution_count": null,
   "metadata": {
    "id": "oNnm1_--unHR"
   },
   "outputs": [],
   "source": [
    "#Once you've got your code working, try changing the hyperparameters of the classifiers\n",
    "#to see if you can get even better results. \n",
    "#Can you find out what the hyperparameters mean?\n",
    "classifiers = [\n",
    "    KNeighborsClassifier(3),\n",
    "    SVC(kernel=\"linear\", C=0.025),\n",
    "    GaussianProcessClassifier(1.0 * RBF(1.0)),\n",
    "    DecisionTreeClassifier(max_depth=5),\n",
    "    RandomForestClassifier(max_depth=5, n_estimators=10, max_features=1),\n",
    "    MLPClassifier(alpha=1, max_iter=1000),\n",
    "    AdaBoostClassifier(),\n",
    "    GaussianNB(),\n",
    "    QuadraticDiscriminantAnalysis()] \n",
    "\n",
    "\n",
    "#Use a for loop to train and test each classifier, and print the results\n",
    "#You might find the code above useful, as well as https://towardsdatascience.com/a-python-beginners-look-at-loc-part-2-bddef7dfa7f2 .\n",
    "\n",
    "### YOUR CODE HERE ###\n",
    "\n",
    "\n",
    "\n",
    "\n",
    "### END CODE ###\n",
    "\n",
    "#TODO: Using pyplot, show the relationships between precision, recall, and/or accuracy.\n",
    "#Tutorial here: https://matplotlib.org/tutorials/introductory/pyplot.html\n"
   ]
  },
  {
   "cell_type": "markdown",
   "metadata": {
    "id": "4Lr8SaCT2scN"
   },
   "source": [
    "**Think about:**\n",
    "*   Which classifier would you choose?\n",
    "*   What are the relationships among precision, recall, and accuracy? For this dataset, which is most important?\n",
    "*   Can you find more successful hyperparameters for each classifer?\n",
    "\n",
    "Your experiments will help you find a classifier that works very well on our test set. However, you're running a risk by doing so much manual fine-tuning: you might end up \"overfitting\" (on a more meta level) by choosing a classifier that works well on your test set, but might not work well on other data. \n",
    "\n",
    "That's why most machine learning projects actually use [*three* datasets](https://towardsdatascience.com/train-validation-and-test-sets-72cb40cba9e7): a training set that we use to train each candidate model; a validation set that we use to evaluate each candidate model and choose the best one; and finally, a test set which we use only once, to report the overall performance of our project. \n",
    "\n",
    "\n"
   ]
  }
 ],
 "metadata": {
  "accelerator": "GPU",
  "colab": {
   "collapsed_sections": [
    "HP9U_AO8stAq",
    "CwIq3r8RENiw"
   ],
   "name": "Logistic_Regression_Student_A.ipynb",
   "provenance": []
  },
  "kernelspec": {
   "display_name": "Python 3.10.5 64-bit (windows store)",
   "language": "python",
   "name": "python3"
  },
  "language_info": {
   "codemirror_mode": {
    "name": "ipython",
    "version": 3
   },
   "file_extension": ".py",
   "mimetype": "text/x-python",
   "name": "python",
   "nbconvert_exporter": "python",
   "pygments_lexer": "ipython3",
   "version": "3.10.5"
  },
  "vscode": {
   "interpreter": {
    "hash": "5f8878b0f690054f0bb624dd21021a17c04063c2283a46d93fb7a93295eb9eff"
   }
  }
 },
 "nbformat": 4,
 "nbformat_minor": 4
}
