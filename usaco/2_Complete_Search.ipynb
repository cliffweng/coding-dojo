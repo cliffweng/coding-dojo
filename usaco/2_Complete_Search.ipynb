{
 "cells": [
  {
   "cell_type": "markdown",
   "metadata": {},
   "source": [
    "## Complete Search / Brute Force\n",
    "https://usaco.guide/bronze/intro-complete?lang=py\\\n",
    "\n",
    "In many problems (especially in Bronze), it’s sufficient to check all possible cases in the solution space, whether it be all elements, all pairs of elements, or all subsets, or all permutations. Unsurprisingly, this is called complete search (or brute force), because it\n",
    "completely searches the entire solution space."
   ]
  },
  {
   "cell_type": "markdown",
   "metadata": {},
   "source": [
    "[Milk Pails](http://www.usaco.org/index.php?page=viewproblem2&cpid=615) 2016 February"
   ]
  },
  {
   "cell_type": "code",
   "execution_count": 11,
   "metadata": {},
   "outputs": [
    {
     "name": "stdout",
     "output_type": "stream",
     "text": [
      "76\n"
     ]
    }
   ],
   "source": [
    "fin = open ('pails.in', 'r')\n",
    "fout = open ('pails.out', 'w')\n",
    "x,y,m = map(int,fin.readline().strip().split())\n",
    "maxm=0\n",
    "if m % x == 0 or m % y == 0:\n",
    "    maxm = m\n",
    "else:\n",
    "    for i in range(int(m/x)+1): # i is how many buckets of x we pour\n",
    "        remaining = m - i*x\n",
    "        if remaining % y == 0:\n",
    "            maxm = m\n",
    "            break\n",
    "        else:\n",
    "            all = i*x + int(remaining/y) * y\n",
    "            if all > maxm:\n",
    "                maxm = all\n",
    "print(maxm)\n",
    "fout.write (str(maxm))\n",
    "fout.close()"
   ]
  },
  {
   "cell_type": "code",
   "execution_count": null,
   "metadata": {},
   "outputs": [],
   "source": []
  }
 ],
 "metadata": {
  "kernelspec": {
   "display_name": "Python 3",
   "language": "python",
   "name": "python3"
  },
  "language_info": {
   "codemirror_mode": {
    "name": "ipython",
    "version": 3
   },
   "file_extension": ".py",
   "mimetype": "text/x-python",
   "name": "python",
   "nbconvert_exporter": "python",
   "pygments_lexer": "ipython3",
   "version": "3.9.1"
  }
 },
 "nbformat": 4,
 "nbformat_minor": 4
}
