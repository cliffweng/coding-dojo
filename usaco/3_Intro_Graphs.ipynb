{
 "cells": [
  {
   "cell_type": "markdown",
   "metadata": {},
   "source": [
    "## Introduction to Graphs\n",
    "https://usaco.guide/bronze/intro-graphs?lang=py\n",
    "\n",
    "Visualizing problems as graphs with resources covering basic terminology.\n",
    "Table of ContentsWhat Does a Bronze Graph Problem Look Like?ProblemsEdit with LiveUpdate\n",
    "\n",
    "Note: Graphs will become a key topic in higher divisions. **For Bronze, graphs are just a nice way to think about the structure of our data.**\n",
    "\n",
    "Graphs can be used to represent many things, from images to wireless signals, but one of the simplest analogies is to a map. Consider a map with several cities and bidirectional roads connecting the cities. Some problems relating to graphs are:\n",
    "\n",
    "- Is city $A$ connected to city $B$? Consider a region to be a group of cities such that each city in the group can reach any other city in said group, but no other cities. How many regions are in this map, and which cities are in which region? (Silver)\n",
    "- What's the shortest distance I have to travel to get from city $A$ to city $B$? (Gold)\n",
    "\n",
    "For now, it suffices to learn how graphs are represented (usually adjacency lists).\n",
    "\n",
    "See [Making Data Tree in Python](https://medium.com/swlh/making-data-trees-in-python-3a3ceb050cfd)"
   ]
  },
  {
   "cell_type": "markdown",
   "metadata": {},
   "source": [
    "**Hard** [Milk Factory](http://www.usaco.org/index.php?page=viewproblem2&cpid=940) 2019 US Open"
   ]
  },
  {
   "cell_type": "code",
   "execution_count": 15,
   "metadata": {},
   "outputs": [
    {
     "name": "stdout",
     "output_type": "stream",
     "text": [
      "{2: {1, 3}}\n",
      "2\n"
     ]
    }
   ],
   "source": [
    "## remove all the reachable nodes from i\n",
    "def checkReachable(i,unreachable):\n",
    "    unreachable.remove(i) # remove itself from unreachable\n",
    "    if not i in reach:\n",
    "        return\n",
    "    for st in reach[i]: # for each upstream node\n",
    "        checkReachable(st,unreachable)\n",
    "        \n",
    "fin = open ('factory.in', 'r')\n",
    "reach = {} # {2:{1,3}, 5:{3}, 4:{3,5}} which nodes (in the set, {1,3}) can reach me 2.\n",
    "l = int(fin.readline().strip())\n",
    "for i in range(l-1): # build the `reach` tree\n",
    "    fromP, toP = map(int,fin.readline().strip().split())\n",
    "    if toP in reach:\n",
    "        reach[toP].add(fromP)\n",
    "    else:\n",
    "        reach[toP] = set([fromP])\n",
    "print(reach)\n",
    "answer=-1\n",
    "for i in range(1,l+1): # checking i station\n",
    "    unreachable = list(range(1,l+1))\n",
    "    checkReachable(i,unreachable)\n",
    "    if len(unreachable) == 0:\n",
    "        answer=i\n",
    "        break\n",
    "\n",
    "print(answer)\n",
    "fout = open ('factory.out', 'w')\n",
    "fout.write(str(answer))\n",
    "fout.close()"
   ]
  },
  {
   "cell_type": "code",
   "execution_count": null,
   "metadata": {},
   "outputs": [],
   "source": []
  }
 ],
 "metadata": {
  "kernelspec": {
   "display_name": "Python 3",
   "language": "python",
   "name": "python3"
  },
  "language_info": {
   "codemirror_mode": {
    "name": "ipython",
    "version": 3
   },
   "file_extension": ".py",
   "mimetype": "text/x-python",
   "name": "python",
   "nbconvert_exporter": "python",
   "pygments_lexer": "ipython3",
   "version": "3.9.1"
  }
 },
 "nbformat": 4,
 "nbformat_minor": 4
}
