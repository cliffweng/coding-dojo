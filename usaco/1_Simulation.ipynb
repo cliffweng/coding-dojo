{
 "cells": [
  {
   "cell_type": "markdown",
   "metadata": {},
   "source": [
    "## Simulation\n",
    "\n",
    "In many problems, we can simply simulate what we’re told to do by the problem statement. Since there’s no formal algorithm involved, the intent of the problem is to assess competence with one’s programming language of choice and knowledge of built-in data structures. At least in USACO Bronze, when a problem statement says to find the end result of some process, or to find when something occurs, it’s usually sufficient to simulate the process.\n",
    "\n",
    "- https://usaco.guide/bronze/simulation?lang=py\n",
    "- https://darrenyao.com/usacobook/cpp.pdf#page=26\n",
    "\n",
    "#### * Basically you need to know how o translate a problem into code."
   ]
  },
  {
   "cell_type": "markdown",
   "metadata": {},
   "source": [
    "[Shell Game](http://www.usaco.org/index.php?page=viewproblem2&cpid=891) 2019 January"
   ]
  },
  {
   "cell_type": "code",
   "execution_count": 5,
   "metadata": {},
   "outputs": [
    {
     "name": "stdout",
     "output_type": "stream",
     "text": [
      "[1, 2, 0]\n"
     ]
    }
   ],
   "source": [
    "fin = open ('shell.in', 'r')\n",
    "l = int(fin.readline().strip())\n",
    "currentP=[1,2,3] # starting pebble position for each scenario\n",
    "noRight=[0,0,0]  # starting number of guess right for each scenario\n",
    "\n",
    "for i in range(l):\n",
    "    a,b,g = map(int, fin.readline().strip().split())\n",
    "    for j in range(3): # for each starting position\n",
    "        if currentP[j] == a:\n",
    "            currentP[j] = b\n",
    "        elif currentP[j] == b:\n",
    "            currentP[j] = a\n",
    "        if currentP[j] == g:\n",
    "            noRight[j] += 1\n",
    "    # print(a,b,currentP,g,noRight)\n",
    "print(noRight)\n",
    "fout = open ('shell.out', 'w')\n",
    "fout.write (str(max(noRight)))\n",
    "fout.close()"
   ]
  },
  {
   "cell_type": "markdown",
   "metadata": {},
   "source": [
    "[Mixing Milk](http://www.usaco.org/index.php?page=viewproblem2&cpid=855) 2018 December"
   ]
  },
  {
   "cell_type": "code",
   "execution_count": 24,
   "metadata": {},
   "outputs": [],
   "source": [
    "fin = open ('mixmilk.in', 'r')\n",
    "bSize = [0,0,0]\n",
    "bAmount = [0,0,0]\n",
    "for i in range(3):\n",
    "    bSize[i],bAmount[i] = map(int, fin.readline().strip().split())\n",
    "fromBucket=0\n",
    "toBucket=1\n",
    "for i in range(100):\n",
    "    max_allowedAmt = bSize[toBucket] - bAmount[toBucket]\n",
    "    if bAmount[fromBucket] >  bSize[toBucket] - bAmount[toBucket]: # has more milk than max allowed\n",
    "        bAmount[fromBucket] -= (bSize[toBucket] - bAmount[toBucket]) # minus fill amount \n",
    "        bAmount[toBucket] = bSize[toBucket] # fill up the target\n",
    "    else:\n",
    "        bAmount[toBucket] += bAmount[fromBucket]\n",
    "        bAmount[fromBucket] = 0\n",
    "   \n",
    "    # print(fromBucket,toBucket,bAmount)\n",
    "    fromBucket = (fromBucket+1) % 3\n",
    "    toBucket = (toBucket+1) % 3\n",
    " \n",
    "fout = open ('mixmilk.out', 'w')\n",
    "for i in range(3):\n",
    "    fout.write(str(bAmount[i])+\"\\n\")\n",
    "fout.close()"
   ]
  },
  {
   "cell_type": "markdown",
   "metadata": {},
   "source": [
    "[Milk Measurement](http://www.usaco.org/index.php?page=viewproblem2&cpid=761) 2017 December"
   ]
  },
  {
   "cell_type": "code",
   "execution_count": 63,
   "metadata": {},
   "outputs": [
    {
     "name": "stdout",
     "output_type": "stream",
     "text": [
      "1 Bessie 2 {'Mildred': 7, 'Elsie': 7, 'Bessie': 9} 1 {'Bessie'}\n",
      "4 Elsie -1 {'Mildred': 7, 'Elsie': 6, 'Bessie': 9} 1 {'Bessie'}\n",
      "7 Mildred 3 {'Mildred': 10, 'Elsie': 6, 'Bessie': 9} 2 {'Mildred'}\n",
      "9 Mildred -1 {'Mildred': 9, 'Elsie': 6, 'Bessie': 9} 3 {'Mildred', 'Bessie'}\n",
      "3\n"
     ]
    }
   ],
   "source": [
    "cowMeasure={} # e.g. {2:{'Mildred':3,'Elsie':-1},4:{'Elsie':5}}\n",
    "fin = open ('measurement.in', 'r')\n",
    "n = int(fin.readline().strip())\n",
    "for i in range(n):\n",
    "    day,cow,change = fin.readline().strip().split()\n",
    "    day = int(day)\n",
    "    change = int(change)\n",
    "    if day in cowMeasure:\n",
    "        cowMeasure[day][cow] = change\n",
    "    else:\n",
    "        cowMeasure[day] = {cow:change}\n",
    "cowAmount = {'Mildred':7,'Elsie':7,'Bessie':7}\n",
    "winners = {'Mildred','Elsie','Bessie'}\n",
    "changeWinner = 0\n",
    "for d in sorted(cowMeasure):\n",
    "    for cow,change in cowMeasure[d].items():\n",
    "        cowAmount[cow] += change\n",
    "        highest = max(cowAmount.values())\n",
    "        new_winners = set()\n",
    "        for c in cowAmount:\n",
    "            if cowAmount[c] == highest:\n",
    "                new_winners.add(c)\n",
    "        if new_winners != winners:\n",
    "            changeWinner += 1\n",
    "            winners = new_winners\n",
    "        \n",
    "        print(d,cow,change,cowAmount,changeWinner,winners)\n",
    "        \n",
    "print(changeWinner)\n",
    "fout = open ('measurement.out', 'w')\n",
    "fout.write(str(changeWinner))\n",
    "fout.close()"
   ]
  }
 ],
 "metadata": {
  "kernelspec": {
   "display_name": "Python 3",
   "language": "python",
   "name": "python3"
  },
  "language_info": {
   "codemirror_mode": {
    "name": "ipython",
    "version": 3
   },
   "file_extension": ".py",
   "mimetype": "text/x-python",
   "name": "python",
   "nbconvert_exporter": "python",
   "pygments_lexer": "ipython3",
   "version": "3.9.1"
  }
 },
 "nbformat": 4,
 "nbformat_minor": 4
}
