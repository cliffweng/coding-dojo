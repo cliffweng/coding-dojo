{
 "cells": [
  {
   "cell_type": "markdown",
   "metadata": {},
   "source": [
    "## Simulation\n",
    "\n",
    "In many problems, we can simply simulate what we’re told to do by the problem statement. Since there’s no formal algorithm involved, the intent of the problem is to assess competence with one’s programming language of choice and knowledge of built-in data structures. At least in USACO Bronze, when a problem statement says to find the end result of some process, or to find when something occurs, it’s usually sufficient to simulate the process.\n",
    "\n",
    "- https://usaco.guide/bronze/simulation?lang=py\n",
    "- https://darrenyao.com/usacobook/cpp.pdf#page=26\n",
    "\n",
    "#### * Basically you need to know how o translate a problem into code."
   ]
  },
  {
   "cell_type": "markdown",
   "metadata": {},
   "source": [
    "### USACO 2019 January Contest, Bronze Problem 1. Shell Game\n",
    "[source](http://www.usaco.org/index.php?page=viewproblem2&cpid=891)\n",
    "\n",
    "To pass the time, Bessie the cow and her friend Elsie like to play a version of a game they saw at the county fair.\n",
    "To start, Bessie puts three inverted shells on a table and places a small round pebble under one of them (at least she hopes it is a pebble -- she found it on the ground in one of the pastures). Bessie then proceeds to swap pairs of shells, while Elsie tries to guess the location of the pebble.\n",
    "\n",
    "The standard version of the game the cows saw being played at the county fair allowed the player to see the initial location of the pebble, and then required guessing its final location after all the swaps were complete.\n",
    "\n",
    "However, the cows like to play a version where Elsie does not know the initial location of the pebble, and where she can guess the pebble location after every swap. Bessie, knowing the right answer, gives Elsie a score at the end equal to the number of correct guesses she made.\n",
    "\n",
    "Given the swaps and the guesses, but not the initial pebble location, please determine the highest possible score Elsie could have earned.\n",
    "#### INPUT FORMAT (file shell.in):\n",
    "The first line of the input file contains an integer N giving the number of swaps (1≤N≤100). Each of the next N lines describes a step of the game and contains three integers a, b, and g, indicating that shells a and b were swapped by Bessie, and then Elsie guessed shell g after the swap was made. All three of these integers are either 1, 2, or 3, and a≠b.\n",
    "#### OUTPUT FORMAT (file shell.out):\n",
    "Please output the maximum number of points Elsie could have earned.\n",
    "#### SAMPLE INPUT:\n",
    "```\n",
    "3\n",
    "1 2 1\n",
    "3 2 1\n",
    "1 3 1\n",
    "```\n",
    "#### SAMPLE OUTPUT:\n",
    "2\n",
    "\n",
    "In this example, Elsie could have earned at most 2 points. If the pebble started under shell 1, then she guesses right exactly once (her final guess). If the pebble started under shell 2, then she guesses right twice (the first two guesses). If the pebble started under shell 3, then she doesn't make any correct guesses."
   ]
  },
  {
   "cell_type": "code",
   "execution_count": 3,
   "metadata": {},
   "outputs": [],
   "source": [
    "\"\"\"\n",
    "ID: weng.cl1\n",
    "LANG: PYTHON3\n",
    "TASK: shell\n",
    "\"\"\"\n",
    "fin = open ('shell.in', 'r')\n",
    "fout = open ('shell.out', 'w')\n",
    "\n",
    "## Do something here\n",
    "\n",
    "fout.write ('OK')\n",
    "fout.close()"
   ]
  },
  {
   "cell_type": "markdown",
   "metadata": {},
   "source": [
    "### USACO December 2018 Bronze Problem 1: Mixing Milk\n",
    "[Source](http://www.usaco.org/index.php?page=viewproblem2&cpid=855)\n",
    "\n",
    "Farming is competitive business -- particularly milk production. Farmer John figures that if he doesn't innovate in his milk production methods, his dairy business could get creamed!\n",
    "Fortunately, Farmer John has a good idea. His three prize dairy cows Bessie, Elsie, and Mildred each produce milk with a slightly different taste, and he plans to mix these together to get the perfect blend of flavors.\n",
    "\n",
    "To mix the three different milks, he takes three buckets containing milk from the three cows. The buckets may have different sizes, and may not be completely full. He then pours bucket 1 into bucket 2, then bucket 2 into bucket 3, then bucket 3 into bucket 1, then bucket 1 into bucket 2, and so on in a cyclic fashion, for a total of 100 pour operations (so the 100th pour would be from bucket 1 into bucket 2). When Farmer John pours from bucket a into bucket b, he pours as much milk as possible until either bucket a becomes empty or bucket b becomes full.\n",
    "\n",
    "Please tell Farmer John how much milk will be in each bucket after he finishes all 100 pours.\n",
    "#### INPUT FORMAT (file mixmilk.in):\n",
    "The first line of the input file contains two space-separated integers: the capacity c1 of the first bucket, and the amount of milk m1 in the first bucket. Both c1 and m1 are positive and at most 1 billion, with c1≥m1. The second and third lines are similar, containing capacities and milk amounts for the second and third buckets.\n",
    "#### OUTPUT FORMAT (file mixmilk.out):\n",
    "Please print three lines of output, giving the final amount of milk in each bucket, after 100 pour operations.\n",
    "#### SAMPLE INPUT:\n",
    "10 3\n",
    "11 4\n",
    "12 5\n",
    "#### SAMPLE OUTPUT:\n",
    "0\n",
    "10\n",
    "2\n",
    "\n",
    "In this example, the milk in each bucket is as follows during the sequence of pours:\n",
    "\n",
    "Initial State: 3  4  5\n",
    "1. Pour 1->2:  0  7  5\n",
    "2. Pour 2->3:  0  0  12\n",
    "3. Pour 3->1:  10 0  2\n",
    "4. Pour 1->2:  0  10 2\n",
    "5. Pour 2->3:  0  0  12\n",
    "\n",
    "(The last three states then repeat in a cycle ...)"
   ]
  },
  {
   "cell_type": "code",
   "execution_count": 1,
   "metadata": {},
   "outputs": [],
   "source": [
    "\"\"\"\n",
    "ID: weng.cl1\n",
    "LANG: PYTHON3\n",
    "TASK: mixmilk\n",
    "\"\"\"\n",
    "fin = open ('mixmilk.in', 'r')\n",
    "fout = open ('mixmilk.out', 'w')\n",
    "\n",
    "## Do something here\n",
    "\n",
    "fout.write ('OK')\n",
    "fout.close()"
   ]
  },
  {
   "cell_type": "markdown",
   "metadata": {},
   "source": [
    "### USACO December 2017 Bronze Problem 3: Milk Measurement\n",
    "[source](http://www.usaco.org/index.php?page=viewproblem2&cpid=761)\n",
    "\n",
    "Farmer John purchases three cows: Bessie, Elsie, and Mildred, each of whom initially produces 7 gallons of milk per day. Since the milk output of a cow is known to potentially change over time, Farmer John takes periodic measurements over the next 100 days and scribbles them down in a log book. Entries in his log look like this:\n",
    "```\n",
    "35 Bessie -2\n",
    "14 Mildred +3\n",
    "```\n",
    "The first entry indicates that on day 35, Bessie's milk output was 2 gallons lower than it was when last measured. The next entry indicates that on day 14, Mildred's milk output increased by 3 gallons from when it was last measured. Farmer John has only enough time to make at most one measurement on any given day. Unfortunately, he is a bit disorganized, and doesn't necessarily write down his measurements in chronological order.\n",
    "\n",
    "To keep his cows motivated, Farmer John proudly displays on the wall of his barn the picture of whichever cow currently has the highest milk output (if several cows tie for the highest milk output, he displays all of their pictures). Please determine the number of days on which Farmer John would have needed to change this display.\n",
    "#### INPUT FORMAT (file measurement.in):\n",
    "The first line of input contains N, the number of measurements Farmer John makes. Each of the next N lines contains one measurement, in the format above, specifying a day (an integer in the range 1..100), the name of a cow, and the change in her milk output since it was last measured (a nonzero integer). Each cow's milk output will always be in the range 0..1000.\n",
    "#### OUTPUT FORMAT (file measurement.out):\n",
    "Please output the number of days (an integer in the range 0..100) on which Farmer John needs to adjust his motivational display.\n",
    "#### SAMPLE INPUT:\n",
    "```\n",
    "4\n",
    "7 Mildred +3\n",
    "4 Elsie -1\n",
    "9 Mildred -1\n",
    "1 Bessie +2\n",
    "```\n",
    "#### SAMPLE OUTPUT:\n",
    "3\n",
    "\n",
    "Initially, all cows have milk output 7. On day 1, Bessie's milk output increases to 9, making her the unique cow with highest milk output and causing Farmer John to change his display. On day 4, Elsie's milk output decreases to 6, but this does not change the fact that Bessie is the sole cow in the lead. On day 7, Mildred jumps into the lead, changing the display, and on day 9, Mildred drops in production to be tied with Bessie, again changing the display."
   ]
  },
  {
   "cell_type": "code",
   "execution_count": null,
   "metadata": {},
   "outputs": [],
   "source": []
  }
 ],
 "metadata": {
  "kernelspec": {
   "display_name": "Python 3",
   "language": "python",
   "name": "python3"
  },
  "language_info": {
   "codemirror_mode": {
    "name": "ipython",
    "version": 3
   },
   "file_extension": ".py",
   "mimetype": "text/x-python",
   "name": "python",
   "nbconvert_exporter": "python",
   "pygments_lexer": "ipython3",
   "version": "3.8.6"
  }
 },
 "nbformat": 4,
 "nbformat_minor": 4
}
