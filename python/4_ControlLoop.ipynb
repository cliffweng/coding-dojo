{
 "cells": [
  {
   "cell_type": "markdown",
   "metadata": {},
   "source": [
    "## Control\n",
    "If, Elif, Else, For, While, Continue, Break\n",
    "\n",
    "### WHILE loop and BREAK"
   ]
  },
  {
   "cell_type": "code",
   "execution_count": 3,
   "metadata": {},
   "outputs": [
    {
     "name": "stdout",
     "output_type": "stream",
     "text": [
      "1\n",
      "2\n",
      "3\n",
      "4\n",
      "5\n"
     ]
    }
   ],
   "source": [
    "# While and Break\n",
    "cnt=0\n",
    "while(True):\n",
    "    if(cnt>=5):\n",
    "        break\n",
    "    cnt+=1\n",
    "    print(cnt)"
   ]
  },
  {
   "cell_type": "markdown",
   "metadata": {},
   "source": [
    "### FOR loop and RANGE"
   ]
  },
  {
   "cell_type": "code",
   "execution_count": 3,
   "metadata": {},
   "outputs": [
    {
     "name": "stdout",
     "output_type": "stream",
     "text": [
      "0\n",
      "1\n",
      "2\n",
      "3\n",
      "4\n",
      "----\n",
      "4\n",
      "5\n",
      "6\n",
      "7\n"
     ]
    }
   ],
   "source": [
    "for i in range(5):\n",
    "    print(i)\n",
    "print('----')\n",
    "for i in range(4,8):\n",
    "    print(i)"
   ]
  },
  {
   "cell_type": "code",
   "execution_count": 5,
   "metadata": {},
   "outputs": [
    {
     "name": "stdout",
     "output_type": "stream",
     "text": [
      "10\n",
      "8\n",
      "6\n",
      "4\n"
     ]
    }
   ],
   "source": [
    "# steps in range\n",
    "for i in range(10,2,-2):\n",
    "    print(i)"
   ]
  },
  {
   "cell_type": "code",
   "execution_count": 4,
   "metadata": {},
   "outputs": [
    {
     "name": "stdout",
     "output_type": "stream",
     "text": [
      "0 0 0\n",
      "0 1 0\n",
      "--\n",
      "1 0 0\n",
      "1 1 1\n",
      "--\n",
      "2 0 0\n",
      "2 1 2\n",
      "--\n",
      "3 0 0\n",
      "3 1 3\n",
      "--\n"
     ]
    }
   ],
   "source": [
    "# nested loops\n",
    "for i in range(4):\n",
    "    for j in range(2):\n",
    "        print(i,j,i*j)\n",
    "    print(\"--\")"
   ]
  },
  {
   "cell_type": "markdown",
   "metadata": {},
   "source": [
    "### Time a loop\n",
    "\n",
    "**time.time()** Return the time in seconds since the epoch as a floating point number. The specific date of the epoch and the handling of leap seconds is platform dependent. On Windows and most Unix systems, the epoch is January 1, 1970, 00:00:00 (UTC) "
   ]
  },
  {
   "cell_type": "code",
   "execution_count": 9,
   "metadata": {},
   "outputs": [
    {
     "name": "stdout",
     "output_type": "stream",
     "text": [
      "0.4009995460510254 1611242327.0468502\n",
      "0.3359804153442383 1611242327.448893\n",
      "0.35207176208496094 1611242327.7848735\n",
      "0.3439483642578125 1611242328.1369452\n",
      "0.32595300674438477 1611242328.4808936\n"
     ]
    }
   ],
   "source": [
    "import time\n",
    "\n",
    "for k in range(5):\n",
    "    starts_time = time.time()\n",
    "    for i in range(10000):\n",
    "        for j in range(1000):\n",
    "            pass #i*10+j\n",
    "    total_time = time.time() - starts_time\n",
    "    print(total_time, starts_time)"
   ]
  },
  {
   "cell_type": "code",
   "execution_count": null,
   "metadata": {},
   "outputs": [],
   "source": []
  }
 ],
 "metadata": {
  "kernelspec": {
   "display_name": "Python 3",
   "language": "python",
   "name": "python3"
  },
  "language_info": {
   "codemirror_mode": {
    "name": "ipython",
    "version": 3
   },
   "file_extension": ".py",
   "mimetype": "text/x-python",
   "name": "python",
   "nbconvert_exporter": "python",
   "pygments_lexer": "ipython3",
   "version": "3.9.1"
  }
 },
 "nbformat": 4,
 "nbformat_minor": 4
}
