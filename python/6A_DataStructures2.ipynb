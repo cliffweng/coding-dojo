{
 "cells": [
  {
   "cell_type": "markdown",
   "metadata": {},
   "source": [
    "## Containers\n",
    "Python includes several built-in container types: lists, dictionaries, sets, and tuples.\n",
    "\n",
    "## Dictionaries\n",
    "A dictionary stores (key, value) pairs, similar to a Map in Java or an object in Javascript. You can use it like this:\n"
   ]
  },
  {
   "cell_type": "code",
   "execution_count": 7,
   "metadata": {},
   "outputs": [
    {
     "name": "stdout",
     "output_type": "stream",
     "text": [
      "cat is cute\n",
      "True\n",
      "True\n",
      "False\n"
     ]
    }
   ],
   "source": [
    "d = {'cat': 'cute', 'dog': 'furry'}  # Create a new dictionary with some data\n",
    "\n",
    "d1 = d\n",
    "print(\"cat is\",d['cat'])       # Get an entry from a dictionary; prints \"cute\"\n",
    "d['fish'] = 'wet'     # Set an entry in a dictionary\n",
    "del d['fish']         # Remove an element from a dictionary\n",
    "d['fish'] = 'wet'\n",
    "\n",
    "print('cat' in d)     # Check if a dictionary has a given key; prints \"True\"\n",
    "print('cat' in d.keys())\n",
    "print('cat' in d.values())"
   ]
  },
  {
   "cell_type": "code",
   "execution_count": 10,
   "metadata": {},
   "outputs": [
    {
     "name": "stdout",
     "output_type": "stream",
     "text": [
      "None\n",
      "N/A\n",
      "cute\n",
      "N/A\n"
     ]
    }
   ],
   "source": [
    "print(d.get('horse')) # return None\n",
    "print(d['horse'])     # KeyError!! 'monkey' not a key of d, comment this out to run\n",
    "\n",
    "print(d.get('monkey', 'N/A'))  # Get an element with a default; prints \"N/A\"\n",
    "print(d.get('cat', 'N/A'))    # Get an element with a default; prints \"wet\"\n",
    "del d['cat'] \n",
    "print(d.get('cat', 'N/A')) # \"fish\" is no longer a key; prints \"N/A\""
   ]
  },
  {
   "cell_type": "markdown",
   "metadata": {},
   "source": [
    "You can find all you need to know about dictionaries in the documentation.\n",
    "\n",
    "**Loops**: It is easy to iterate over the keys in a dictionary:"
   ]
  },
  {
   "cell_type": "code",
   "execution_count": 13,
   "metadata": {},
   "outputs": [
    {
     "name": "stdout",
     "output_type": "stream",
     "text": [
      "A person has 2 legs\n",
      "A cat has 4 legs\n",
      "A spider has 8 legs\n",
      "no of legs 2\n",
      "no of legs 4\n",
      "no of legs 8\n"
     ]
    }
   ],
   "source": [
    "d = {'person': 2, 'cat': 4, 'spider': 8}\n",
    "for animal in d:\n",
    "    print(f'A {animal} has {d[animal]} legs')\n",
    "for l in d.values():\n",
    "    print(f'no of legs {l}')"
   ]
  },
  {
   "cell_type": "markdown",
   "metadata": {},
   "source": [
    "If you want access to keys and their corresponding values, use the **items** method:"
   ]
  },
  {
   "cell_type": "code",
   "execution_count": 4,
   "metadata": {},
   "outputs": [
    {
     "name": "stdout",
     "output_type": "stream",
     "text": [
      "A person has 2 legs\n",
      "A cat has 4 legs\n",
      "A spider has 8 legs\n"
     ]
    }
   ],
   "source": [
    "d = {'person': 2, 'cat': 4, 'spider': 8}\n",
    "for animal, legs in d.items():\n",
    "    print('A %s has %d legs' % (animal, legs))\n",
    "# Prints \"A person has 2 legs\", \"A cat has 4 legs\", \"A spider has 8 legs\""
   ]
  },
  {
   "cell_type": "markdown",
   "metadata": {},
   "source": [
    "**Dictionary comprehensions**: These are similar to list comprehensions, but allow you to easily construct dictionaries. For example:"
   ]
  },
  {
   "cell_type": "code",
   "execution_count": 5,
   "metadata": {},
   "outputs": [
    {
     "name": "stdout",
     "output_type": "stream",
     "text": [
      "{0: 0, 2: 4, 4: 16}\n"
     ]
    }
   ],
   "source": [
    "nums = [0, 1, 2, 3, 4]\n",
    "even_num_to_square = {x: x ** 2 for x in nums if x % 2 == 0}\n",
    "print(even_num_to_square)  # Prints \"{0: 0, 2: 4, 4: 16}\""
   ]
  },
  {
   "cell_type": "markdown",
   "metadata": {},
   "source": [
    "## Sets\n",
    "A set is an unordered collection of distinct elements. As a simple example, consider the following:"
   ]
  },
  {
   "cell_type": "code",
   "execution_count": 6,
   "metadata": {},
   "outputs": [
    {
     "name": "stdout",
     "output_type": "stream",
     "text": [
      "True\n",
      "False\n",
      "True\n",
      "3\n",
      "3\n",
      "2\n"
     ]
    }
   ],
   "source": [
    "animals = {'cat', 'dog'}\n",
    "print('cat' in animals)   # Check if an element is in a set; prints \"True\"\n",
    "print('fish' in animals)  # prints \"False\"\n",
    "animals.add('fish')       # Add an element to a set\n",
    "print('fish' in animals)  # Prints \"True\"\n",
    "print(len(animals))       # Number of elements in a set; prints \"3\"\n",
    "animals.add('cat')        # Adding an element that is already in the set does nothing\n",
    "print(len(animals))       # Prints \"3\"\n",
    "animals.remove('cat')     # Remove an element from a set\n",
    "print(len(animals))       # Prints \"2\"\n"
   ]
  },
  {
   "cell_type": "markdown",
   "metadata": {},
   "source": [
    "As usual, everything you want to know about sets can be found in the [documentation](https://docs.python.org/3.5/library/stdtypes.html#set).\n",
    "\n",
    "**Loops**: Iterating over a set has the same syntax as iterating over a list; however since sets are unordered, you cannot make assumptions about the order in which you visit the elements of the set:"
   ]
  },
  {
   "cell_type": "code",
   "execution_count": 3,
   "metadata": {},
   "outputs": [
    {
     "name": "stdout",
     "output_type": "stream",
     "text": [
      "#1: fish\n",
      "#2: cat\n",
      "#3: dog\n"
     ]
    }
   ],
   "source": [
    "animals = {'cat', 'dog', 'fish'}\n",
    "for idx, animal in enumerate(animals):\n",
    "    print('#%d: %s' % (idx + 1, animal))\n",
    "# Prints \"#1: fish\", \"#2: dog\", \"#3: cat\""
   ]
  },
  {
   "cell_type": "markdown",
   "metadata": {},
   "source": [
    "**Set comprehensions**: Like lists and dictionaries, we can easily construct sets using set comprehensions:"
   ]
  },
  {
   "cell_type": "code",
   "execution_count": 4,
   "metadata": {},
   "outputs": [
    {
     "name": "stdout",
     "output_type": "stream",
     "text": [
      "{0, 1, 2, 3, 4, 5}\n"
     ]
    }
   ],
   "source": [
    "from math import sqrt\n",
    "nums = {int(sqrt(x)) for x in range(30)}\n",
    "print(nums)  # Prints \"{0, 1, 2, 3, 4, 5}\""
   ]
  },
  {
   "cell_type": "markdown",
   "metadata": {},
   "source": [
    "## Tuples\n",
    "A tuple is an (immutable) ordered list of values. A tuple is in many ways similar to a list; one of the most important differences is that tuples can be used as keys in dictionaries and as elements of sets, while lists cannot. Here is a trivial example:"
   ]
  },
  {
   "cell_type": "code",
   "execution_count": 18,
   "metadata": {},
   "outputs": [
    {
     "name": "stdout",
     "output_type": "stream",
     "text": [
      "<class 'tuple'>\n",
      "{(0, 1): 0, (1, 2): 1, (2, 3): 2, (3, 4): 3, (4, 5): 4, (5, 6): 5, (6, 7): 6, (7, 8): 7, (8, 9): 8, (9, 10): 9}\n",
      "5\n",
      "1\n"
     ]
    }
   ],
   "source": [
    "d = {(x, x + 1): x for x in range(10)}  # Create a dictionary with tuple keys\n",
    "t = (5, 6)        # Create a tuple\n",
    "print(type(t))    # Prints \"<class 'tuple'>\"\n",
    "print(d)\n",
    "print(d[t])       # Prints \"5\"\n",
    "print(d[(1, 2)])  # Prints \"1\""
   ]
  },
  {
   "cell_type": "markdown",
   "metadata": {},
   "source": [
    "[The documentation](https://docs.python.org/3.5/tutorial/datastructures.html#tuples-and-sequences) has more information about tuples.\n",
    "\n",
    "## Stack\n",
    "\n",
    "Python doesn't have Stack, but Stack can be emulated by either **List** or **Deque**.\n",
    "\n",
    "https://www.geeksforgeeks.org/stack-in-python/\n",
    "\n",
    "### List\n",
    "Python’s built-in data structure **list** can be used as a stack. \n",
    "The functions associated with stack are:\n",
    "\n",
    "- empty() – Returns whether the stack is empty – Time Complexity : O(1)\n",
    "- size() – Returns the size of the stack – Time Complexity : O(1)\n",
    "- top() – Returns a reference to the top most element of the stack – Time Complexity : O(1)\n",
    "- push(g) – Adds the element ‘g’ at the top of the stack – Time Complexity : O(1)\n",
    "- pop() – Deletes the top most element of the stack – Time Complexity : O(1)"
   ]
  },
  {
   "cell_type": "code",
   "execution_count": 36,
   "metadata": {},
   "outputs": [
    {
     "name": "stdout",
     "output_type": "stream",
     "text": [
      "Initial stack ['a', 'b', 'c', 'd']\n",
      "Stack size()=4\n",
      "Stack top()=d\n",
      "\n",
      "Elements poped from stack:\n",
      "d\n",
      "c\n",
      "Stack after elements are poped:['a', 'b']\n",
      "Stack after empty():[]\n"
     ]
    }
   ],
   "source": [
    "# empty -> S.clear()\n",
    "# size -> len(S)\n",
    "# top -> S[-1]\n",
    "# push(e) -> S.apend(e)\n",
    "# pop -> S.pop()\n",
    "\n",
    "stack = ['a','b','c']\n",
    "\n",
    "# append() function to push element in the stack\n",
    "stack.append('d')\n",
    "\n",
    "stack2 = stack        # stack2 is just another reference to stack\n",
    "stack3 = stack.copy() # stack3 is a 'copy' of stack, and won't be changed when stack is changed\n",
    "print(f'Initial stack {stack}')\n",
    "print(f'Stack size()={len(stack)}')\n",
    "print(f'Stack top()={stack[-1]}')\n",
    "\n",
    "print('\\nElements poped from stack:')\n",
    "print(stack.pop())\n",
    "print(stack.pop())\n",
    "print(f'Stack after elements are poped:{stack2}')\n",
    "\n",
    "stack.clear()\n",
    "print(f'Stack after empty():{stack2}')"
   ]
  },
  {
   "cell_type": "markdown",
   "metadata": {},
   "source": [
    "### Deque\n",
    "**Deque** is a double-ended queue that supports efficient insertion of data to both ends and supports random access. The time complexity is **o(1)**; The time complexity of the queue list is **o(n)**.\n",
    "\n",
    "- empty -> S.clear()\n",
    "- size -> len(S)\n",
    "- top -> S[-1]\n",
    "- push(e) -> S.apend(e)\n",
    "- pop -> S.pop()"
   ]
  },
  {
   "cell_type": "code",
   "execution_count": 14,
   "metadata": {},
   "outputs": [
    {
     "name": "stdout",
     "output_type": "stream",
     "text": [
      "Initial stack deque(['a', 'b', 'c', 'd'])\n",
      "Stack size()=4\n",
      "Stack top()=d\n",
      "Stack after rotation:['c', 'd', 'a', 'b']\n",
      "\n",
      "Elements poped from stack:\n",
      "d\n",
      "c\n",
      "Stack after elements are poped:deque(['a', 'b'])\n",
      "Stack after empty():deque([])\n"
     ]
    }
   ],
   "source": [
    "from collections import deque\n",
    " \n",
    "stack = deque(['a','b','c'])\n",
    "stack.append('d')\n",
    "print(f'Initial stack {stack}')\n",
    "print(f'Stack size()={len(stack)}')\n",
    "print(f'Stack top()={stack[-1]}')\n",
    "\n",
    "stack.rotate(2)\n",
    "print(f'Stack after rotation:{list(stack)}')\n",
    "stack.rotate(-2)\n",
    "\n",
    "print('\\nElements poped from stack:')\n",
    "print(stack.pop())\n",
    "print(stack.pop())\n",
    "print(f'Stack after elements are poped:{stack}')\n",
    "\n",
    "stack.clear()\n",
    "print(f'Stack after empty():{stack}')"
   ]
  },
  {
   "cell_type": "code",
   "execution_count": null,
   "metadata": {},
   "outputs": [],
   "source": []
  }
 ],
 "metadata": {
  "kernelspec": {
   "display_name": "Python 3",
   "language": "python",
   "name": "python3"
  },
  "language_info": {
   "codemirror_mode": {
    "name": "ipython",
    "version": 3
   },
   "file_extension": ".py",
   "mimetype": "text/x-python",
   "name": "python",
   "nbconvert_exporter": "python",
   "pygments_lexer": "ipython3",
   "version": "3.8.6"
  }
 },
 "nbformat": 4,
 "nbformat_minor": 4
}
