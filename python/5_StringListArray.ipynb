{
 "cells": [
  {
   "cell_type": "markdown",
   "metadata": {},
   "source": [
    "## String"
   ]
  },
  {
   "cell_type": "code",
   "execution_count": 1,
   "metadata": {},
   "outputs": [
    {
     "name": "stdout",
     "output_type": "stream",
     "text": [
      "hello world\n",
      "length : 11\n"
     ]
    }
   ],
   "source": [
    "s = 'hello world'\n",
    "print(s)\n",
    "print('length :',len(s))"
   ]
  },
  {
   "cell_type": "code",
   "execution_count": 4,
   "metadata": {},
   "outputs": [
    {
     "data": {
      "text/plain": [
       "'ello'"
      ]
     },
     "execution_count": 4,
     "metadata": {},
     "output_type": "execute_result"
    }
   ],
   "source": [
    "s[s.find('e'):s.find('o')+1]"
   ]
  },
  {
   "cell_type": "markdown",
   "metadata": {},
   "source": [
    "### Slicing\n",
    "Python offers many ways to substring a string. It is often called ‘slicing’.\n",
    "\n",
    "It follows this template: **string[start:end:step]** where:\n",
    "```\n",
    "string[start:end]: Get all characters from index start to end-1\n",
    "string[:end]: Get all characters from the beginning of the string to end-1\n",
    "string[start:]: Get all characters from index start to the end of the string\n",
    "```"
   ]
  },
  {
   "cell_type": "code",
   "execution_count": 2,
   "metadata": {},
   "outputs": [
    {
     "name": "stdout",
     "output_type": "stream",
     "text": [
      "e\n",
      "e\n",
      "ello world\n"
     ]
    }
   ],
   "source": [
    "print(s[1])\n",
    "print(s[1:2])\n",
    "print(s[1:])"
   ]
  },
  {
   "cell_type": "markdown",
   "metadata": {},
   "source": [
    "#### Reverse a string"
   ]
  },
  {
   "cell_type": "code",
   "execution_count": 3,
   "metadata": {},
   "outputs": [
    {
     "name": "stdout",
     "output_type": "stream",
     "text": [
      "yP ni ylno ytilibadaer rof si edoc ni noitatnedni ehT\n"
     ]
    }
   ],
   "source": [
    "s=\"The indentation in code is for readability only in Py\"\n",
    "print(s[::-1])\n",
    "# or print(s[-1::-1])"
   ]
  },
  {
   "cell_type": "code",
   "execution_count": 4,
   "metadata": {},
   "outputs": [
    {
     "name": "stdout",
     "output_type": "stream",
     "text": [
      "['The', 'indentation', 'in', 'code', 'is', 'for', 'readability', 'only', 'in', 'Py']\n",
      "1956 01 31\n"
     ]
    }
   ],
   "source": [
    "## Tokenizer / split()\n",
    "str_list = s.split()\n",
    "print(str_list)\n",
    "\n",
    "datestr = '1956-01-31'\n",
    "year, month, day = datestr.split('-')\n",
    "print(year, month, day)"
   ]
  },
  {
   "cell_type": "code",
   "execution_count": 6,
   "metadata": {},
   "outputs": [
    {
     "name": "stdout",
     "output_type": "stream",
     "text": [
      "indentation\n",
      "in\n",
      "is\n",
      "in\n",
      "----\n",
      "The\n",
      "in\n",
      "is\n",
      "readability\n",
      "in\n"
     ]
    }
   ],
   "source": [
    "## loop through the List and print any string starting with i\n",
    "for s in str_list:\n",
    "    if s.startswith('i'):\n",
    "        print(s)\n",
    "print('----')\n",
    "## looping through index, and print every other element\n",
    "for i in range(0,len(str_list),2):\n",
    "    print(str_list[i])"
   ]
  },
  {
   "cell_type": "markdown",
   "metadata": {},
   "source": [
    "### Python 3's f-Strings"
   ]
  },
  {
   "cell_type": "code",
   "execution_count": 7,
   "metadata": {},
   "outputs": [
    {
     "name": "stdout",
     "output_type": "stream",
     "text": [
      "Hello, Eric. You are 24.\n",
      "Hello, Eric. You are 24.\n",
      "Hello, Eric. You are 24.\n"
     ]
    }
   ],
   "source": [
    "name = \"Eric\"\n",
    "age = 24\n",
    "## Old ways\n",
    "print(\"Hello, %s. You are %s.\" % (name, age))\n",
    "print(\"Hello, {1}. You are {0}.\".format(age, name))\n",
    "\n",
    "## Better Way, only in Python 3\n",
    "print(f\"Hello, {name}. You are {age}.\")"
   ]
  },
  {
   "cell_type": "markdown",
   "metadata": {},
   "source": [
    "### ASCII and String\n",
    "\n",
    "#### ORD() & CHR()"
   ]
  },
  {
   "cell_type": "code",
   "execution_count": 5,
   "metadata": {},
   "outputs": [
    {
     "name": "stdout",
     "output_type": "stream",
     "text": [
      "84 T <class 'str'>\n",
      "104 h <class 'str'>\n",
      "101 e <class 'str'>\n",
      "32   <class 'str'>\n",
      "67 C <class 'str'>\n",
      "97 a <class 'str'>\n",
      "114 r <class 'str'>\n",
      "33 ! <class 'str'>\n",
      "[32- ][33-!][34-\"][35-#][36-$][37-%][38-&][39-'][40-(][41-)][42-*][43-+][44-,][45--][46-.][47-/][48-0][49-1][50-2][51-3][52-4][53-5][54-6][55-7][56-8][57-9][58-:][59-;][60-<][61-=][62->][63-?][64-@][65-A][66-B][67-C][68-D][69-E][70-F][71-G][72-H][73-I][74-J][75-K][76-L][77-M][78-N][79-O][80-P][81-Q][82-R][83-S][84-T][85-U][86-V][87-W][88-X][89-Y][90-Z][91-[][92-\\][93-]][94-^][95-_][96-`][97-a][98-b][99-c][100-d][101-e][102-f][103-g][104-h][105-i][106-j][107-k][108-l][109-m][110-n][111-o][112-p][113-q][114-r][115-s][116-t][117-u][118-v][119-w][120-x][121-y][122-z][123-{][124-|][125-}][126-~][127-][128-][129-][130-][131-][132-][133-",
      "][134-][135-][136-][137-][138-][139-][140-][141-][142-][143-][144-][145-][146-][147-][148-][149-][150-][151-][152-]"
     ]
    }
   ],
   "source": [
    "str=\"The Car!\"\n",
    "for s in str:\n",
    "    print(ord(s),s,type(s))\n",
    "for i in range(32,153):\n",
    "    print(f'[{i}-{chr(i)}]', end='')"
   ]
  },
  {
   "cell_type": "code",
   "execution_count": 10,
   "metadata": {},
   "outputs": [
    {
     "name": "stdout",
     "output_type": "stream",
     "text": [
      "A - isdigit False - isalpha True\n",
      "b - isdigit False - isalpha True\n",
      "2 - isdigit True - isalpha False\n",
      "! - isdigit False - isalpha False\n"
     ]
    }
   ],
   "source": [
    "test=\"Ab2!\"\n",
    "for c in test:\n",
    "    print(c,\"- isdigit\",c.isdigit(),\"- isalpha\",c.isalpha())"
   ]
  },
  {
   "cell_type": "markdown",
   "metadata": {},
   "source": [
    "### Multi-line String\n",
    "Since Python will ignore string literals that are not assigned to a variable, you can add a multiline string (triple quotes) in your code, and place your comment inside it:"
   ]
  },
  {
   "cell_type": "code",
   "execution_count": 3,
   "metadata": {},
   "outputs": [
    {
     "name": "stdout",
     "output_type": "stream",
     "text": [
      "A is a two\n",
      "line string\n"
     ]
    }
   ],
   "source": [
    "\"\"\"\n",
    "This is a comment\n",
    "written in more than just one line\n",
    "\"\"\"\n",
    "a = \"\"\"A is a two\n",
    "line string\"\"\"\n",
    "print(a) \n"
   ]
  },
  {
   "cell_type": "markdown",
   "metadata": {},
   "source": [
    "### Sorting\n",
    "Using sorted()"
   ]
  },
  {
   "cell_type": "code",
   "execution_count": 21,
   "metadata": {},
   "outputs": [
    {
     "name": "stdout",
     "output_type": "stream",
     "text": [
      "[' ', ' ', ' ', ' ', 'T', 'a', 'b', 'e', 'f', 'h', 'i', 'i', 'i', 'k', 'm', 'o', 'o', 'o', 'r', 's', 's', 't', 'v', 'y']\n",
      "    Tabefhiiikmooorsstvy\n",
      "This is my favorite book\n",
      "['This', 'book', 'favorite', 'is', 'my']\n",
      "['This', 'is', 'my', 'favorite', 'book']\n"
     ]
    }
   ],
   "source": [
    "str = \"This is my favorite book\"\n",
    "print(sorted(str))\n",
    "print(str)\n",
    "st = str.split()\n",
    "print(sorted(st))\n",
    "print(st)"
   ]
  },
  {
   "cell_type": "markdown",
   "metadata": {},
   "source": [
    "### Built-in String functions\n",
    "#### lower() replace()"
   ]
  },
  {
   "cell_type": "code",
   "execution_count": 11,
   "metadata": {},
   "outputs": [
    {
     "name": "stdout",
     "output_type": "stream",
     "text": [
      "Hello, World! Leo\n",
      "heLLLLo, worLLd! LLeo\n"
     ]
    }
   ],
   "source": [
    "a = \"Hello, World! Leo\"\n",
    "b = a.lower().replace(\"l\", \"LL\")\n",
    "print(a)\n",
    "print(b)"
   ]
  },
  {
   "cell_type": "markdown",
   "metadata": {},
   "source": [
    "#### strip()\n",
    "Python String strip() function will remove leading and trailing whitespaces. If you want to remove only leading or trailing spaces, use **lstrip()** or **rstrip()** function instead."
   ]
  },
  {
   "cell_type": "code",
   "execution_count": 7,
   "metadata": {},
   "outputs": [
    {
     "name": "stdout",
     "output_type": "stream",
     "text": [
      "[ Hello \n",
      "] 9\n",
      "[Hello] 5\n",
      "[Hello \n",
      "] 8\n",
      "[ Hello] 6\n"
     ]
    }
   ],
   "source": [
    "a = \" Hello \\n\\r\"\n",
    "print('['+a+']',len(a))\n",
    "print('['+a.strip()+']',len(a.strip()))\n",
    "print('['+a.lstrip()+']',len(a.lstrip()))\n",
    "print('['+a.rstrip()+']',len(a.rstrip())) # only leading or trailing spaces, use lstrip() or rstrip()."
   ]
  },
  {
   "cell_type": "markdown",
   "metadata": {},
   "source": [
    "#### Join"
   ]
  },
  {
   "cell_type": "code",
   "execution_count": 22,
   "metadata": {},
   "outputs": [
    {
     "name": "stdout",
     "output_type": "stream",
     "text": [
      "[' ', ' ', ' ', ' ', 'T', 'a', 'b', 'e', 'f', 'h', 'i', 'i', 'i', 'k', 'm', 'o', 'o', 'o', 'r', 's', 's', 't', 'v', 'y']\n",
      "    Tabefhiiikmooorsstvy\n"
     ]
    }
   ],
   "source": [
    "str = \"This is my favorite book\"\n",
    "print(sorted(str))\n",
    "print(''.join(sorted(str)))"
   ]
  },
  {
   "cell_type": "code",
   "execution_count": null,
   "metadata": {},
   "outputs": [],
   "source": []
  }
 ],
 "metadata": {
  "kernelspec": {
   "display_name": "Python 3",
   "language": "python",
   "name": "python3"
  },
  "language_info": {
   "codemirror_mode": {
    "name": "ipython",
    "version": 3
   },
   "file_extension": ".py",
   "mimetype": "text/x-python",
   "name": "python",
   "nbconvert_exporter": "python",
   "pygments_lexer": "ipython3",
   "version": "3.9.1"
  }
 },
 "nbformat": 4,
 "nbformat_minor": 4
}
