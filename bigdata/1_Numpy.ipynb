{
 "cells": [
  {
   "cell_type": "markdown",
   "metadata": {},
   "source": [
    "## Numpy Part I\n",
    "**Numpy** is the core library for scientific computing in Python. It provides a high-performance multidimensional array object, and tools for working with these arrays. If you are already familiar with MATLAB, you might find this tutorial useful to get started with Numpy.\n",
    "\n",
    "[This document](http://cs231n.github.io/python-numpy-tutorial/)\n",
    "\n",
    "### ARRAYS\n",
    "A numpy array **numpy.ndarray** is a grid of values, all of the same type, and is indexed by a tuple of nonnegative integers. The number of dimensions is the rank of the array; the shape of an array is a tuple of integers giving the size of the array along each dimension.\n",
    "\n",
    "We can initialize numpy arrays from nested Python lists, and access elements using square brackets:"
   ]
  },
  {
   "cell_type": "code",
   "execution_count": 15,
   "metadata": {},
   "outputs": [
    {
     "name": "stdout",
     "output_type": "stream",
     "text": [
      "type=<class 'numpy.ndarray'> shape=(4,) a[2]=3\n",
      "array changed to [5 2 3 4]\n",
      "[[1 2 3]\n",
      " [4 5 6]] b shape: (2, 3) , [0,0] [0,1] [1,1] = 1 2 5\n"
     ]
    }
   ],
   "source": [
    "import numpy as np\n",
    "\n",
    "a = np.array([1, 2, 3, 4])   # Create a rank 1 array\n",
    "print(f'type={type(a)} shape={a.shape} a[2]={a[2]}')            # Prints \"<class 'numpy.ndarray'>\"\n",
    "a[0] = 5   # Change an element of the array\n",
    "print(f'array changed to {a}')\n",
    "\n",
    "b = np.array([[1,2,3],[4,5,6]])    # Create a rank 2 array\n",
    "print(b, 'b shape:', b.shape, ', [0,0] [0,1] [1,1] =',b[0, 0], b[0, 1], b[1, 1])   # Prints \"1 2 5\""
   ]
  },
  {
   "cell_type": "markdown",
   "metadata": {},
   "source": [
    "### ZEROS ONES FULL EYE RANDOM\n",
    "Numpy also provides many functions to create arrays:"
   ]
  },
  {
   "cell_type": "code",
   "execution_count": 3,
   "metadata": {},
   "outputs": [
    {
     "name": "stdout",
     "output_type": "stream",
     "text": [
      "random array\n",
      " [[17.54326565 89.51814842]\n",
      " [ 6.59973781 47.3876206 ]]\n"
     ]
    }
   ],
   "source": [
    "import numpy as np\n",
    "\n",
    "print(\"random array\\n\",np.random.random((2,2))*100) "
   ]
  },
  {
   "cell_type": "code",
   "execution_count": 3,
   "metadata": {},
   "outputs": [
    {
     "name": "stdout",
     "output_type": "stream",
     "text": [
      "all zeros\n",
      " [[0. 0.]\n",
      " [0. 0.]]\n",
      "all 1s array\n",
      " [[1. 1.]\n",
      " [1. 1.]\n",
      " [1. 1.]\n",
      " [1. 1.]]\n",
      "constant array\n",
      " [[7 7]\n",
      " [7 7]]\n"
     ]
    }
   ],
   "source": [
    "import numpy as np\n",
    "\n",
    "print(\"all zeros\\n\",np.zeros((2,2)))\n",
    "print(\"all 1s array\\n\",np.ones((4,2)))\n",
    "print(\"constant array\\n\",np.full((2,2), 7))"
   ]
  },
  {
   "cell_type": "code",
   "execution_count": 2,
   "metadata": {},
   "outputs": [
    {
     "name": "stdout",
     "output_type": "stream",
     "text": [
      "identity matrix\n",
      " [[1. 0. 0.]\n",
      " [0. 1. 0.]\n",
      " [0. 0. 1.]]\n",
      "random array\n",
      " [[0.33836678 0.50868481]\n",
      " [0.50812727 0.56746153]]\n"
     ]
    }
   ],
   "source": [
    "print(\"identity matrix\\n\", np.eye(3))  # Create a 3x3 identity matrix\n",
    "print(\"random array\\n\",np.random.random((2,2)))  # Create an array filled with random values"
   ]
  },
  {
   "cell_type": "markdown",
   "metadata": {},
   "source": [
    "You can read about other methods of array creation in the [documentation](http://docs.scipy.org/doc/numpy/user/basics.creation.html#arrays-creation).\n",
    "\n",
    "\n",
    "### ARRAY INDEXING\n",
    "Numpy offers several ways to index into arrays.\n",
    "\n",
    "#### Slicing\n",
    "Similar to Python lists, numpy arrays can be sliced. Since arrays may be multidimensional, you must specify a slice for each dimension of the array:"
   ]
  },
  {
   "cell_type": "code",
   "execution_count": 11,
   "metadata": {},
   "outputs": [
    {
     "name": "stdout",
     "output_type": "stream",
     "text": [
      "[[2 3]\n",
      " [6 7]]\n",
      "2\n",
      "77\n"
     ]
    }
   ],
   "source": [
    "a = np.array([[1,2,3,4], [5,6,7,8], [9,10,11,12]]) #  rank 2 array with shape (3, 4)\n",
    "\n",
    "# Use slicing to pull out the subarray consisting of the first 2 rows\n",
    "# and columns 1 and 2; b is the following array of shape (2, 2):\n",
    "b = a[:2, 1:3]\n",
    "print(b)\n",
    "\n",
    "# A slice of an array is a view into the same data, so modifying it\n",
    "# will modify the original array.\n",
    "print(a[0, 1])   # Prints \"2\"\n",
    "b[0, 0] = 77     # b[0, 0] is the same piece of data as a[0, 1]\n",
    "print(a[0, 1])   # Prints \"77\""
   ]
  },
  {
   "cell_type": "markdown",
   "metadata": {},
   "source": [
    "#### Mix integer indexing with slice indexing\n",
    "Doing so will yield an array of lower rank than the original array. Note that this is quite different from the way that MATLAB handles array slicing:"
   ]
  },
  {
   "cell_type": "code",
   "execution_count": 6,
   "metadata": {},
   "outputs": [
    {
     "name": "stdout",
     "output_type": "stream",
     "text": [
      "[5 6 7 8] (4,) <class 'numpy.ndarray'>\n",
      "[[5 6 7 8]] (1, 4) <class 'numpy.ndarray'>\n"
     ]
    }
   ],
   "source": [
    "# Create the following rank 2 array with shape (3, 4)\n",
    "a = np.array([[1,2,3,4], [5,6,7,8], [9,10,11,12]])\n",
    "\n",
    "# Two ways of accessing the data in the middle row of the array.\n",
    "# Mixing integer indexing with slices yields an array of lower rank,\n",
    "# while using only slices yields an array of the same rank as the\n",
    "# original array:\n",
    "row_r1 = a[1, :]    # Rank 1 view of the second row of a\n",
    "row_r2 = a[1:2, :]  # Rank 2 view of the second row of a\n",
    "print(row_r1, row_r1.shape, type(row_r1))  # Prints \"[5 6 7 8] (4,)\"\n",
    "print(row_r2, row_r2.shape, type(row_r2))  # Prints \"[[5 6 7 8]] (1, 4)\""
   ]
  },
  {
   "cell_type": "code",
   "execution_count": 7,
   "metadata": {},
   "outputs": [
    {
     "name": "stdout",
     "output_type": "stream",
     "text": [
      "[ 2  6 10] (3,)\n",
      "[[ 2]\n",
      " [ 6]\n",
      " [10]] (3, 1)\n"
     ]
    }
   ],
   "source": [
    "# We can make the same distinction when accessing columns of an array:\n",
    "col_r1 = a[:, 1]\n",
    "col_r2 = a[:, 1:2]\n",
    "print(col_r1, col_r1.shape)\n",
    "print(col_r2, col_r2.shape)"
   ]
  },
  {
   "cell_type": "markdown",
   "metadata": {},
   "source": [
    "### Integer array indexing\n",
    "When you index into numpy arrays using slicing, the resulting array view will always be a subarray of the original array. In contrast, integer array indexing allows you to construct arbitrary arrays using the data from another array. Here is an example:"
   ]
  },
  {
   "cell_type": "code",
   "execution_count": 15,
   "metadata": {},
   "outputs": [
    {
     "name": "stdout",
     "output_type": "stream",
     "text": [
      "[[1 2]\n",
      " [3 4]\n",
      " [5 6]]\n",
      "[1 4 5]\n",
      "[1 4 5]\n",
      "[2 2]\n"
     ]
    }
   ],
   "source": [
    "a = np.array([[1,2], [3, 4], [5, 6]])\n",
    "print(a)\n",
    "print(a[0, 0], a[1, 1], a[2, 0])\n",
    "print(a[[0, 1, 2], [0, 1, 0]]) # return a (3,) array\n",
    "print(np.array([a[0, 0], a[1, 1], a[2, 0]])) ## equivalent to above \n",
    "\n",
    "# When using integer array indexing, you can reuse the same element from the source array:\n",
    "print(a[[0, 0], [1, 1]])  # Prints \"[2 2]\""
   ]
  },
  {
   "cell_type": "markdown",
   "metadata": {},
   "source": [
    "#### 3-D Array"
   ]
  },
  {
   "cell_type": "code",
   "execution_count": 36,
   "metadata": {},
   "outputs": [
    {
     "name": "stdout",
     "output_type": "stream",
     "text": [
      "[[[33.33374647 27.80437734]\n",
      "  [36.91751616 81.61515512]\n",
      "  [41.11728846  7.19644641]\n",
      "  [21.73148505 52.00446574]]\n",
      "\n",
      " [[44.03664344  1.78243789]\n",
      "  [16.22787234 84.07855837]\n",
      "  [43.65927296 25.97998646]\n",
      "  [59.10431125 97.90453299]]\n",
      "\n",
      " [[35.30427557 12.26823006]\n",
      "  [57.94289189 41.29955597]\n",
      "  [47.87578418 32.92268663]\n",
      "  [47.57675338 93.93946305]]]\n",
      "a[[0,1],[0,1],[0,1]] = [33.33374647 84.07855837]\n",
      "a[[0,1],[0,1]] = [[33.33374647 27.80437734]\n",
      " [16.22787234 84.07855837]]\n"
     ]
    }
   ],
   "source": [
    "a = np.random.random((3,4,2))*100\n",
    "print(a)\n",
    "print('a[[0,1],[0,1],[0,1]] =',a[[0,1],[0,1],[0,1]])\n",
    "print('a[[0,1],[0,1]] =',a[[0,1],[0,1]])"
   ]
  },
  {
   "cell_type": "code",
   "execution_count": 39,
   "metadata": {},
   "outputs": [
    {
     "name": "stdout",
     "output_type": "stream",
     "text": [
      "a[[0]] = [[[33.33374647 27.80437734]\n",
      "  [36.91751616 81.61515512]\n",
      "  [41.11728846  7.19644641]\n",
      "  [21.73148505 52.00446574]]]\n",
      "a[0] = [[33.33374647 27.80437734]\n",
      " [36.91751616 81.61515512]\n",
      " [41.11728846  7.19644641]\n",
      " [21.73148505 52.00446574]]\n",
      "a[0,1] = [36.91751616 81.61515512]\n"
     ]
    }
   ],
   "source": [
    "print('a[[0]] =',a[[0]])\n",
    "print('a[0] =',a[0])\n",
    "print('a[0,1] =',a[0,1])"
   ]
  },
  {
   "cell_type": "markdown",
   "metadata": {},
   "source": [
    "One useful trick with integer array indexing is **selecting or mutating one element from each row** of a matrix using arrange()"
   ]
  },
  {
   "cell_type": "code",
   "execution_count": 41,
   "metadata": {},
   "outputs": [
    {
     "name": "stdout",
     "output_type": "stream",
     "text": [
      "(4, 3)\n",
      "np.arange(4): [0 1 2 3]\n",
      "[ 1  6  7 11]\n",
      "[[11  2  3]\n",
      " [ 4  5 16]\n",
      " [17  8  9]\n",
      " [10 21 12]]\n"
     ]
    }
   ],
   "source": [
    "import numpy as np\n",
    "\n",
    "# Create a new array from which we will select elements\n",
    "a = np.array([[1,2,3], [4,5,6], [7,8,9], [10, 11, 12]])\n",
    "print(a.shape)\n",
    "\n",
    "# Create an array of indices\n",
    "b = np.array([0, 2, 0, 1])\n",
    "\n",
    "print('np.arange(4):',np.arange(4)) # n : number of rows\n",
    "# Select one element from each row of a using the indices in b\n",
    "print(a[np.arange(4), b])\n",
    "\n",
    "# Mutate one element from each row of a using the indices in b\n",
    "a[np.arange(4), b] += 10\n",
    "print(a)"
   ]
  },
  {
   "cell_type": "markdown",
   "metadata": {},
   "source": [
    "### Boolean array indexing\n",
    "Boolean array indexing lets you pick out arbitrary elements of an array. Frequently this type of indexing is used to select the elements of an array that satisfy some condition. Here is an example:"
   ]
  },
  {
   "cell_type": "code",
   "execution_count": 15,
   "metadata": {},
   "outputs": [
    {
     "name": "stdout",
     "output_type": "stream",
     "text": [
      "[[False  True]\n",
      " [False  True]\n",
      " [False  True]]\n",
      "[2 4 6]\n",
      "[3 4 5 6]\n"
     ]
    }
   ],
   "source": [
    "import numpy as np\n",
    "\n",
    "a = np.array([[1,2], [3, 4], [5, 6]])\n",
    "bool_idx = (a % 2 == 0)\n",
    "print(bool_idx)\n",
    "\n",
    "# We use boolean array indexing to construct a rank 1 array consisting\n",
    "# of the elements of a corresponding to the True values of bool_idx\n",
    "print(a[bool_idx])\n",
    "\n",
    "# We can do all of the above in a single concise statement:\n",
    "print(a[a > 2])"
   ]
  },
  {
   "cell_type": "markdown",
   "metadata": {},
   "source": [
    "For brevity we have left out a lot of details about numpy array indexing; if you want to know more you should read the [documentation](http://docs.scipy.org/doc/numpy/reference/arrays.indexing.html).\n",
    "\n",
    "### Numpy Aggregate Functions"
   ]
  },
  {
   "cell_type": "code",
   "execution_count": 1,
   "metadata": {},
   "outputs": [
    {
     "name": "stdout",
     "output_type": "stream",
     "text": [
      "Mean:  35.0\n",
      "Std:  17.07825127659933\n",
      "Var:  291.6666666666667\n",
      "Sum:  210\n",
      "Prod:  720000000\n"
     ]
    }
   ],
   "source": [
    "import numpy as np\n",
    " \n",
    "array1 = np.array([[10, 20, 30], [40, 50, 60]])\n",
    "print(\"Mean: \", np.mean(array1))\n",
    "print(\"Std: \", np.std(array1)) \n",
    "print(\"Var: \", np.var(array1))\n",
    "print(\"Sum: \", np.sum(array1))\n",
    "print(\"Prod: \", np.prod(array1))"
   ]
  },
  {
   "cell_type": "code",
   "execution_count": null,
   "metadata": {},
   "outputs": [],
   "source": []
  }
 ],
 "metadata": {
  "kernelspec": {
   "display_name": "Python 3",
   "language": "python",
   "name": "python3"
  },
  "language_info": {
   "codemirror_mode": {
    "name": "ipython",
    "version": 3
   },
   "file_extension": ".py",
   "mimetype": "text/x-python",
   "name": "python",
   "nbconvert_exporter": "python",
   "pygments_lexer": "ipython3",
   "version": "3.8.6"
  }
 },
 "nbformat": 4,
 "nbformat_minor": 4
}
