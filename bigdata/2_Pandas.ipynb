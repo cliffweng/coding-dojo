{
 "cells": [
  {
   "cell_type": "markdown",
   "metadata": {},
   "source": [
    "## 10 Minutes to pandas\n",
    "\n",
    "This is a short introduction to pandas, geared mainly for new users. You can see more complex recipes in the [Cookbook](https://pandas.pydata.org/pandas-docs/stable/user_guide/cookbook.html#cookbook).\n",
    "\n",
    "Customarily, we import as follows:"
   ]
  },
  {
   "cell_type": "code",
   "execution_count": 1,
   "metadata": {},
   "outputs": [],
   "source": [
    "import numpy as np\n",
    "import pandas as pd"
   ]
  },
  {
   "cell_type": "markdown",
   "metadata": {},
   "source": [
    "### Object Creation\n",
    "See the [Data Structure Intro section](https://pandas.pydata.org/pandas-docs/stable/getting_started/dsintro.html#dsintro).\n",
    "\n",
    "Creating [a Series](https://pandas.pydata.org/pandas-docs/stable/reference/api/pandas.Series.html#pandas.Series) by passing a list of values, letting pandas create a default integer index:"
   ]
  },
  {
   "cell_type": "code",
   "execution_count": 13,
   "metadata": {},
   "outputs": [
    {
     "name": "stdout",
     "output_type": "stream",
     "text": [
      "0    1.0\n",
      "1    3.0\n",
      "2    5.0\n",
      "3    NaN\n",
      "4    6.0\n",
      "5    8.0\n",
      "dtype: float64\n",
      "0     1.538519\n",
      "1   -11.222734\n",
      "2   -17.116437\n",
      "3     4.888461\n",
      "4    -5.895472\n",
      "5    -4.080093\n",
      "dtype: float64\n"
     ]
    }
   ],
   "source": [
    "s1 = pd.Series([1, 3, 5, np.nan, 6, 8])\n",
    "s2 = pd.Series(np.random.randn(6)*10)\n",
    "print(s1)\n",
    "print(s2)"
   ]
  },
  {
   "cell_type": "markdown",
   "metadata": {},
   "source": [
    "### Create a Dataframe from Series\n",
    "[Geek2Geek](https://www.geeksforgeeks.org/creating-a-dataframe-from-pandas-series/)"
   ]
  },
  {
   "cell_type": "code",
   "execution_count": 17,
   "metadata": {},
   "outputs": [
    {
     "data": {
      "text/html": [
       "<div>\n",
       "<style scoped>\n",
       "    .dataframe tbody tr th:only-of-type {\n",
       "        vertical-align: middle;\n",
       "    }\n",
       "\n",
       "    .dataframe tbody tr th {\n",
       "        vertical-align: top;\n",
       "    }\n",
       "\n",
       "    .dataframe thead th {\n",
       "        text-align: right;\n",
       "    }\n",
       "</style>\n",
       "<table border=\"1\" class=\"dataframe\">\n",
       "  <thead>\n",
       "    <tr style=\"text-align: right;\">\n",
       "      <th></th>\n",
       "      <th>Author</th>\n",
       "      <th>Article</th>\n",
       "    </tr>\n",
       "  </thead>\n",
       "  <tbody>\n",
       "    <tr>\n",
       "      <th>0</th>\n",
       "      <td>Jitender</td>\n",
       "      <td>210</td>\n",
       "    </tr>\n",
       "    <tr>\n",
       "      <th>1</th>\n",
       "      <td>Purnima</td>\n",
       "      <td>211</td>\n",
       "    </tr>\n",
       "    <tr>\n",
       "      <th>2</th>\n",
       "      <td>Arpit</td>\n",
       "      <td>114</td>\n",
       "    </tr>\n",
       "    <tr>\n",
       "      <th>3</th>\n",
       "      <td>Jyoti</td>\n",
       "      <td>178</td>\n",
       "    </tr>\n",
       "  </tbody>\n",
       "</table>\n",
       "</div>"
      ],
      "text/plain": [
       "     Author  Article\n",
       "0  Jitender      210\n",
       "1   Purnima      211\n",
       "2     Arpit      114\n",
       "3     Jyoti      178"
      ]
     },
     "execution_count": 17,
     "metadata": {},
     "output_type": "execute_result"
    }
   ],
   "source": [
    "# List -> Series -> DataFrame\n",
    "author = ['Jitender', 'Purnima', 'Arpit', 'Jyoti'] \n",
    "article = [210, 211, 114, 178] \n",
    "\n",
    "auth_series = pd.Series(author) \n",
    "article_series = pd.Series(article)\n",
    "\n",
    "result = pd.DataFrame({ 'Author': auth_series, 'Article': article_series })\n",
    "result"
   ]
  },
  {
   "cell_type": "markdown",
   "metadata": {},
   "source": [
    "### Creating a [DataFrame](https://pandas.pydata.org/pandas-docs/stable/reference/api/pandas.DataFrame.html#pandas.DataFrame) by passing a NumPy array\n",
    "with a datetime index and labeled columns:"
   ]
  },
  {
   "cell_type": "code",
   "execution_count": 24,
   "metadata": {},
   "outputs": [
    {
     "name": "stdout",
     "output_type": "stream",
     "text": [
      "DatetimeIndex(['2013-01-01', '2013-01-02', '2013-01-03', '2013-01-04'], dtype='datetime64[ns]', freq='D')\n",
      "['A', 'B', 'C', 'D']\n"
     ]
    }
   ],
   "source": [
    "dates = pd.date_range('20130101', periods=4)\n",
    "print(dates)\n",
    "print(list('ABCD'))"
   ]
  },
  {
   "cell_type": "code",
   "execution_count": 25,
   "metadata": {},
   "outputs": [
    {
     "name": "stdout",
     "output_type": "stream",
     "text": [
      "[[ 0.87920771  1.72217584]\n",
      " [-0.55548284  1.43188895]\n",
      " [ 1.97257965  1.2434183 ]\n",
      " [ 1.0438864   0.16866866]]\n",
      "          0         1\n",
      "0  0.879208  1.722176\n",
      "1 -0.555483  1.431889\n",
      "2  1.972580  1.243418\n",
      "3  1.043886  0.168669\n",
      "                   A         B\n",
      "2013-01-01  0.879208  1.722176\n",
      "2013-01-02 -0.555483  1.431889\n",
      "2013-01-03  1.972580  1.243418\n",
      "2013-01-04  1.043886  0.168669\n"
     ]
    }
   ],
   "source": [
    "arr = np.random.randn(4, 2)\n",
    "print(arr)\n",
    "print(pd.DataFrame(arr))\n",
    "print(pd.DataFrame(arr, index=dates, columns=list('AB')))"
   ]
  },
  {
   "cell_type": "markdown",
   "metadata": {},
   "source": [
    "### Creating a DataFrame by passing a dict of objects\n",
    "\n",
    "that can be converted to series-like: a constant value will be duplicated, or a Series, an array or Categorical."
   ]
  },
  {
   "cell_type": "code",
   "execution_count": 20,
   "metadata": {},
   "outputs": [
    {
     "name": "stdout",
     "output_type": "stream",
     "text": [
      "           A          B    C  D      E    F          G\n",
      "0 2013-01-01 2013-01-02  1.0  3   test  foo  78.622345\n",
      "1 2013-01-02 2013-01-02  1.0  3  train  foo  43.795872\n",
      "2 2013-01-03 2013-01-02  1.0  3   test  foo  40.132256\n",
      "3 2013-01-04 2013-01-02  1.0  3  train  foo  25.224916\n",
      "(4, 7) A    datetime64[ns]\n",
      "B    datetime64[ns]\n",
      "C           float32\n",
      "D             int32\n",
      "E          category\n",
      "F            object\n",
      "G           float64\n",
      "dtype: object\n"
     ]
    }
   ],
   "source": [
    "df2 = pd.DataFrame({'A': pd.date_range('20130101', periods=4),\n",
    "'B': pd.Timestamp('20130102'),\n",
    "'C': pd.Series(1, index=list(range(4)), dtype='float32'),\n",
    "'D': np.array([3] * 4, dtype='int32'),\n",
    "'E': pd.Categorical([\"test\", \"train\", \"test\", \"train\"]),\n",
    "'F': 'foo',\n",
    "'G': np.random.random((4))*100})\n",
    "print(df2)\n",
    "print(df2.shape, df2.dtypes) # The columns of the resulting DataFrame have different dtypes."
   ]
  },
  {
   "cell_type": "markdown",
   "metadata": {},
   "source": [
    "The columns of the resulting DataFrame have different dtypes."
   ]
  },
  {
   "cell_type": "code",
   "execution_count": 15,
   "metadata": {},
   "outputs": [
    {
     "data": {
      "text/plain": [
       "(4, 6)"
      ]
     },
     "execution_count": 15,
     "metadata": {},
     "output_type": "execute_result"
    }
   ],
   "source": [
    "## Try typing Tab after the \".\" and you should see A, B, C, among other built-in attributes\n",
    "df2.shape"
   ]
  },
  {
   "cell_type": "markdown",
   "metadata": {},
   "source": [
    "Learning continue [here](https://pandas.pydata.org/pandas-docs/stable/getting_started/10min.html)"
   ]
  }
 ],
 "metadata": {
  "kernelspec": {
   "display_name": "Python 3.10.5 64-bit (windows store)",
   "language": "python",
   "name": "python3"
  },
  "language_info": {
   "codemirror_mode": {
    "name": "ipython",
    "version": 3
   },
   "file_extension": ".py",
   "mimetype": "text/x-python",
   "name": "python",
   "nbconvert_exporter": "python",
   "pygments_lexer": "ipython3",
   "version": "3.10.5"
  },
  "vscode": {
   "interpreter": {
    "hash": "5f8878b0f690054f0bb624dd21021a17c04063c2283a46d93fb7a93295eb9eff"
   }
  }
 },
 "nbformat": 4,
 "nbformat_minor": 4
}
